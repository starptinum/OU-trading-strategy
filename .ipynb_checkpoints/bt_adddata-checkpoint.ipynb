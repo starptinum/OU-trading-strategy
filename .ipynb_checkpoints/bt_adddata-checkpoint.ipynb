{
 "cells": [
  {
   "cell_type": "code",
   "execution_count": 9,
   "id": "43e0f994",
   "metadata": {},
   "outputs": [
    {
     "ename": "SyntaxError",
     "evalue": "invalid syntax (3021400597.py, line 5)",
     "output_type": "error",
     "traceback": [
      "\u001b[0;36m  Cell \u001b[0;32mIn[9], line 5\u001b[0;36m\u001b[0m\n\u001b[0;31m    Date\tOpen\tHigh\tLow\tClose\tAdj Close\tVolume\tRelative Share Price Momentum\tBeta\tRSI_14D\tavg bid ask\tsales growth\tshort selling ratio_quarterly\tNet debt-cashflow\tInstitution holdings_quarterly\tMA10D\tROE\tInstitution holdings_weekly\tMA50D\tMA200D\tpx_last\tBV-Market\tEPS\tshort selling ratio_biweekly\tRSI_9D\tvolume\u001b[0m\n\u001b[0m        \t^\u001b[0m\n\u001b[0;31mSyntaxError\u001b[0m\u001b[0;31m:\u001b[0m invalid syntax\n"
     ]
    }
   ],
   "source": [
    "import sys\n",
    "sys.path.append(\"/Applications/anaconda3/lib/python3.11/site-packages/\")\n",
    "from datetime import datetime \n",
    "import backtrader as bt\n",
    "Date\tOpen\tHigh\tLow\tClose\tAdj Close\tVolume\tRelative Share Price Momentum\tBeta\tRSI_14D\tavg bid ask\tsales growth\tshort selling ratio_quarterly\tNet debt-cashflow\t\n",
    "Institution holdings_quarterly\tMA10D\tROE\tInstitution holdings_weekly\tMA50D\tMA200D\tpx_last\tBV-Market\n",
    "EPS\tshort selling ratio_biweekly\tRSI_9D\tvolume\n",
    "\n",
    "class full_data(bt.feeds.GenericCSVData):\n",
    "    lines = ('rltv_px_mom', 'beta', 'rsi_14d', 'avgbidask', 'sales_growth', \n",
    "             'ss_ratio_q', 'netdebtCF', 'insti_holdings_q', 'ma_10d', 'ROE',\n",
    "             'insti_holdings_w', 'ma_50d', 'ma_200d', 'px_last', 'BV-MarketEPS', \n",
    "             'ss_ratio_bw', 'rsi_9d', 'volume_bbg')\n",
    "\n",
    "    # -1 means exclude column\n",
    "    params = (\n",
    "        ('dtformat', '%Y-%m-%d'),  \n",
    "        ('datetime', 0),  \n",
    "        ('time', -1),  \n",
    "        ('open', 1),  \n",
    "        ('high', 2),  \n",
    "        ('low', 3),  \n",
    "        ('close', 5),  \n",
    "        ('volume', 6),\n",
    "        ('openinterest', -1)\n",
    "        \n",
    "        # Add the remaining column indexes accordingly\n",
    "        ('col1', 5),\n",
    "        ('rltv_px_mom', 'beta', 'rsi_14d', 'avgbidask', 'sales_growth', \n",
    "             'ss_ratio_q', 'netdebtCF', 'insti_holdings_q', 'ma_10d', 'ROE',\n",
    "             'insti_holdings_w', 'ma_50d', 'ma_200d', 'px_last', 'BV-MarketEPS', \n",
    "             'ss_ratio_bw', 'rsi_9d', 'volume_bbg')\n",
    "        # Settings\n",
    "        ('nullvalue', 0.0),  # Value to use for missing/null values\n",
    "        ('headers', True),  # all csv data has headers\n",
    "    )\n",
    "\n"
   ]
  },
  {
   "cell_type": "code",
   "execution_count": null,
   "id": "30da3c2e",
   "metadata": {},
   "outputs": [],
   "source": [
    "if __name__ == '__main__':\n",
    "    "
   ]
  },
  {
   "cell_type": "code",
   "execution_count": null,
   "id": "0820464b",
   "metadata": {},
   "outputs": [],
   "source": []
  }
 ],
 "metadata": {
  "kernelspec": {
   "display_name": "Python 3 (ipykernel)",
   "language": "python",
   "name": "python3"
  },
  "language_info": {
   "codemirror_mode": {
    "name": "ipython",
    "version": 3
   },
   "file_extension": ".py",
   "mimetype": "text/x-python",
   "name": "python",
   "nbconvert_exporter": "python",
   "pygments_lexer": "ipython3",
   "version": "3.11.5"
  }
 },
 "nbformat": 4,
 "nbformat_minor": 5
}
