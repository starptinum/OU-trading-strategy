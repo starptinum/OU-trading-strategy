{
 "cells": [
  {
   "cell_type": "code",
   "execution_count": 1,
   "id": "initial_id",
   "metadata": {
    "collapsed": true,
    "ExecuteTime": {
     "end_time": "2024-04-02T08:03:59.759284Z",
     "start_time": "2024-04-02T08:03:58.560289Z"
    }
   },
   "outputs": [
    {
     "name": "stderr",
     "output_type": "stream",
     "text": [
      "/Users/jeffrey/PycharmProjects/fina4380/.venv/lib/python3.9/site-packages/pyfolio/pos.py:26: UserWarning: Module \"zipline.assets\" not found; mutltipliers will not be applied to position notionals.\n",
      "  warnings.warn(\n"
     ]
    }
   ],
   "source": [
    "from bt_data_feeds import PandasData\n",
    "from Ornstein_Uhlenbeck import Ornstein_Uhlenbeck\n",
    "import backtrader as bt\n",
    "import numpy as np\n",
    "import pandas as pd\n",
    "import pyfolio as pf"
   ]
  },
  {
   "cell_type": "code",
   "outputs": [],
   "source": [
    "stock_list = ['SLV', 'SIL']\n",
    "stock_dict = {}\n",
    "for stock in stock_list:\n",
    "    stock_dict[stock] = pd.read_csv('data/{}.csv'.format(stock), index_col='Date', parse_dates=['Date'])"
   ],
   "metadata": {
    "collapsed": false,
    "ExecuteTime": {
     "end_time": "2024-04-02T08:03:59.930107Z",
     "start_time": "2024-04-02T08:03:59.911033Z"
    }
   },
   "id": "f271aa197b212b90",
   "execution_count": 2
  },
  {
   "cell_type": "code",
   "outputs": [],
   "source": [
    "class MyStrategy(bt.Strategy):\n",
    "    def __init__(self):\n",
    "        self.St = {stock_list[0]: np.array([]),\n",
    "                   stock_list[1]: np.array([])\n",
    "                   }\n",
    "        self.model = Ornstein_Uhlenbeck(stock_dict[stock_list[0]]['Adj Close'].to_numpy()[:252], \n",
    "                                        stock_dict[stock_list[1]]['Adj Close'].to_numpy()[:252])\n",
    "        self.a = 0.01\n",
    "        self.signal = 0\n",
    "        self.pos = 0\n",
    "        self.portfolio_values = np.array([])\n",
    "    \n",
    "    def signal_generation(self):\n",
    "        Xt = self.model.alpha * self.St[stock_list[0]][-1] - self.model.beta * self.St[stock_list[1]][-1]\n",
    "        \n",
    "        if self.signal == 1:\n",
    "            signal = 0 if Xt >= self.model.mu else 1\n",
    "        elif self.signal == -1:\n",
    "            signal = 0 if Xt <= self.model.mu else -1\n",
    "        else:\n",
    "            if Xt > np.quantile(self.model.X, 1 - self.a):\n",
    "                signal = -1\n",
    "            elif Xt < np.quantile(self.model.X, self.a):\n",
    "                signal = 1\n",
    "            else:\n",
    "                signal = 0\n",
    "        return signal\n",
    "        \n",
    "    def close_positions(self):\n",
    "        for data in self.datas:\n",
    "            self.close(data=data)\n",
    "            \n",
    "    def next(self):\n",
    "        for data in self.datas:\n",
    "            self.St[data._name] = np.append(self.St[data._name], data.adjclose[0])\n",
    "\n",
    "        self.signal = self.signal_generation()\n",
    "    \n",
    "        if self.signal == 1:\n",
    "            if self.pos == 0:\n",
    "                self.buy(data=self.datas[0], size=cerebro.broker.get_value() * self.model.alpha)\n",
    "                self.sell(data=self.datas[1], size=cerebro.broker.get_value() * self.model.beta)\n",
    "        elif self.signal == -1:\n",
    "            if self.pos == 0:\n",
    "                self.sell(data=self.datas[0], size=cerebro.broker.get_value() * self.model.alpha)\n",
    "                self.buy(data=self.datas[1], size=cerebro.broker.get_value() * self.model.beta)\n",
    "        elif self.signal == 0:\n",
    "            if self.pos != 0:\n",
    "                self.close_positions()\n",
    "        self.pos = self.signal\n",
    "                \n",
    "        if len(self.St[stock_list[0]]) != 0 and len(self.St[stock_list[0]]) % 252 == 0:\n",
    "            self.model = Ornstein_Uhlenbeck(self.St[stock_list[0]][-252:], self.St[stock_list[1]][-252:])\n",
    "        \n",
    "        self.portfolio_values = np.append(self.portfolio_values, self.broker.getvalue())"
   ],
   "metadata": {
    "collapsed": false,
    "ExecuteTime": {
     "end_time": "2024-04-02T08:04:00.490748Z",
     "start_time": "2024-04-02T08:04:00.485240Z"
    }
   },
   "id": "ab1097d049006c34",
   "execution_count": 3
  },
  {
   "cell_type": "code",
   "outputs": [],
   "source": [
    "cerebro = bt.Cerebro()\n",
    "\n",
    "data_feed_dict = {}\n",
    "for stock in stock_list:\n",
    "    data_feed_dict[stock] = PandasData(dataname=stock_dict[stock].iloc[252:], name=stock)\n",
    "    cerebro.adddata(data_feed_dict[stock])\n",
    "\n",
    "cerebro.addstrategy(MyStrategy)\n",
    "cerebro.broker.setcash(100000000)"
   ],
   "metadata": {
    "collapsed": false,
    "ExecuteTime": {
     "end_time": "2024-04-02T08:04:00.825396Z",
     "start_time": "2024-04-02T08:04:00.820386Z"
    }
   },
   "id": "8dc3dbe980790292",
   "execution_count": 4
  },
  {
   "cell_type": "code",
   "outputs": [
    {
     "ename": "AttributeError",
     "evalue": "'Series' object has no attribute 'iteritems'",
     "output_type": "error",
     "traceback": [
      "\u001B[0;31m---------------------------------------------------------------------------\u001B[0m",
      "\u001B[0;31mAttributeError\u001B[0m                            Traceback (most recent call last)",
      "\u001B[0;32m/var/folders/vn/7gn595mn0z3frgf4pszn8c4h0000gn/T/ipykernel_98706/2595795380.py\u001B[0m in \u001B[0;36m?\u001B[0;34m()\u001B[0m\n\u001B[0;32m----> 6\u001B[0;31m \u001B[0;31m# Run the backtest\u001B[0m\u001B[0;34m\u001B[0m\u001B[0;34m\u001B[0m\u001B[0m\n\u001B[0m\u001B[1;32m      7\u001B[0m \u001B[0mcerebro\u001B[0m\u001B[0;34m.\u001B[0m\u001B[0maddanalyzer\u001B[0m\u001B[0;34m(\u001B[0m\u001B[0mbt\u001B[0m\u001B[0;34m.\u001B[0m\u001B[0manalyzers\u001B[0m\u001B[0;34m.\u001B[0m\u001B[0mPyFolio\u001B[0m\u001B[0;34m,\u001B[0m \u001B[0m_name\u001B[0m\u001B[0;34m=\u001B[0m\u001B[0;34m'pyfolio'\u001B[0m\u001B[0;34m)\u001B[0m\u001B[0;34m\u001B[0m\u001B[0;34m\u001B[0m\u001B[0m\n\u001B[1;32m      8\u001B[0m \u001B[0mresults\u001B[0m \u001B[0;34m=\u001B[0m \u001B[0mcerebro\u001B[0m\u001B[0;34m.\u001B[0m\u001B[0mrun\u001B[0m\u001B[0;34m(\u001B[0m\u001B[0;34m)\u001B[0m\u001B[0;34m\u001B[0m\u001B[0;34m\u001B[0m\u001B[0m\n\u001B[1;32m      9\u001B[0m \u001B[0mpyfolio_analyzer\u001B[0m \u001B[0;34m=\u001B[0m \u001B[0mresults\u001B[0m\u001B[0;34m[\u001B[0m\u001B[0;36m0\u001B[0m\u001B[0;34m]\u001B[0m\u001B[0;34m.\u001B[0m\u001B[0manalyzers\u001B[0m\u001B[0;34m.\u001B[0m\u001B[0mpyfolio\u001B[0m\u001B[0;34m\u001B[0m\u001B[0;34m\u001B[0m\u001B[0m\n",
      "\u001B[0;32m~/PycharmProjects/fina4380/.venv/lib/python3.9/site-packages/pyfolio/tears.py\u001B[0m in \u001B[0;36m?\u001B[0;34m(returns, positions, transactions, market_data, benchmark_rets, slippage, live_start_date, sector_mappings, bayesian, round_trips, estimate_intraday, hide_positions, cone_std, bootstrap, unadjusted_returns, style_factor_panel, sectors, caps, shares_held, volumes, percentile, turnover_denom, set_context, factor_returns, factor_loadings, pos_in_dollars, header_rows, factor_partitions)\u001B[0m\n\u001B[1;32m    197\u001B[0m \u001B[0;34m\u001B[0m\u001B[0m\n\u001B[1;32m    198\u001B[0m     positions = utils.check_intraday(estimate_intraday, returns,\n\u001B[1;32m    199\u001B[0m                                      positions, transactions)\n\u001B[1;32m    200\u001B[0m \u001B[0;34m\u001B[0m\u001B[0m\n\u001B[0;32m--> 201\u001B[0;31m     create_returns_tear_sheet(\n\u001B[0m\u001B[1;32m    202\u001B[0m         \u001B[0mreturns\u001B[0m\u001B[0;34m,\u001B[0m\u001B[0;34m\u001B[0m\u001B[0;34m\u001B[0m\u001B[0m\n\u001B[1;32m    203\u001B[0m         \u001B[0mpositions\u001B[0m\u001B[0;34m=\u001B[0m\u001B[0mpositions\u001B[0m\u001B[0;34m,\u001B[0m\u001B[0;34m\u001B[0m\u001B[0;34m\u001B[0m\u001B[0m\n\u001B[1;32m    204\u001B[0m         \u001B[0mtransactions\u001B[0m\u001B[0;34m=\u001B[0m\u001B[0mtransactions\u001B[0m\u001B[0;34m,\u001B[0m\u001B[0;34m\u001B[0m\u001B[0;34m\u001B[0m\u001B[0m\n",
      "\u001B[0;32m~/PycharmProjects/fina4380/.venv/lib/python3.9/site-packages/pyfolio/plotting.py\u001B[0m in \u001B[0;36m?\u001B[0;34m(*args, **kwargs)\u001B[0m\n\u001B[1;32m     48\u001B[0m     \u001B[0;32mdef\u001B[0m \u001B[0mcall_w_context\u001B[0m\u001B[0;34m(\u001B[0m\u001B[0;34m*\u001B[0m\u001B[0margs\u001B[0m\u001B[0;34m,\u001B[0m \u001B[0;34m**\u001B[0m\u001B[0mkwargs\u001B[0m\u001B[0;34m)\u001B[0m\u001B[0;34m:\u001B[0m\u001B[0;34m\u001B[0m\u001B[0;34m\u001B[0m\u001B[0m\n\u001B[1;32m     49\u001B[0m         \u001B[0mset_context\u001B[0m \u001B[0;34m=\u001B[0m \u001B[0mkwargs\u001B[0m\u001B[0;34m.\u001B[0m\u001B[0mpop\u001B[0m\u001B[0;34m(\u001B[0m\u001B[0;34m'set_context'\u001B[0m\u001B[0;34m,\u001B[0m \u001B[0;32mTrue\u001B[0m\u001B[0;34m)\u001B[0m\u001B[0;34m\u001B[0m\u001B[0;34m\u001B[0m\u001B[0m\n\u001B[1;32m     50\u001B[0m         \u001B[0;32mif\u001B[0m \u001B[0mset_context\u001B[0m\u001B[0;34m:\u001B[0m\u001B[0;34m\u001B[0m\u001B[0;34m\u001B[0m\u001B[0m\n\u001B[1;32m     51\u001B[0m             \u001B[0;32mwith\u001B[0m \u001B[0mplotting_context\u001B[0m\u001B[0;34m(\u001B[0m\u001B[0;34m)\u001B[0m\u001B[0;34m,\u001B[0m \u001B[0maxes_style\u001B[0m\u001B[0;34m(\u001B[0m\u001B[0;34m)\u001B[0m\u001B[0;34m:\u001B[0m\u001B[0;34m\u001B[0m\u001B[0;34m\u001B[0m\u001B[0m\n\u001B[0;32m---> 52\u001B[0;31m                 \u001B[0;32mreturn\u001B[0m \u001B[0mfunc\u001B[0m\u001B[0;34m(\u001B[0m\u001B[0;34m*\u001B[0m\u001B[0margs\u001B[0m\u001B[0;34m,\u001B[0m \u001B[0;34m**\u001B[0m\u001B[0mkwargs\u001B[0m\u001B[0;34m)\u001B[0m\u001B[0;34m\u001B[0m\u001B[0;34m\u001B[0m\u001B[0m\n\u001B[0m\u001B[1;32m     53\u001B[0m         \u001B[0;32melse\u001B[0m\u001B[0;34m:\u001B[0m\u001B[0;34m\u001B[0m\u001B[0;34m\u001B[0m\u001B[0m\n\u001B[1;32m     54\u001B[0m             \u001B[0;32mreturn\u001B[0m \u001B[0mfunc\u001B[0m\u001B[0;34m(\u001B[0m\u001B[0;34m*\u001B[0m\u001B[0margs\u001B[0m\u001B[0;34m,\u001B[0m \u001B[0;34m**\u001B[0m\u001B[0mkwargs\u001B[0m\u001B[0;34m)\u001B[0m\u001B[0;34m\u001B[0m\u001B[0;34m\u001B[0m\u001B[0m\n",
      "\u001B[0;32m~/PycharmProjects/fina4380/.venv/lib/python3.9/site-packages/pyfolio/tears.py\u001B[0m in \u001B[0;36m?\u001B[0;34m(returns, positions, transactions, live_start_date, cone_std, benchmark_rets, bootstrap, turnover_denom, header_rows, return_fig)\u001B[0m\n\u001B[1;32m    492\u001B[0m \u001B[0;34m\u001B[0m\u001B[0m\n\u001B[1;32m    493\u001B[0m     \u001B[0;32mif\u001B[0m \u001B[0mbenchmark_rets\u001B[0m \u001B[0;32mis\u001B[0m \u001B[0;32mnot\u001B[0m \u001B[0;32mNone\u001B[0m\u001B[0;34m:\u001B[0m\u001B[0;34m\u001B[0m\u001B[0;34m\u001B[0m\u001B[0m\n\u001B[1;32m    494\u001B[0m         \u001B[0mreturns\u001B[0m \u001B[0;34m=\u001B[0m \u001B[0mutils\u001B[0m\u001B[0;34m.\u001B[0m\u001B[0mclip_returns_to_benchmark\u001B[0m\u001B[0;34m(\u001B[0m\u001B[0mreturns\u001B[0m\u001B[0;34m,\u001B[0m \u001B[0mbenchmark_rets\u001B[0m\u001B[0;34m)\u001B[0m\u001B[0;34m\u001B[0m\u001B[0;34m\u001B[0m\u001B[0m\n\u001B[1;32m    495\u001B[0m \u001B[0;34m\u001B[0m\u001B[0m\n\u001B[0;32m--> 496\u001B[0;31m     plotting.show_perf_stats(returns, benchmark_rets,\n\u001B[0m\u001B[1;32m    497\u001B[0m                              \u001B[0mpositions\u001B[0m\u001B[0;34m=\u001B[0m\u001B[0mpositions\u001B[0m\u001B[0;34m,\u001B[0m\u001B[0;34m\u001B[0m\u001B[0;34m\u001B[0m\u001B[0m\n\u001B[1;32m    498\u001B[0m                              \u001B[0mtransactions\u001B[0m\u001B[0;34m=\u001B[0m\u001B[0mtransactions\u001B[0m\u001B[0;34m,\u001B[0m\u001B[0;34m\u001B[0m\u001B[0;34m\u001B[0m\u001B[0m\n\u001B[1;32m    499\u001B[0m                              \u001B[0mturnover_denom\u001B[0m\u001B[0;34m=\u001B[0m\u001B[0mturnover_denom\u001B[0m\u001B[0;34m,\u001B[0m\u001B[0;34m\u001B[0m\u001B[0;34m\u001B[0m\u001B[0m\n",
      "\u001B[0;32m~/PycharmProjects/fina4380/.venv/lib/python3.9/site-packages/pyfolio/plotting.py\u001B[0m in \u001B[0;36m?\u001B[0;34m(returns, factor_returns, positions, transactions, turnover_denom, live_start_date, bootstrap, header_rows)\u001B[0m\n\u001B[1;32m    644\u001B[0m                                             APPROX_BDAYS_PER_MONTH)\n\u001B[1;32m    645\u001B[0m         \u001B[0mperf_stats\u001B[0m \u001B[0;34m=\u001B[0m \u001B[0mpd\u001B[0m\u001B[0;34m.\u001B[0m\u001B[0mDataFrame\u001B[0m\u001B[0;34m(\u001B[0m\u001B[0mperf_stats_all\u001B[0m\u001B[0;34m,\u001B[0m \u001B[0mcolumns\u001B[0m\u001B[0;34m=\u001B[0m\u001B[0;34m[\u001B[0m\u001B[0;34m'Backtest'\u001B[0m\u001B[0;34m]\u001B[0m\u001B[0;34m)\u001B[0m\u001B[0;34m\u001B[0m\u001B[0;34m\u001B[0m\u001B[0m\n\u001B[1;32m    646\u001B[0m \u001B[0;34m\u001B[0m\u001B[0m\n\u001B[1;32m    647\u001B[0m     \u001B[0;32mfor\u001B[0m \u001B[0mcolumn\u001B[0m \u001B[0;32min\u001B[0m \u001B[0mperf_stats\u001B[0m\u001B[0;34m.\u001B[0m\u001B[0mcolumns\u001B[0m\u001B[0;34m:\u001B[0m\u001B[0;34m\u001B[0m\u001B[0;34m\u001B[0m\u001B[0m\n\u001B[0;32m--> 648\u001B[0;31m         \u001B[0;32mfor\u001B[0m \u001B[0mstat\u001B[0m\u001B[0;34m,\u001B[0m \u001B[0mvalue\u001B[0m \u001B[0;32min\u001B[0m \u001B[0mperf_stats\u001B[0m\u001B[0;34m[\u001B[0m\u001B[0mcolumn\u001B[0m\u001B[0;34m]\u001B[0m\u001B[0;34m.\u001B[0m\u001B[0miteritems\u001B[0m\u001B[0;34m(\u001B[0m\u001B[0;34m)\u001B[0m\u001B[0;34m:\u001B[0m\u001B[0;34m\u001B[0m\u001B[0;34m\u001B[0m\u001B[0m\n\u001B[0m\u001B[1;32m    649\u001B[0m             \u001B[0;32mif\u001B[0m \u001B[0mstat\u001B[0m \u001B[0;32min\u001B[0m \u001B[0mSTAT_FUNCS_PCT\u001B[0m\u001B[0;34m:\u001B[0m\u001B[0;34m\u001B[0m\u001B[0;34m\u001B[0m\u001B[0m\n\u001B[1;32m    650\u001B[0m                 perf_stats.loc[stat, column] = str(np.round(value * 100,\n\u001B[1;32m    651\u001B[0m                                                             1)) + '%'\n",
      "\u001B[0;32m~/PycharmProjects/fina4380/.venv/lib/python3.9/site-packages/pandas/core/generic.py\u001B[0m in \u001B[0;36m?\u001B[0;34m(self, name)\u001B[0m\n\u001B[1;32m   6292\u001B[0m             \u001B[0;32mand\u001B[0m \u001B[0mname\u001B[0m \u001B[0;32mnot\u001B[0m \u001B[0;32min\u001B[0m \u001B[0mself\u001B[0m\u001B[0;34m.\u001B[0m\u001B[0m_accessors\u001B[0m\u001B[0;34m\u001B[0m\u001B[0;34m\u001B[0m\u001B[0m\n\u001B[1;32m   6293\u001B[0m             \u001B[0;32mand\u001B[0m \u001B[0mself\u001B[0m\u001B[0;34m.\u001B[0m\u001B[0m_info_axis\u001B[0m\u001B[0;34m.\u001B[0m\u001B[0m_can_hold_identifiers_and_holds_name\u001B[0m\u001B[0;34m(\u001B[0m\u001B[0mname\u001B[0m\u001B[0;34m)\u001B[0m\u001B[0;34m\u001B[0m\u001B[0;34m\u001B[0m\u001B[0m\n\u001B[1;32m   6294\u001B[0m         ):\n\u001B[1;32m   6295\u001B[0m             \u001B[0;32mreturn\u001B[0m \u001B[0mself\u001B[0m\u001B[0;34m[\u001B[0m\u001B[0mname\u001B[0m\u001B[0;34m]\u001B[0m\u001B[0;34m\u001B[0m\u001B[0;34m\u001B[0m\u001B[0m\n\u001B[0;32m-> 6296\u001B[0;31m         \u001B[0;32mreturn\u001B[0m \u001B[0mobject\u001B[0m\u001B[0;34m.\u001B[0m\u001B[0m__getattribute__\u001B[0m\u001B[0;34m(\u001B[0m\u001B[0mself\u001B[0m\u001B[0;34m,\u001B[0m \u001B[0mname\u001B[0m\u001B[0;34m)\u001B[0m\u001B[0;34m\u001B[0m\u001B[0;34m\u001B[0m\u001B[0m\n\u001B[0m",
      "\u001B[0;31mAttributeError\u001B[0m: 'Series' object has no attribute 'iteritems'"
     ]
    }
   ],
   "source": [
    "# Run the backtest\n",
    "cerebro.addanalyzer(bt.analyzers.PyFolio, _name='pyfolio')\n",
    "results = cerebro.run()\n",
    "pyfolio_analyzer = results[0].analyzers.pyfolio\n",
    "returns = pyfolio_analyzer.get_pf_items()[0]\n",
    "pf.create_full_tear_sheet(returns)"
   ],
   "metadata": {
    "collapsed": false,
    "ExecuteTime": {
     "end_time": "2024-04-02T08:04:02.750894Z",
     "start_time": "2024-04-02T08:04:01.413595Z"
    }
   },
   "id": "e98709dcd01bec4",
   "execution_count": 5
  },
  {
   "cell_type": "code",
   "outputs": [
    {
     "data": {
      "text/plain": "123441154.45114763"
     },
     "execution_count": 177,
     "metadata": {},
     "output_type": "execute_result"
    }
   ],
   "source": [
    "cerebro.broker.get_value()"
   ],
   "metadata": {
    "collapsed": false,
    "ExecuteTime": {
     "end_time": "2024-04-02T07:55:14.740539Z",
     "start_time": "2024-04-02T07:55:14.731643Z"
    }
   },
   "id": "3b412a1d3ad8d9b9",
   "execution_count": 177
  },
  {
   "cell_type": "code",
   "outputs": [
    {
     "ename": "AttributeError",
     "evalue": "'Cerebro' object has no attribute 'strategies'",
     "output_type": "error",
     "traceback": [
      "\u001B[0;31m---------------------------------------------------------------------------\u001B[0m",
      "\u001B[0;31mAttributeError\u001B[0m                            Traceback (most recent call last)",
      "Cell \u001B[0;32mIn[179], line 1\u001B[0m\n\u001B[0;32m----> 1\u001B[0m \u001B[43mcerebro\u001B[49m\u001B[38;5;241;43m.\u001B[39;49m\u001B[43mstrategies\u001B[49m[\u001B[38;5;241m0\u001B[39m]\n",
      "\u001B[0;31mAttributeError\u001B[0m: 'Cerebro' object has no attribute 'strategies'"
     ]
    }
   ],
   "source": [
    "cerebro.strategies[0]"
   ],
   "metadata": {
    "collapsed": false,
    "ExecuteTime": {
     "end_time": "2024-04-02T07:56:29.479088Z",
     "start_time": "2024-04-02T07:56:29.465215Z"
    }
   },
   "id": "46c73852646e32a7",
   "execution_count": 179
  },
  {
   "cell_type": "code",
   "outputs": [],
   "source": [],
   "metadata": {
    "collapsed": false
   },
   "id": "c12d866040ba34a4"
  }
 ],
 "metadata": {
  "kernelspec": {
   "display_name": "Python 3",
   "language": "python",
   "name": "python3"
  },
  "language_info": {
   "codemirror_mode": {
    "name": "ipython",
    "version": 2
   },
   "file_extension": ".py",
   "mimetype": "text/x-python",
   "name": "python",
   "nbconvert_exporter": "python",
   "pygments_lexer": "ipython2",
   "version": "2.7.6"
  }
 },
 "nbformat": 4,
 "nbformat_minor": 5
}
