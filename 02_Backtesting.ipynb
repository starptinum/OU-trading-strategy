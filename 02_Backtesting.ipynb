{
 "cells": [
  {
   "cell_type": "code",
   "execution_count": 1,
   "id": "initial_id",
   "metadata": {
    "collapsed": true,
    "ExecuteTime": {
     "end_time": "2024-04-02T06:35:29.913390Z",
     "start_time": "2024-04-02T06:35:29.481405Z"
    }
   },
   "outputs": [],
   "source": [
    "from bt_data_feeds import PandasData\n",
    "from Ornstein_Uhlenbeck import Ornstein_Uhlenbeck\n",
    "import backtrader as bt\n",
    "import numpy as np\n",
    "import pandas as pd"
   ]
  },
  {
   "cell_type": "code",
   "outputs": [],
   "source": [
    "stock_list = ['SLV', 'SIL']\n",
    "stock_dict = {}\n",
    "for stock in stock_list:\n",
    "    stock_dict[stock] = pd.read_csv('data/{}.csv'.format(stock), index_col='Date', parse_dates=['Date'])"
   ],
   "metadata": {
    "collapsed": false,
    "ExecuteTime": {
     "end_time": "2024-04-02T06:35:37.042024Z",
     "start_time": "2024-04-02T06:35:37.015798Z"
    }
   },
   "id": "f271aa197b212b90",
   "execution_count": 2
  },
  {
   "cell_type": "code",
   "outputs": [],
   "source": [
    "class MyStrategy(bt.Strategy):\n",
    "    def __init__(self):\n",
    "        self.St = {stock_list[0]: np.array([]),\n",
    "                   stock_list[1]: np.array([])\n",
    "                   }\n",
    "        self.model = Ornstein_Uhlenbeck(stock_dict[stock_list[0]]['Adj Close'].to_numpy()[:252], \n",
    "                                        stock_dict[stock_list[1]]['Adj Close'].to_numpy()[:252])\n",
    "        self.a = 0.01\n",
    "        self.signal = 0\n",
    "        self.pos = 0\n",
    "        self.size = 5000000\n",
    "    \n",
    "    def signal_generation(self):\n",
    "        Xt = self.model.alpha * self.St[stock_list[0]][-1] - self.model.beta * self.St[stock_list[1]][-1]\n",
    "        \n",
    "        if self.signal == 1:\n",
    "            signal = 0 if Xt >= self.model.mu else 1\n",
    "        elif self.signal == -1:\n",
    "            signal = 0 if Xt <= self.model.mu else -1\n",
    "        else:\n",
    "            if Xt > np.quantile(self.model.X, 1 - self.a):\n",
    "                signal = -1\n",
    "            elif Xt < np.quantile(self.model.X, self.a):\n",
    "                signal = 1\n",
    "            else:\n",
    "                signal = 0\n",
    "        return signal\n",
    "        \n",
    "    def close_positions(self):\n",
    "        for position in self.positions:\n",
    "            self.close(data=position.data)\n",
    "            \n",
    "    def next(self):\n",
    "        for data in self.datas:\n",
    "            self.St[data._name] = np.append(self.St[data._name], data.adjclose[0])\n",
    "\n",
    "        self.signal = self.signal_generation()\n",
    "    \n",
    "        if self.signal == 1:\n",
    "            if self.pos == 0:\n",
    "                self.buy(data=self.datas[0], size=self.size * self.model.alpha)\n",
    "                self.sell(data=self.datas[1], size=self.size * self.model.beta)\n",
    "        elif self.signal == -1:\n",
    "            if self.pos == 0:\n",
    "                self.sell(data=self.datas[0], size=self.size * self.model.alpha)\n",
    "                self.buy(data=self.datas[1], size=self.size * self.model.beta)\n",
    "        elif self.signal == 0:\n",
    "            if self.pos != 0:\n",
    "                self.close_positions()\n",
    "                \n",
    "        if len(self.St[stock_list[0]]) != 0 and len(self.St[stock_list[0]]) % 252 == 0:\n",
    "            self.model = Ornstein_Uhlenbeck(self.St[stock_list[0]][-252:], self.St[stock_list[1]][-252:])"
   ],
   "metadata": {
    "collapsed": false,
    "ExecuteTime": {
     "end_time": "2024-04-02T06:52:01.140643Z",
     "start_time": "2024-04-02T06:52:01.135907Z"
    }
   },
   "id": "ab1097d049006c34",
   "execution_count": 33
  },
  {
   "cell_type": "code",
   "outputs": [
    {
     "data": {
      "text/plain": "195789899.88276768"
     },
     "execution_count": 34,
     "metadata": {},
     "output_type": "execute_result"
    }
   ],
   "source": [
    "cerebro = bt.Cerebro()\n",
    "\n",
    "data_feed_dict = {}\n",
    "for stock in stock_list:\n",
    "    data_feed_dict[stock] = PandasData(dataname=stock_dict[stock].iloc[252:], name=stock)\n",
    "    cerebro.adddata(data_feed_dict[stock])\n",
    "\n",
    "cerebro.addstrategy(MyStrategy)\n",
    "\n",
    "# Run the backtest\n",
    "cerebro.broker.setcash(100000000)\n",
    "cerebro.run()\n",
    "cerebro.broker.get_value()"
   ],
   "metadata": {
    "collapsed": false,
    "ExecuteTime": {
     "end_time": "2024-04-02T06:52:02.680332Z",
     "start_time": "2024-04-02T06:52:01.396882Z"
    }
   },
   "id": "8dc3dbe980790292",
   "execution_count": 34
  }
 ],
 "metadata": {
  "kernelspec": {
   "display_name": "Python 3",
   "language": "python",
   "name": "python3"
  },
  "language_info": {
   "codemirror_mode": {
    "name": "ipython",
    "version": 2
   },
   "file_extension": ".py",
   "mimetype": "text/x-python",
   "name": "python",
   "nbconvert_exporter": "python",
   "pygments_lexer": "ipython2",
   "version": "2.7.6"
  }
 },
 "nbformat": 4,
 "nbformat_minor": 5
}
