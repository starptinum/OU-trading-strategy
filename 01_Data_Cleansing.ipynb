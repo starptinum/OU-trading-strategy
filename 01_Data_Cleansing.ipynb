{
 "cells": [
  {
   "cell_type": "code",
   "execution_count": 1,
   "id": "initial_id",
   "metadata": {
    "collapsed": true,
    "ExecuteTime": {
     "end_time": "2024-03-23T09:44:28.379753Z",
     "start_time": "2024-03-23T09:44:27.906209Z"
    }
   },
   "outputs": [],
   "source": [
    "from IPython.display import clear_output\n",
    "import os\n",
    "import pandas as pd\n",
    "import re\n",
    "import yfinance as yf"
   ]
  },
  {
   "cell_type": "code",
   "outputs": [],
   "source": [
    "stock_list = pd.read_csv('raw/stock_list.csv')['Stock']\n",
    "dtype_dict = {stock: 'float64' for stock in stock_list}\n",
    "raw_feature_dict = pd.read_excel(os.getcwd() + '/raw/bbg_data.xlsm', sheet_name=None, dtype=dtype_dict, skiprows=4)\n",
    "raw_feature_dict.update(pd.read_excel(os.getcwd() + '/raw/Bloomberg20032024data_raw.xlsx', sheet_name=None, dtype=dtype_dict, skiprows=4))\n",
    "feature_list = list(raw_feature_dict.keys())"
   ],
   "metadata": {
    "collapsed": false,
    "ExecuteTime": {
     "end_time": "2024-03-23T09:47:58.498099Z",
     "start_time": "2024-03-23T09:44:28.377659Z"
    }
   },
   "id": "80f0622d9db2ee1e",
   "execution_count": 2
  },
  {
   "cell_type": "markdown",
   "source": [
    "Merge the dataset with one time index"
   ],
   "metadata": {
    "collapsed": false
   },
   "id": "b8d5d47c573c5b2e"
  },
  {
   "cell_type": "code",
   "outputs": [],
   "source": [
    "feature_dict = {}\n",
    "for feature in feature_list:\n",
    "    df = raw_feature_dict[feature]\n",
    "    columns_list = list(df.columns)\n",
    "    for num, col in enumerate(columns_list):\n",
    "        if num % 2 == 0:\n",
    "            columns_list[num] = 'Date'\n",
    "    df.columns = columns_list\n",
    "    df = df.astype({'Date':'datetime64[ns]'})\n",
    "    df_merge = pd.merge(df.iloc[:, :2].dropna(), df.iloc[:, 2:4].dropna(), on='Date', how='outer')\n",
    "    for i in range(len(columns_list) // 2 - 2):\n",
    "        df_merge = df_merge.merge(df.iloc[:, 2 * i + 4:2 * i + 6].dropna(), on='Date', how='outer')\n",
    "    df_merge = df_merge.rename(columns=lambda x: re.sub(r'/', '-', x.split(' ')[0]))\n",
    "    feature_dict[feature] = df_merge"
   ],
   "metadata": {
    "collapsed": false,
    "ExecuteTime": {
     "end_time": "2024-03-23T09:48:11.976451Z",
     "start_time": "2024-03-23T09:47:58.503311Z"
    }
   },
   "id": "22faa9b6562564ab",
   "execution_count": 3
  },
  {
   "cell_type": "code",
   "outputs": [
    {
     "name": "stderr",
     "output_type": "stream",
     "text": [
      "[*********************100%%**********************]  1 of 1 completed\n"
     ]
    }
   ],
   "source": [
    "start = '2012-12-31'\n",
    "end = '2023-12-31'\n",
    "code_list = stock_list.apply(lambda x: re.sub(r'/', '-', x.split(' ')[0])).rename('Code')\n",
    "price_dict = {}\n",
    "for code in code_list:\n",
    "    price_df = yf.download(code, start=start, end=end, interval='1d')\n",
    "    clear_output(wait=True)\n",
    "    price_dict[code] = price_df"
   ],
   "metadata": {
    "collapsed": false
   },
   "id": "13537dd5c24daca",
   "execution_count": 4
  },
  {
   "cell_type": "markdown",
   "source": [
    "Output the files to `.csv`"
   ],
   "metadata": {
    "collapsed": false
   },
   "id": "c44aad44dd7ef0b5"
  },
  {
   "cell_type": "code",
   "outputs": [],
   "source": [
    "if not os.path.isdir('preprocessing'):\n",
    "    os.mkdir('preprocessing')\n",
    "    os.mkdir('preprocessing/feature')\n",
    "    os.mkdir('preprocessing/price')"
   ],
   "metadata": {
    "collapsed": false,
    "ExecuteTime": {
     "end_time": "2024-03-23T09:50:01.017661Z",
     "start_time": "2024-03-23T09:50:01.015599Z"
    }
   },
   "id": "ebc3f41f50217087",
   "execution_count": 5
  },
  {
   "cell_type": "code",
   "outputs": [],
   "source": [
    "for feature in feature_list:\n",
    "    feature_dict[feature].to_csv('preprocessing/feature/{}.csv'.format(feature))\n",
    "for code in code_list:\n",
    "    price_dict[code].to_csv('preprocessing/price/{}.csv'.format(code))"
   ],
   "metadata": {
    "collapsed": false,
    "ExecuteTime": {
     "end_time": "2024-03-23T09:50:11.440106Z",
     "start_time": "2024-03-23T09:50:01.019816Z"
    }
   },
   "id": "d25b0f2a1d3b3354",
   "execution_count": 6
  }
 ],
 "metadata": {
  "kernelspec": {
   "display_name": "Python 3",
   "language": "python",
   "name": "python3"
  },
  "language_info": {
   "codemirror_mode": {
    "name": "ipython",
    "version": 2
   },
   "file_extension": ".py",
   "mimetype": "text/x-python",
   "name": "python",
   "nbconvert_exporter": "python",
   "pygments_lexer": "ipython2",
   "version": "2.7.6"
  }
 },
 "nbformat": 4,
 "nbformat_minor": 5
}
