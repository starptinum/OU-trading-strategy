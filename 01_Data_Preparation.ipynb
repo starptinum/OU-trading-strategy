{
 "cells": [
  {
   "cell_type": "code",
   "execution_count": 1,
   "id": "initial_id",
   "metadata": {
    "collapsed": true,
    "ExecuteTime": {
     "end_time": "2024-04-02T06:56:29.092177Z",
     "start_time": "2024-04-02T06:56:28.702624Z"
    }
   },
   "outputs": [],
   "source": [
    "import yfinance as yf"
   ]
  },
  {
   "cell_type": "code",
   "outputs": [
    {
     "name": "stderr",
     "output_type": "stream",
     "text": [
      "[*********************100%%**********************]  1 of 1 completed\n",
      "[*********************100%%**********************]  1 of 1 completed\n"
     ]
    }
   ],
   "source": [
    "start = '2014-01-01'\n",
    "end = '2024-01-01'\n",
    "SLV = yf.download(tickers='SLV', start=start, end=end, interval='1d').dropna()\n",
    "SIL = yf.download(tickers='SIL', start=start, end=end, interval='1d').dropna()"
   ],
   "metadata": {
    "collapsed": false,
    "ExecuteTime": {
     "end_time": "2024-04-02T06:56:29.938093Z",
     "start_time": "2024-04-02T06:56:29.094068Z"
    }
   },
   "id": "44d39c81bd217c03",
   "execution_count": 2
  },
  {
   "cell_type": "code",
   "outputs": [],
   "source": [
    "SLV.to_csv('data/SLV.csv')\n",
    "SIL.to_csv('data/SIL.csv')"
   ],
   "metadata": {
    "collapsed": false,
    "ExecuteTime": {
     "end_time": "2024-04-02T06:56:29.973715Z",
     "start_time": "2024-04-02T06:56:29.939588Z"
    }
   },
   "id": "2faf80a541ec73d2",
   "execution_count": 3
  }
 ],
 "metadata": {
  "kernelspec": {
   "display_name": "Python 3",
   "language": "python",
   "name": "python3"
  },
  "language_info": {
   "codemirror_mode": {
    "name": "ipython",
    "version": 2
   },
   "file_extension": ".py",
   "mimetype": "text/x-python",
   "name": "python",
   "nbconvert_exporter": "python",
   "pygments_lexer": "ipython2",
   "version": "2.7.6"
  }
 },
 "nbformat": 4,
 "nbformat_minor": 5
}
