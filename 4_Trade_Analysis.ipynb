{
 "cells": [
  {
   "cell_type": "code",
   "execution_count": 1,
   "id": "initial_id",
   "metadata": {
    "collapsed": true,
    "ExecuteTime": {
     "end_time": "2024-04-16T14:56:32.372421Z",
     "start_time": "2024-04-16T14:56:31.519760Z"
    }
   },
   "outputs": [],
   "source": [
    "import pandas as pd\n",
    "import statsmodels.api as sm"
   ]
  },
  {
   "cell_type": "code",
   "outputs": [
    {
     "data": {
      "text/plain": "           Date  Spread Return  Position  Correlation  Hurst Exponent  \\\n0    2015-03-02       0.213854         1     0.719772        0.305513   \n1    2015-04-30       0.357350        -1     0.795203        0.331523   \n2    2015-08-06       0.209301        -1     0.733197        0.259205   \n3    2015-09-17       0.160367        -1     0.832352        0.278600   \n4    2015-10-21       0.193082        -1     0.819117        0.189251   \n..          ...            ...       ...          ...             ...   \n186  2017-03-31       0.493305         1     0.819135        0.237595   \n187  2017-06-19       0.320979         1     0.854939        0.301736   \n188  2017-08-14       0.133661         1     0.854261        0.354966   \n189  2017-12-21       0.152666         1     0.752733        0.387333   \n190  2018-12-28      -0.257866         1     0.705793        0.428717   \n\n     ADF t-statistic  ADF p-value        mu      theta    sigma2  \n0          -3.895645     0.002067  0.302901  21.542143  0.018726  \n1          -3.794874     0.002960  0.127149  27.725278  0.014876  \n2          -3.452062     0.009307  0.271813  30.466873  0.020985  \n3          -4.252965     0.000535  0.210411  40.968772  0.011065  \n4          -4.194114     0.000674  0.248711  62.885954  0.007290  \n..               ...          ...       ...        ...       ...  \n186        -3.980915     0.001514  0.191808  35.266313  0.052617  \n187        -3.682579     0.004365  0.234317  29.599731  0.030069  \n188        -3.599362     0.005773  0.421468  19.417009  0.007345  \n189        -3.894796     0.002073  0.405036  20.378426  0.020828  \n190        -3.510805     0.007714  0.457989  13.068864  0.022952  \n\n[191 rows x 10 columns]",
      "text/html": "<div>\n<style scoped>\n    .dataframe tbody tr th:only-of-type {\n        vertical-align: middle;\n    }\n\n    .dataframe tbody tr th {\n        vertical-align: top;\n    }\n\n    .dataframe thead th {\n        text-align: right;\n    }\n</style>\n<table border=\"1\" class=\"dataframe\">\n  <thead>\n    <tr style=\"text-align: right;\">\n      <th></th>\n      <th>Date</th>\n      <th>Spread Return</th>\n      <th>Position</th>\n      <th>Correlation</th>\n      <th>Hurst Exponent</th>\n      <th>ADF t-statistic</th>\n      <th>ADF p-value</th>\n      <th>mu</th>\n      <th>theta</th>\n      <th>sigma2</th>\n    </tr>\n  </thead>\n  <tbody>\n    <tr>\n      <th>0</th>\n      <td>2015-03-02</td>\n      <td>0.213854</td>\n      <td>1</td>\n      <td>0.719772</td>\n      <td>0.305513</td>\n      <td>-3.895645</td>\n      <td>0.002067</td>\n      <td>0.302901</td>\n      <td>21.542143</td>\n      <td>0.018726</td>\n    </tr>\n    <tr>\n      <th>1</th>\n      <td>2015-04-30</td>\n      <td>0.357350</td>\n      <td>-1</td>\n      <td>0.795203</td>\n      <td>0.331523</td>\n      <td>-3.794874</td>\n      <td>0.002960</td>\n      <td>0.127149</td>\n      <td>27.725278</td>\n      <td>0.014876</td>\n    </tr>\n    <tr>\n      <th>2</th>\n      <td>2015-08-06</td>\n      <td>0.209301</td>\n      <td>-1</td>\n      <td>0.733197</td>\n      <td>0.259205</td>\n      <td>-3.452062</td>\n      <td>0.009307</td>\n      <td>0.271813</td>\n      <td>30.466873</td>\n      <td>0.020985</td>\n    </tr>\n    <tr>\n      <th>3</th>\n      <td>2015-09-17</td>\n      <td>0.160367</td>\n      <td>-1</td>\n      <td>0.832352</td>\n      <td>0.278600</td>\n      <td>-4.252965</td>\n      <td>0.000535</td>\n      <td>0.210411</td>\n      <td>40.968772</td>\n      <td>0.011065</td>\n    </tr>\n    <tr>\n      <th>4</th>\n      <td>2015-10-21</td>\n      <td>0.193082</td>\n      <td>-1</td>\n      <td>0.819117</td>\n      <td>0.189251</td>\n      <td>-4.194114</td>\n      <td>0.000674</td>\n      <td>0.248711</td>\n      <td>62.885954</td>\n      <td>0.007290</td>\n    </tr>\n    <tr>\n      <th>...</th>\n      <td>...</td>\n      <td>...</td>\n      <td>...</td>\n      <td>...</td>\n      <td>...</td>\n      <td>...</td>\n      <td>...</td>\n      <td>...</td>\n      <td>...</td>\n      <td>...</td>\n    </tr>\n    <tr>\n      <th>186</th>\n      <td>2017-03-31</td>\n      <td>0.493305</td>\n      <td>1</td>\n      <td>0.819135</td>\n      <td>0.237595</td>\n      <td>-3.980915</td>\n      <td>0.001514</td>\n      <td>0.191808</td>\n      <td>35.266313</td>\n      <td>0.052617</td>\n    </tr>\n    <tr>\n      <th>187</th>\n      <td>2017-06-19</td>\n      <td>0.320979</td>\n      <td>1</td>\n      <td>0.854939</td>\n      <td>0.301736</td>\n      <td>-3.682579</td>\n      <td>0.004365</td>\n      <td>0.234317</td>\n      <td>29.599731</td>\n      <td>0.030069</td>\n    </tr>\n    <tr>\n      <th>188</th>\n      <td>2017-08-14</td>\n      <td>0.133661</td>\n      <td>1</td>\n      <td>0.854261</td>\n      <td>0.354966</td>\n      <td>-3.599362</td>\n      <td>0.005773</td>\n      <td>0.421468</td>\n      <td>19.417009</td>\n      <td>0.007345</td>\n    </tr>\n    <tr>\n      <th>189</th>\n      <td>2017-12-21</td>\n      <td>0.152666</td>\n      <td>1</td>\n      <td>0.752733</td>\n      <td>0.387333</td>\n      <td>-3.894796</td>\n      <td>0.002073</td>\n      <td>0.405036</td>\n      <td>20.378426</td>\n      <td>0.020828</td>\n    </tr>\n    <tr>\n      <th>190</th>\n      <td>2018-12-28</td>\n      <td>-0.257866</td>\n      <td>1</td>\n      <td>0.705793</td>\n      <td>0.428717</td>\n      <td>-3.510805</td>\n      <td>0.007714</td>\n      <td>0.457989</td>\n      <td>13.068864</td>\n      <td>0.022952</td>\n    </tr>\n  </tbody>\n</table>\n<p>191 rows × 10 columns</p>\n</div>"
     },
     "execution_count": 2,
     "metadata": {},
     "output_type": "execute_result"
    }
   ],
   "source": [
    "perf_df = pd.read_csv('data/trade_record.csv', index_col=0)\n",
    "perf_df"
   ],
   "metadata": {
    "collapsed": false,
    "ExecuteTime": {
     "end_time": "2024-04-16T14:56:32.385339Z",
     "start_time": "2024-04-16T14:56:32.373530Z"
    }
   },
   "id": "7b732a2fdb0f566f",
   "execution_count": 2
  },
  {
   "cell_type": "code",
   "outputs": [
    {
     "data": {
      "text/plain": "           Date  Spread Return  Position  Correlation  Hurst Exponent  \\\n0    2015-03-02       0.213854         1     0.719772        0.305513   \n1    2015-04-30       0.357350        -1     0.795203        0.331523   \n2    2015-08-06       0.209301        -1     0.733197        0.259205   \n3    2015-09-17       0.160367        -1     0.832352        0.278600   \n4    2015-10-21       0.193082        -1     0.819117        0.189251   \n..          ...            ...       ...          ...             ...   \n185  2016-12-01       0.248181         1     0.800601        0.324578   \n186  2017-03-31       0.493305         1     0.819135        0.237595   \n187  2017-06-19       0.320979         1     0.854939        0.301736   \n188  2017-08-14       0.133661         1     0.854261        0.354966   \n189  2017-12-21       0.152666         1     0.752733        0.387333   \n\n     ADF t-statistic  ADF p-value        mu      theta    sigma2  \n0          -3.895645     0.002067  0.302901  21.542143  0.018726  \n1          -3.794874     0.002960  0.127149  27.725278  0.014876  \n2          -3.452062     0.009307  0.271813  30.466873  0.020985  \n3          -4.252965     0.000535  0.210411  40.968772  0.011065  \n4          -4.194114     0.000674  0.248711  62.885954  0.007290  \n..               ...          ...       ...        ...       ...  \n185        -3.929755     0.001826  0.318881  28.443029  0.024035  \n186        -3.980915     0.001514  0.191808  35.266313  0.052617  \n187        -3.682579     0.004365  0.234317  29.599731  0.030069  \n188        -3.599362     0.005773  0.421468  19.417009  0.007345  \n189        -3.894796     0.002073  0.405036  20.378426  0.020828  \n\n[161 rows x 10 columns]",
      "text/html": "<div>\n<style scoped>\n    .dataframe tbody tr th:only-of-type {\n        vertical-align: middle;\n    }\n\n    .dataframe tbody tr th {\n        vertical-align: top;\n    }\n\n    .dataframe thead th {\n        text-align: right;\n    }\n</style>\n<table border=\"1\" class=\"dataframe\">\n  <thead>\n    <tr style=\"text-align: right;\">\n      <th></th>\n      <th>Date</th>\n      <th>Spread Return</th>\n      <th>Position</th>\n      <th>Correlation</th>\n      <th>Hurst Exponent</th>\n      <th>ADF t-statistic</th>\n      <th>ADF p-value</th>\n      <th>mu</th>\n      <th>theta</th>\n      <th>sigma2</th>\n    </tr>\n  </thead>\n  <tbody>\n    <tr>\n      <th>0</th>\n      <td>2015-03-02</td>\n      <td>0.213854</td>\n      <td>1</td>\n      <td>0.719772</td>\n      <td>0.305513</td>\n      <td>-3.895645</td>\n      <td>0.002067</td>\n      <td>0.302901</td>\n      <td>21.542143</td>\n      <td>0.018726</td>\n    </tr>\n    <tr>\n      <th>1</th>\n      <td>2015-04-30</td>\n      <td>0.357350</td>\n      <td>-1</td>\n      <td>0.795203</td>\n      <td>0.331523</td>\n      <td>-3.794874</td>\n      <td>0.002960</td>\n      <td>0.127149</td>\n      <td>27.725278</td>\n      <td>0.014876</td>\n    </tr>\n    <tr>\n      <th>2</th>\n      <td>2015-08-06</td>\n      <td>0.209301</td>\n      <td>-1</td>\n      <td>0.733197</td>\n      <td>0.259205</td>\n      <td>-3.452062</td>\n      <td>0.009307</td>\n      <td>0.271813</td>\n      <td>30.466873</td>\n      <td>0.020985</td>\n    </tr>\n    <tr>\n      <th>3</th>\n      <td>2015-09-17</td>\n      <td>0.160367</td>\n      <td>-1</td>\n      <td>0.832352</td>\n      <td>0.278600</td>\n      <td>-4.252965</td>\n      <td>0.000535</td>\n      <td>0.210411</td>\n      <td>40.968772</td>\n      <td>0.011065</td>\n    </tr>\n    <tr>\n      <th>4</th>\n      <td>2015-10-21</td>\n      <td>0.193082</td>\n      <td>-1</td>\n      <td>0.819117</td>\n      <td>0.189251</td>\n      <td>-4.194114</td>\n      <td>0.000674</td>\n      <td>0.248711</td>\n      <td>62.885954</td>\n      <td>0.007290</td>\n    </tr>\n    <tr>\n      <th>...</th>\n      <td>...</td>\n      <td>...</td>\n      <td>...</td>\n      <td>...</td>\n      <td>...</td>\n      <td>...</td>\n      <td>...</td>\n      <td>...</td>\n      <td>...</td>\n      <td>...</td>\n    </tr>\n    <tr>\n      <th>185</th>\n      <td>2016-12-01</td>\n      <td>0.248181</td>\n      <td>1</td>\n      <td>0.800601</td>\n      <td>0.324578</td>\n      <td>-3.929755</td>\n      <td>0.001826</td>\n      <td>0.318881</td>\n      <td>28.443029</td>\n      <td>0.024035</td>\n    </tr>\n    <tr>\n      <th>186</th>\n      <td>2017-03-31</td>\n      <td>0.493305</td>\n      <td>1</td>\n      <td>0.819135</td>\n      <td>0.237595</td>\n      <td>-3.980915</td>\n      <td>0.001514</td>\n      <td>0.191808</td>\n      <td>35.266313</td>\n      <td>0.052617</td>\n    </tr>\n    <tr>\n      <th>187</th>\n      <td>2017-06-19</td>\n      <td>0.320979</td>\n      <td>1</td>\n      <td>0.854939</td>\n      <td>0.301736</td>\n      <td>-3.682579</td>\n      <td>0.004365</td>\n      <td>0.234317</td>\n      <td>29.599731</td>\n      <td>0.030069</td>\n    </tr>\n    <tr>\n      <th>188</th>\n      <td>2017-08-14</td>\n      <td>0.133661</td>\n      <td>1</td>\n      <td>0.854261</td>\n      <td>0.354966</td>\n      <td>-3.599362</td>\n      <td>0.005773</td>\n      <td>0.421468</td>\n      <td>19.417009</td>\n      <td>0.007345</td>\n    </tr>\n    <tr>\n      <th>189</th>\n      <td>2017-12-21</td>\n      <td>0.152666</td>\n      <td>1</td>\n      <td>0.752733</td>\n      <td>0.387333</td>\n      <td>-3.894796</td>\n      <td>0.002073</td>\n      <td>0.405036</td>\n      <td>20.378426</td>\n      <td>0.020828</td>\n    </tr>\n  </tbody>\n</table>\n<p>161 rows × 10 columns</p>\n</div>"
     },
     "execution_count": 3,
     "metadata": {},
     "output_type": "execute_result"
    }
   ],
   "source": [
    "for i, row in enumerate(perf_df.values):\n",
    "    if row[0] == '2018-12-28':\n",
    "        perf_df = perf_df.drop(i)\n",
    "perf_df"
   ],
   "metadata": {
    "collapsed": false,
    "ExecuteTime": {
     "end_time": "2024-04-16T14:56:32.399549Z",
     "start_time": "2024-04-16T14:56:32.386334Z"
    }
   },
   "id": "e4a8e4fc48b334c0",
   "execution_count": 3
  },
  {
   "cell_type": "code",
   "outputs": [],
   "source": [
    "perf_df = perf_df.drop_duplicates()\n",
    "perf_df = perf_df.drop('Position', axis=1)\n",
    "perf_df = perf_df.drop('Date', axis=1)"
   ],
   "metadata": {
    "collapsed": false,
    "ExecuteTime": {
     "end_time": "2024-04-16T14:56:32.406091Z",
     "start_time": "2024-04-16T14:56:32.400481Z"
    }
   },
   "id": "6ab5474a49254a52",
   "execution_count": 4
  },
  {
   "cell_type": "code",
   "outputs": [],
   "source": [
    "Y = perf_df.iloc[:, 0].T\n",
    "X = perf_df.iloc[:, 1:]"
   ],
   "metadata": {
    "collapsed": false,
    "ExecuteTime": {
     "end_time": "2024-04-16T14:56:32.411635Z",
     "start_time": "2024-04-16T14:56:32.409084Z"
    }
   },
   "id": "fc1c7c34bfd564b9",
   "execution_count": 5
  },
  {
   "cell_type": "code",
   "outputs": [],
   "source": [
    "model = sm.OLS(Y,X)\n",
    "results = model.fit()"
   ],
   "metadata": {
    "collapsed": false,
    "ExecuteTime": {
     "end_time": "2024-04-16T14:56:32.417078Z",
     "start_time": "2024-04-16T14:56:32.413084Z"
    }
   },
   "id": "1a3c11bf4ab24f7e",
   "execution_count": 6
  },
  {
   "cell_type": "code",
   "outputs": [
    {
     "data": {
      "text/plain": "<class 'statsmodels.iolib.summary.Summary'>\n\"\"\"\n                                 OLS Regression Results                                \n=======================================================================================\nDep. Variable:          Spread Return   R-squared (uncentered):                   0.950\nModel:                            OLS   Adj. R-squared (uncentered):              0.945\nMethod:                 Least Squares   F-statistic:                              190.9\nDate:                Tue, 16 Apr 2024   Prob (F-statistic):                    2.02e-43\nTime:                        22:56:32   Log-Likelihood:                          123.63\nNo. Observations:                  78   AIC:                                     -233.3\nDf Residuals:                      71   BIC:                                     -216.8\nDf Model:                           7                                                  \nCovariance Type:            nonrobust                                                  \n===================================================================================\n                      coef    std err          t      P>|t|      [0.025      0.975]\n-----------------------------------------------------------------------------------\nCorrelation         0.3073      0.114      2.706      0.009       0.081       0.534\nHurst Exponent      0.0106      0.135      0.078      0.938      -0.260       0.281\nADF t-statistic    -0.0274      0.024     -1.148      0.255      -0.075       0.020\nADF p-value         1.2037      3.575      0.337      0.737      -5.925       8.333\nmu                 -0.4778      0.066     -7.221      0.000      -0.610      -0.346\ntheta              -0.0022      0.001     -2.440      0.017      -0.004      -0.000\nsigma2              3.4910      0.533      6.544      0.000       2.427       4.555\n==============================================================================\nOmnibus:                       12.832   Durbin-Watson:                   2.242\nProb(Omnibus):                  0.002   Jarque-Bera (JB):               13.572\nSkew:                           0.928   Prob(JB):                      0.00113\nKurtosis:                       3.854   Cond. No.                     2.02e+04\n==============================================================================\n\nNotes:\n[1] R² is computed without centering (uncentered) since the model does not contain a constant.\n[2] Standard Errors assume that the covariance matrix of the errors is correctly specified.\n[3] The condition number is large, 2.02e+04. This might indicate that there are\nstrong multicollinearity or other numerical problems.\n\"\"\"",
      "text/html": "<table class=\"simpletable\">\n<caption>OLS Regression Results</caption>\n<tr>\n  <th>Dep. Variable:</th>      <td>Spread Return</td>  <th>  R-squared (uncentered):</th>      <td>   0.950</td>\n</tr>\n<tr>\n  <th>Model:</th>                   <td>OLS</td>       <th>  Adj. R-squared (uncentered):</th> <td>   0.945</td>\n</tr>\n<tr>\n  <th>Method:</th>             <td>Least Squares</td>  <th>  F-statistic:       </th>          <td>   190.9</td>\n</tr>\n<tr>\n  <th>Date:</th>             <td>Tue, 16 Apr 2024</td> <th>  Prob (F-statistic):</th>          <td>2.02e-43</td>\n</tr>\n<tr>\n  <th>Time:</th>                 <td>22:56:32</td>     <th>  Log-Likelihood:    </th>          <td>  123.63</td>\n</tr>\n<tr>\n  <th>No. Observations:</th>      <td>    78</td>      <th>  AIC:               </th>          <td>  -233.3</td>\n</tr>\n<tr>\n  <th>Df Residuals:</th>          <td>    71</td>      <th>  BIC:               </th>          <td>  -216.8</td>\n</tr>\n<tr>\n  <th>Df Model:</th>              <td>     7</td>      <th>                     </th>              <td> </td>   \n</tr>\n<tr>\n  <th>Covariance Type:</th>      <td>nonrobust</td>    <th>                     </th>              <td> </td>   \n</tr>\n</table>\n<table class=\"simpletable\">\n<tr>\n         <td></td>            <th>coef</th>     <th>std err</th>      <th>t</th>      <th>P>|t|</th>  <th>[0.025</th>    <th>0.975]</th>  \n</tr>\n<tr>\n  <th>Correlation</th>     <td>    0.3073</td> <td>    0.114</td> <td>    2.706</td> <td> 0.009</td> <td>    0.081</td> <td>    0.534</td>\n</tr>\n<tr>\n  <th>Hurst Exponent</th>  <td>    0.0106</td> <td>    0.135</td> <td>    0.078</td> <td> 0.938</td> <td>   -0.260</td> <td>    0.281</td>\n</tr>\n<tr>\n  <th>ADF t-statistic</th> <td>   -0.0274</td> <td>    0.024</td> <td>   -1.148</td> <td> 0.255</td> <td>   -0.075</td> <td>    0.020</td>\n</tr>\n<tr>\n  <th>ADF p-value</th>     <td>    1.2037</td> <td>    3.575</td> <td>    0.337</td> <td> 0.737</td> <td>   -5.925</td> <td>    8.333</td>\n</tr>\n<tr>\n  <th>mu</th>              <td>   -0.4778</td> <td>    0.066</td> <td>   -7.221</td> <td> 0.000</td> <td>   -0.610</td> <td>   -0.346</td>\n</tr>\n<tr>\n  <th>theta</th>           <td>   -0.0022</td> <td>    0.001</td> <td>   -2.440</td> <td> 0.017</td> <td>   -0.004</td> <td>   -0.000</td>\n</tr>\n<tr>\n  <th>sigma2</th>          <td>    3.4910</td> <td>    0.533</td> <td>    6.544</td> <td> 0.000</td> <td>    2.427</td> <td>    4.555</td>\n</tr>\n</table>\n<table class=\"simpletable\">\n<tr>\n  <th>Omnibus:</th>       <td>12.832</td> <th>  Durbin-Watson:     </th> <td>   2.242</td>\n</tr>\n<tr>\n  <th>Prob(Omnibus):</th> <td> 0.002</td> <th>  Jarque-Bera (JB):  </th> <td>  13.572</td>\n</tr>\n<tr>\n  <th>Skew:</th>          <td> 0.928</td> <th>  Prob(JB):          </th> <td> 0.00113</td>\n</tr>\n<tr>\n  <th>Kurtosis:</th>      <td> 3.854</td> <th>  Cond. No.          </th> <td>2.02e+04</td>\n</tr>\n</table><br/><br/>Notes:<br/>[1] R² is computed without centering (uncentered) since the model does not contain a constant.<br/>[2] Standard Errors assume that the covariance matrix of the errors is correctly specified.<br/>[3] The condition number is large, 2.02e+04. This might indicate that there are<br/>strong multicollinearity or other numerical problems.",
      "text/latex": "\\begin{center}\n\\begin{tabular}{lclc}\n\\toprule\n\\textbf{Dep. Variable:}    &  Spread Return   & \\textbf{  R-squared (uncentered):}      &     0.950   \\\\\n\\textbf{Model:}            &       OLS        & \\textbf{  Adj. R-squared (uncentered):} &     0.945   \\\\\n\\textbf{Method:}           &  Least Squares   & \\textbf{  F-statistic:       }          &     190.9   \\\\\n\\textbf{Date:}             & Tue, 16 Apr 2024 & \\textbf{  Prob (F-statistic):}          &  2.02e-43   \\\\\n\\textbf{Time:}             &     22:56:32     & \\textbf{  Log-Likelihood:    }          &    123.63   \\\\\n\\textbf{No. Observations:} &          78      & \\textbf{  AIC:               }          &    -233.3   \\\\\n\\textbf{Df Residuals:}     &          71      & \\textbf{  BIC:               }          &    -216.8   \\\\\n\\textbf{Df Model:}         &           7      & \\textbf{                     }          &             \\\\\n\\textbf{Covariance Type:}  &    nonrobust     & \\textbf{                     }          &             \\\\\n\\bottomrule\n\\end{tabular}\n\\begin{tabular}{lcccccc}\n                         & \\textbf{coef} & \\textbf{std err} & \\textbf{t} & \\textbf{P$> |$t$|$} & \\textbf{[0.025} & \\textbf{0.975]}  \\\\\n\\midrule\n\\textbf{Correlation}     &       0.3073  &        0.114     &     2.706  &         0.009        &        0.081    &        0.534     \\\\\n\\textbf{Hurst Exponent}  &       0.0106  &        0.135     &     0.078  &         0.938        &       -0.260    &        0.281     \\\\\n\\textbf{ADF t-statistic} &      -0.0274  &        0.024     &    -1.148  &         0.255        &       -0.075    &        0.020     \\\\\n\\textbf{ADF p-value}     &       1.2037  &        3.575     &     0.337  &         0.737        &       -5.925    &        8.333     \\\\\n\\textbf{mu}              &      -0.4778  &        0.066     &    -7.221  &         0.000        &       -0.610    &       -0.346     \\\\\n\\textbf{theta}           &      -0.0022  &        0.001     &    -2.440  &         0.017        &       -0.004    &       -0.000     \\\\\n\\textbf{sigma2}          &       3.4910  &        0.533     &     6.544  &         0.000        &        2.427    &        4.555     \\\\\n\\bottomrule\n\\end{tabular}\n\\begin{tabular}{lclc}\n\\textbf{Omnibus:}       & 12.832 & \\textbf{  Durbin-Watson:     } &    2.242  \\\\\n\\textbf{Prob(Omnibus):} &  0.002 & \\textbf{  Jarque-Bera (JB):  } &   13.572  \\\\\n\\textbf{Skew:}          &  0.928 & \\textbf{  Prob(JB):          } &  0.00113  \\\\\n\\textbf{Kurtosis:}      &  3.854 & \\textbf{  Cond. No.          } & 2.02e+04  \\\\\n\\bottomrule\n\\end{tabular}\n%\\caption{OLS Regression Results}\n\\end{center}\n\nNotes: \\newline\n [1] R² is computed without centering (uncentered) since the model does not contain a constant. \\newline\n [2] Standard Errors assume that the covariance matrix of the errors is correctly specified. \\newline\n [3] The condition number is large, 2.02e+04. This might indicate that there are \\newline\n strong multicollinearity or other numerical problems."
     },
     "execution_count": 7,
     "metadata": {},
     "output_type": "execute_result"
    }
   ],
   "source": [
    "results.summary()"
   ],
   "metadata": {
    "collapsed": false,
    "ExecuteTime": {
     "end_time": "2024-04-16T14:56:32.436146Z",
     "start_time": "2024-04-16T14:56:32.418551Z"
    }
   },
   "id": "fecf2dbac1c2c9a6",
   "execution_count": 7
  },
  {
   "cell_type": "code",
   "outputs": [
    {
     "data": {
      "text/plain": "<class 'statsmodels.iolib.summary.Summary'>\n\"\"\"\n                                 OLS Regression Results                                \n=======================================================================================\nDep. Variable:          Spread Return   R-squared (uncentered):                   0.950\nModel:                            OLS   Adj. R-squared (uncentered):              0.945\nMethod:                 Least Squares   F-statistic:                              225.8\nDate:                Tue, 16 Apr 2024   Prob (F-statistic):                    1.29e-44\nTime:                        22:56:32   Log-Likelihood:                          123.63\nNo. Observations:                  78   AIC:                                     -235.3\nDf Residuals:                      72   BIC:                                     -221.1\nDf Model:                           6                                                  \nCovariance Type:            nonrobust                                                  \n===================================================================================\n                      coef    std err          t      P>|t|      [0.025      0.975]\n-----------------------------------------------------------------------------------\nCorrelation         0.3099      0.108      2.869      0.005       0.095       0.525\nADF t-statistic    -0.0279      0.023     -1.216      0.228      -0.074       0.018\nADF p-value         1.2496      3.502      0.357      0.722      -5.732       8.231\nmu                 -0.4767      0.064     -7.419      0.000      -0.605      -0.349\ntheta              -0.0023      0.001     -3.158      0.002      -0.004      -0.001\nsigma2              3.4952      0.527      6.633      0.000       2.445       4.546\n==============================================================================\nOmnibus:                       12.783   Durbin-Watson:                   2.243\nProb(Omnibus):                  0.002   Jarque-Bera (JB):               13.509\nSkew:                           0.924   Prob(JB):                      0.00117\nKurtosis:                       3.863   Cond. No.                     1.99e+04\n==============================================================================\n\nNotes:\n[1] R² is computed without centering (uncentered) since the model does not contain a constant.\n[2] Standard Errors assume that the covariance matrix of the errors is correctly specified.\n[3] The condition number is large, 1.99e+04. This might indicate that there are\nstrong multicollinearity or other numerical problems.\n\"\"\"",
      "text/html": "<table class=\"simpletable\">\n<caption>OLS Regression Results</caption>\n<tr>\n  <th>Dep. Variable:</th>      <td>Spread Return</td>  <th>  R-squared (uncentered):</th>      <td>   0.950</td>\n</tr>\n<tr>\n  <th>Model:</th>                   <td>OLS</td>       <th>  Adj. R-squared (uncentered):</th> <td>   0.945</td>\n</tr>\n<tr>\n  <th>Method:</th>             <td>Least Squares</td>  <th>  F-statistic:       </th>          <td>   225.8</td>\n</tr>\n<tr>\n  <th>Date:</th>             <td>Tue, 16 Apr 2024</td> <th>  Prob (F-statistic):</th>          <td>1.29e-44</td>\n</tr>\n<tr>\n  <th>Time:</th>                 <td>22:56:32</td>     <th>  Log-Likelihood:    </th>          <td>  123.63</td>\n</tr>\n<tr>\n  <th>No. Observations:</th>      <td>    78</td>      <th>  AIC:               </th>          <td>  -235.3</td>\n</tr>\n<tr>\n  <th>Df Residuals:</th>          <td>    72</td>      <th>  BIC:               </th>          <td>  -221.1</td>\n</tr>\n<tr>\n  <th>Df Model:</th>              <td>     6</td>      <th>                     </th>              <td> </td>   \n</tr>\n<tr>\n  <th>Covariance Type:</th>      <td>nonrobust</td>    <th>                     </th>              <td> </td>   \n</tr>\n</table>\n<table class=\"simpletable\">\n<tr>\n         <td></td>            <th>coef</th>     <th>std err</th>      <th>t</th>      <th>P>|t|</th>  <th>[0.025</th>    <th>0.975]</th>  \n</tr>\n<tr>\n  <th>Correlation</th>     <td>    0.3099</td> <td>    0.108</td> <td>    2.869</td> <td> 0.005</td> <td>    0.095</td> <td>    0.525</td>\n</tr>\n<tr>\n  <th>ADF t-statistic</th> <td>   -0.0279</td> <td>    0.023</td> <td>   -1.216</td> <td> 0.228</td> <td>   -0.074</td> <td>    0.018</td>\n</tr>\n<tr>\n  <th>ADF p-value</th>     <td>    1.2496</td> <td>    3.502</td> <td>    0.357</td> <td> 0.722</td> <td>   -5.732</td> <td>    8.231</td>\n</tr>\n<tr>\n  <th>mu</th>              <td>   -0.4767</td> <td>    0.064</td> <td>   -7.419</td> <td> 0.000</td> <td>   -0.605</td> <td>   -0.349</td>\n</tr>\n<tr>\n  <th>theta</th>           <td>   -0.0023</td> <td>    0.001</td> <td>   -3.158</td> <td> 0.002</td> <td>   -0.004</td> <td>   -0.001</td>\n</tr>\n<tr>\n  <th>sigma2</th>          <td>    3.4952</td> <td>    0.527</td> <td>    6.633</td> <td> 0.000</td> <td>    2.445</td> <td>    4.546</td>\n</tr>\n</table>\n<table class=\"simpletable\">\n<tr>\n  <th>Omnibus:</th>       <td>12.783</td> <th>  Durbin-Watson:     </th> <td>   2.243</td>\n</tr>\n<tr>\n  <th>Prob(Omnibus):</th> <td> 0.002</td> <th>  Jarque-Bera (JB):  </th> <td>  13.509</td>\n</tr>\n<tr>\n  <th>Skew:</th>          <td> 0.924</td> <th>  Prob(JB):          </th> <td> 0.00117</td>\n</tr>\n<tr>\n  <th>Kurtosis:</th>      <td> 3.863</td> <th>  Cond. No.          </th> <td>1.99e+04</td>\n</tr>\n</table><br/><br/>Notes:<br/>[1] R² is computed without centering (uncentered) since the model does not contain a constant.<br/>[2] Standard Errors assume that the covariance matrix of the errors is correctly specified.<br/>[3] The condition number is large, 1.99e+04. This might indicate that there are<br/>strong multicollinearity or other numerical problems.",
      "text/latex": "\\begin{center}\n\\begin{tabular}{lclc}\n\\toprule\n\\textbf{Dep. Variable:}    &  Spread Return   & \\textbf{  R-squared (uncentered):}      &     0.950   \\\\\n\\textbf{Model:}            &       OLS        & \\textbf{  Adj. R-squared (uncentered):} &     0.945   \\\\\n\\textbf{Method:}           &  Least Squares   & \\textbf{  F-statistic:       }          &     225.8   \\\\\n\\textbf{Date:}             & Tue, 16 Apr 2024 & \\textbf{  Prob (F-statistic):}          &  1.29e-44   \\\\\n\\textbf{Time:}             &     22:56:32     & \\textbf{  Log-Likelihood:    }          &    123.63   \\\\\n\\textbf{No. Observations:} &          78      & \\textbf{  AIC:               }          &    -235.3   \\\\\n\\textbf{Df Residuals:}     &          72      & \\textbf{  BIC:               }          &    -221.1   \\\\\n\\textbf{Df Model:}         &           6      & \\textbf{                     }          &             \\\\\n\\textbf{Covariance Type:}  &    nonrobust     & \\textbf{                     }          &             \\\\\n\\bottomrule\n\\end{tabular}\n\\begin{tabular}{lcccccc}\n                         & \\textbf{coef} & \\textbf{std err} & \\textbf{t} & \\textbf{P$> |$t$|$} & \\textbf{[0.025} & \\textbf{0.975]}  \\\\\n\\midrule\n\\textbf{Correlation}     &       0.3099  &        0.108     &     2.869  &         0.005        &        0.095    &        0.525     \\\\\n\\textbf{ADF t-statistic} &      -0.0279  &        0.023     &    -1.216  &         0.228        &       -0.074    &        0.018     \\\\\n\\textbf{ADF p-value}     &       1.2496  &        3.502     &     0.357  &         0.722        &       -5.732    &        8.231     \\\\\n\\textbf{mu}              &      -0.4767  &        0.064     &    -7.419  &         0.000        &       -0.605    &       -0.349     \\\\\n\\textbf{theta}           &      -0.0023  &        0.001     &    -3.158  &         0.002        &       -0.004    &       -0.001     \\\\\n\\textbf{sigma2}          &       3.4952  &        0.527     &     6.633  &         0.000        &        2.445    &        4.546     \\\\\n\\bottomrule\n\\end{tabular}\n\\begin{tabular}{lclc}\n\\textbf{Omnibus:}       & 12.783 & \\textbf{  Durbin-Watson:     } &    2.243  \\\\\n\\textbf{Prob(Omnibus):} &  0.002 & \\textbf{  Jarque-Bera (JB):  } &   13.509  \\\\\n\\textbf{Skew:}          &  0.924 & \\textbf{  Prob(JB):          } &  0.00117  \\\\\n\\textbf{Kurtosis:}      &  3.863 & \\textbf{  Cond. No.          } & 1.99e+04  \\\\\n\\bottomrule\n\\end{tabular}\n%\\caption{OLS Regression Results}\n\\end{center}\n\nNotes: \\newline\n [1] R² is computed without centering (uncentered) since the model does not contain a constant. \\newline\n [2] Standard Errors assume that the covariance matrix of the errors is correctly specified. \\newline\n [3] The condition number is large, 1.99e+04. This might indicate that there are \\newline\n strong multicollinearity or other numerical problems."
     },
     "execution_count": 8,
     "metadata": {},
     "output_type": "execute_result"
    }
   ],
   "source": [
    "X = X.drop('Hurst Exponent', axis=1)\n",
    "model = sm.OLS(Y,X)\n",
    "results = model.fit()\n",
    "results.summary()"
   ],
   "metadata": {
    "collapsed": false,
    "ExecuteTime": {
     "end_time": "2024-04-16T14:56:32.455512Z",
     "start_time": "2024-04-16T14:56:32.438396Z"
    }
   },
   "id": "fe22a58050941b48",
   "execution_count": 8
  },
  {
   "cell_type": "code",
   "outputs": [
    {
     "data": {
      "text/plain": "<class 'statsmodels.iolib.summary.Summary'>\n\"\"\"\n                                 OLS Regression Results                                \n=======================================================================================\nDep. Variable:          Spread Return   R-squared (uncentered):                   0.949\nModel:                            OLS   Adj. R-squared (uncentered):              0.946\nMethod:                 Least Squares   F-statistic:                              274.2\nDate:                Tue, 16 Apr 2024   Prob (F-statistic):                    7.87e-46\nTime:                        22:56:32   Log-Likelihood:                          123.56\nNo. Observations:                  78   AIC:                                     -237.1\nDf Residuals:                      73   BIC:                                     -225.3\nDf Model:                           5                                                  \nCovariance Type:            nonrobust                                                  \n===================================================================================\n                      coef    std err          t      P>|t|      [0.025      0.975]\n-----------------------------------------------------------------------------------\nCorrelation         0.3385      0.072      4.721      0.000       0.196       0.481\nADF t-statistic    -0.0226      0.017     -1.297      0.199      -0.057       0.012\nmu                 -0.4619      0.049     -9.467      0.000      -0.559      -0.365\ntheta              -0.0024      0.001     -3.473      0.001      -0.004      -0.001\nsigma2              3.5218      0.519      6.792      0.000       2.488       4.555\n==============================================================================\nOmnibus:                       12.805   Durbin-Watson:                   2.263\nProb(Omnibus):                  0.002   Jarque-Bera (JB):               13.552\nSkew:                           0.920   Prob(JB):                      0.00114\nKurtosis:                       3.886   Cond. No.                     2.97e+03\n==============================================================================\n\nNotes:\n[1] R² is computed without centering (uncentered) since the model does not contain a constant.\n[2] Standard Errors assume that the covariance matrix of the errors is correctly specified.\n[3] The condition number is large, 2.97e+03. This might indicate that there are\nstrong multicollinearity or other numerical problems.\n\"\"\"",
      "text/html": "<table class=\"simpletable\">\n<caption>OLS Regression Results</caption>\n<tr>\n  <th>Dep. Variable:</th>      <td>Spread Return</td>  <th>  R-squared (uncentered):</th>      <td>   0.949</td>\n</tr>\n<tr>\n  <th>Model:</th>                   <td>OLS</td>       <th>  Adj. R-squared (uncentered):</th> <td>   0.946</td>\n</tr>\n<tr>\n  <th>Method:</th>             <td>Least Squares</td>  <th>  F-statistic:       </th>          <td>   274.2</td>\n</tr>\n<tr>\n  <th>Date:</th>             <td>Tue, 16 Apr 2024</td> <th>  Prob (F-statistic):</th>          <td>7.87e-46</td>\n</tr>\n<tr>\n  <th>Time:</th>                 <td>22:56:32</td>     <th>  Log-Likelihood:    </th>          <td>  123.56</td>\n</tr>\n<tr>\n  <th>No. Observations:</th>      <td>    78</td>      <th>  AIC:               </th>          <td>  -237.1</td>\n</tr>\n<tr>\n  <th>Df Residuals:</th>          <td>    73</td>      <th>  BIC:               </th>          <td>  -225.3</td>\n</tr>\n<tr>\n  <th>Df Model:</th>              <td>     5</td>      <th>                     </th>              <td> </td>   \n</tr>\n<tr>\n  <th>Covariance Type:</th>      <td>nonrobust</td>    <th>                     </th>              <td> </td>   \n</tr>\n</table>\n<table class=\"simpletable\">\n<tr>\n         <td></td>            <th>coef</th>     <th>std err</th>      <th>t</th>      <th>P>|t|</th>  <th>[0.025</th>    <th>0.975]</th>  \n</tr>\n<tr>\n  <th>Correlation</th>     <td>    0.3385</td> <td>    0.072</td> <td>    4.721</td> <td> 0.000</td> <td>    0.196</td> <td>    0.481</td>\n</tr>\n<tr>\n  <th>ADF t-statistic</th> <td>   -0.0226</td> <td>    0.017</td> <td>   -1.297</td> <td> 0.199</td> <td>   -0.057</td> <td>    0.012</td>\n</tr>\n<tr>\n  <th>mu</th>              <td>   -0.4619</td> <td>    0.049</td> <td>   -9.467</td> <td> 0.000</td> <td>   -0.559</td> <td>   -0.365</td>\n</tr>\n<tr>\n  <th>theta</th>           <td>   -0.0024</td> <td>    0.001</td> <td>   -3.473</td> <td> 0.001</td> <td>   -0.004</td> <td>   -0.001</td>\n</tr>\n<tr>\n  <th>sigma2</th>          <td>    3.5218</td> <td>    0.519</td> <td>    6.792</td> <td> 0.000</td> <td>    2.488</td> <td>    4.555</td>\n</tr>\n</table>\n<table class=\"simpletable\">\n<tr>\n  <th>Omnibus:</th>       <td>12.805</td> <th>  Durbin-Watson:     </th> <td>   2.263</td>\n</tr>\n<tr>\n  <th>Prob(Omnibus):</th> <td> 0.002</td> <th>  Jarque-Bera (JB):  </th> <td>  13.552</td>\n</tr>\n<tr>\n  <th>Skew:</th>          <td> 0.920</td> <th>  Prob(JB):          </th> <td> 0.00114</td>\n</tr>\n<tr>\n  <th>Kurtosis:</th>      <td> 3.886</td> <th>  Cond. No.          </th> <td>2.97e+03</td>\n</tr>\n</table><br/><br/>Notes:<br/>[1] R² is computed without centering (uncentered) since the model does not contain a constant.<br/>[2] Standard Errors assume that the covariance matrix of the errors is correctly specified.<br/>[3] The condition number is large, 2.97e+03. This might indicate that there are<br/>strong multicollinearity or other numerical problems.",
      "text/latex": "\\begin{center}\n\\begin{tabular}{lclc}\n\\toprule\n\\textbf{Dep. Variable:}    &  Spread Return   & \\textbf{  R-squared (uncentered):}      &     0.949   \\\\\n\\textbf{Model:}            &       OLS        & \\textbf{  Adj. R-squared (uncentered):} &     0.946   \\\\\n\\textbf{Method:}           &  Least Squares   & \\textbf{  F-statistic:       }          &     274.2   \\\\\n\\textbf{Date:}             & Tue, 16 Apr 2024 & \\textbf{  Prob (F-statistic):}          &  7.87e-46   \\\\\n\\textbf{Time:}             &     22:56:32     & \\textbf{  Log-Likelihood:    }          &    123.56   \\\\\n\\textbf{No. Observations:} &          78      & \\textbf{  AIC:               }          &    -237.1   \\\\\n\\textbf{Df Residuals:}     &          73      & \\textbf{  BIC:               }          &    -225.3   \\\\\n\\textbf{Df Model:}         &           5      & \\textbf{                     }          &             \\\\\n\\textbf{Covariance Type:}  &    nonrobust     & \\textbf{                     }          &             \\\\\n\\bottomrule\n\\end{tabular}\n\\begin{tabular}{lcccccc}\n                         & \\textbf{coef} & \\textbf{std err} & \\textbf{t} & \\textbf{P$> |$t$|$} & \\textbf{[0.025} & \\textbf{0.975]}  \\\\\n\\midrule\n\\textbf{Correlation}     &       0.3385  &        0.072     &     4.721  &         0.000        &        0.196    &        0.481     \\\\\n\\textbf{ADF t-statistic} &      -0.0226  &        0.017     &    -1.297  &         0.199        &       -0.057    &        0.012     \\\\\n\\textbf{mu}              &      -0.4619  &        0.049     &    -9.467  &         0.000        &       -0.559    &       -0.365     \\\\\n\\textbf{theta}           &      -0.0024  &        0.001     &    -3.473  &         0.001        &       -0.004    &       -0.001     \\\\\n\\textbf{sigma2}          &       3.5218  &        0.519     &     6.792  &         0.000        &        2.488    &        4.555     \\\\\n\\bottomrule\n\\end{tabular}\n\\begin{tabular}{lclc}\n\\textbf{Omnibus:}       & 12.805 & \\textbf{  Durbin-Watson:     } &    2.263  \\\\\n\\textbf{Prob(Omnibus):} &  0.002 & \\textbf{  Jarque-Bera (JB):  } &   13.552  \\\\\n\\textbf{Skew:}          &  0.920 & \\textbf{  Prob(JB):          } &  0.00114  \\\\\n\\textbf{Kurtosis:}      &  3.886 & \\textbf{  Cond. No.          } & 2.97e+03  \\\\\n\\bottomrule\n\\end{tabular}\n%\\caption{OLS Regression Results}\n\\end{center}\n\nNotes: \\newline\n [1] R² is computed without centering (uncentered) since the model does not contain a constant. \\newline\n [2] Standard Errors assume that the covariance matrix of the errors is correctly specified. \\newline\n [3] The condition number is large, 2.97e+03. This might indicate that there are \\newline\n strong multicollinearity or other numerical problems."
     },
     "execution_count": 9,
     "metadata": {},
     "output_type": "execute_result"
    }
   ],
   "source": [
    "X = X.drop('ADF p-value', axis=1)\n",
    "model = sm.OLS(Y,X)\n",
    "results = model.fit()\n",
    "results.summary()"
   ],
   "metadata": {
    "collapsed": false,
    "ExecuteTime": {
     "end_time": "2024-04-16T14:56:32.474311Z",
     "start_time": "2024-04-16T14:56:32.456486Z"
    }
   },
   "id": "c6a19c9d282eb9cc",
   "execution_count": 9
  },
  {
   "cell_type": "code",
   "outputs": [
    {
     "data": {
      "text/plain": "<class 'statsmodels.iolib.summary.Summary'>\n\"\"\"\n                                 OLS Regression Results                                \n=======================================================================================\nDep. Variable:          Spread Return   R-squared (uncentered):                   0.948\nModel:                            OLS   Adj. R-squared (uncentered):              0.945\nMethod:                 Least Squares   F-statistic:                              339.2\nDate:                Tue, 16 Apr 2024   Prob (F-statistic):                    9.17e-47\nTime:                        22:56:32   Log-Likelihood:                          122.67\nNo. Observations:                  78   AIC:                                     -237.3\nDf Residuals:                      74   BIC:                                     -227.9\nDf Model:                           4                                                  \nCovariance Type:            nonrobust                                                  \n===============================================================================\n                  coef    std err          t      P>|t|      [0.025      0.975]\n-------------------------------------------------------------------------------\nCorrelation     0.4223      0.031     13.457      0.000       0.360       0.485\nmu             -0.4375      0.045     -9.678      0.000      -0.528      -0.347\ntheta          -0.0019      0.001     -3.239      0.002      -0.003      -0.001\nsigma2          3.5756      0.519      6.886      0.000       2.541       4.610\n==============================================================================\nOmnibus:                       10.257   Durbin-Watson:                   2.160\nProb(Omnibus):                  0.006   Jarque-Bera (JB):               10.199\nSkew:                           0.838   Prob(JB):                      0.00610\nKurtosis:                       3.576   Cond. No.                     2.94e+03\n==============================================================================\n\nNotes:\n[1] R² is computed without centering (uncentered) since the model does not contain a constant.\n[2] Standard Errors assume that the covariance matrix of the errors is correctly specified.\n[3] The condition number is large, 2.94e+03. This might indicate that there are\nstrong multicollinearity or other numerical problems.\n\"\"\"",
      "text/html": "<table class=\"simpletable\">\n<caption>OLS Regression Results</caption>\n<tr>\n  <th>Dep. Variable:</th>      <td>Spread Return</td>  <th>  R-squared (uncentered):</th>      <td>   0.948</td>\n</tr>\n<tr>\n  <th>Model:</th>                   <td>OLS</td>       <th>  Adj. R-squared (uncentered):</th> <td>   0.945</td>\n</tr>\n<tr>\n  <th>Method:</th>             <td>Least Squares</td>  <th>  F-statistic:       </th>          <td>   339.2</td>\n</tr>\n<tr>\n  <th>Date:</th>             <td>Tue, 16 Apr 2024</td> <th>  Prob (F-statistic):</th>          <td>9.17e-47</td>\n</tr>\n<tr>\n  <th>Time:</th>                 <td>22:56:32</td>     <th>  Log-Likelihood:    </th>          <td>  122.67</td>\n</tr>\n<tr>\n  <th>No. Observations:</th>      <td>    78</td>      <th>  AIC:               </th>          <td>  -237.3</td>\n</tr>\n<tr>\n  <th>Df Residuals:</th>          <td>    74</td>      <th>  BIC:               </th>          <td>  -227.9</td>\n</tr>\n<tr>\n  <th>Df Model:</th>              <td>     4</td>      <th>                     </th>              <td> </td>   \n</tr>\n<tr>\n  <th>Covariance Type:</th>      <td>nonrobust</td>    <th>                     </th>              <td> </td>   \n</tr>\n</table>\n<table class=\"simpletable\">\n<tr>\n       <td></td>          <th>coef</th>     <th>std err</th>      <th>t</th>      <th>P>|t|</th>  <th>[0.025</th>    <th>0.975]</th>  \n</tr>\n<tr>\n  <th>Correlation</th> <td>    0.4223</td> <td>    0.031</td> <td>   13.457</td> <td> 0.000</td> <td>    0.360</td> <td>    0.485</td>\n</tr>\n<tr>\n  <th>mu</th>          <td>   -0.4375</td> <td>    0.045</td> <td>   -9.678</td> <td> 0.000</td> <td>   -0.528</td> <td>   -0.347</td>\n</tr>\n<tr>\n  <th>theta</th>       <td>   -0.0019</td> <td>    0.001</td> <td>   -3.239</td> <td> 0.002</td> <td>   -0.003</td> <td>   -0.001</td>\n</tr>\n<tr>\n  <th>sigma2</th>      <td>    3.5756</td> <td>    0.519</td> <td>    6.886</td> <td> 0.000</td> <td>    2.541</td> <td>    4.610</td>\n</tr>\n</table>\n<table class=\"simpletable\">\n<tr>\n  <th>Omnibus:</th>       <td>10.257</td> <th>  Durbin-Watson:     </th> <td>   2.160</td>\n</tr>\n<tr>\n  <th>Prob(Omnibus):</th> <td> 0.006</td> <th>  Jarque-Bera (JB):  </th> <td>  10.199</td>\n</tr>\n<tr>\n  <th>Skew:</th>          <td> 0.838</td> <th>  Prob(JB):          </th> <td> 0.00610</td>\n</tr>\n<tr>\n  <th>Kurtosis:</th>      <td> 3.576</td> <th>  Cond. No.          </th> <td>2.94e+03</td>\n</tr>\n</table><br/><br/>Notes:<br/>[1] R² is computed without centering (uncentered) since the model does not contain a constant.<br/>[2] Standard Errors assume that the covariance matrix of the errors is correctly specified.<br/>[3] The condition number is large, 2.94e+03. This might indicate that there are<br/>strong multicollinearity or other numerical problems.",
      "text/latex": "\\begin{center}\n\\begin{tabular}{lclc}\n\\toprule\n\\textbf{Dep. Variable:}    &  Spread Return   & \\textbf{  R-squared (uncentered):}      &     0.948   \\\\\n\\textbf{Model:}            &       OLS        & \\textbf{  Adj. R-squared (uncentered):} &     0.945   \\\\\n\\textbf{Method:}           &  Least Squares   & \\textbf{  F-statistic:       }          &     339.2   \\\\\n\\textbf{Date:}             & Tue, 16 Apr 2024 & \\textbf{  Prob (F-statistic):}          &  9.17e-47   \\\\\n\\textbf{Time:}             &     22:56:32     & \\textbf{  Log-Likelihood:    }          &    122.67   \\\\\n\\textbf{No. Observations:} &          78      & \\textbf{  AIC:               }          &    -237.3   \\\\\n\\textbf{Df Residuals:}     &          74      & \\textbf{  BIC:               }          &    -227.9   \\\\\n\\textbf{Df Model:}         &           4      & \\textbf{                     }          &             \\\\\n\\textbf{Covariance Type:}  &    nonrobust     & \\textbf{                     }          &             \\\\\n\\bottomrule\n\\end{tabular}\n\\begin{tabular}{lcccccc}\n                     & \\textbf{coef} & \\textbf{std err} & \\textbf{t} & \\textbf{P$> |$t$|$} & \\textbf{[0.025} & \\textbf{0.975]}  \\\\\n\\midrule\n\\textbf{Correlation} &       0.4223  &        0.031     &    13.457  &         0.000        &        0.360    &        0.485     \\\\\n\\textbf{mu}          &      -0.4375  &        0.045     &    -9.678  &         0.000        &       -0.528    &       -0.347     \\\\\n\\textbf{theta}       &      -0.0019  &        0.001     &    -3.239  &         0.002        &       -0.003    &       -0.001     \\\\\n\\textbf{sigma2}      &       3.5756  &        0.519     &     6.886  &         0.000        &        2.541    &        4.610     \\\\\n\\bottomrule\n\\end{tabular}\n\\begin{tabular}{lclc}\n\\textbf{Omnibus:}       & 10.257 & \\textbf{  Durbin-Watson:     } &    2.160  \\\\\n\\textbf{Prob(Omnibus):} &  0.006 & \\textbf{  Jarque-Bera (JB):  } &   10.199  \\\\\n\\textbf{Skew:}          &  0.838 & \\textbf{  Prob(JB):          } &  0.00610  \\\\\n\\textbf{Kurtosis:}      &  3.576 & \\textbf{  Cond. No.          } & 2.94e+03  \\\\\n\\bottomrule\n\\end{tabular}\n%\\caption{OLS Regression Results}\n\\end{center}\n\nNotes: \\newline\n [1] R² is computed without centering (uncentered) since the model does not contain a constant. \\newline\n [2] Standard Errors assume that the covariance matrix of the errors is correctly specified. \\newline\n [3] The condition number is large, 2.94e+03. This might indicate that there are \\newline\n strong multicollinearity or other numerical problems."
     },
     "execution_count": 10,
     "metadata": {},
     "output_type": "execute_result"
    }
   ],
   "source": [
    "X = X.drop('ADF t-statistic', axis=1)\n",
    "model = sm.OLS(Y,X)\n",
    "results = model.fit()\n",
    "results.summary()"
   ],
   "metadata": {
    "collapsed": false,
    "ExecuteTime": {
     "end_time": "2024-04-16T14:56:32.490981Z",
     "start_time": "2024-04-16T14:56:32.474997Z"
    }
   },
   "id": "24a488d6a67f0a84",
   "execution_count": 10
  },
  {
   "cell_type": "code",
   "outputs": [],
   "source": [
    "results.params.to_csv('data/OLS_params.csv')"
   ],
   "metadata": {
    "collapsed": false,
    "ExecuteTime": {
     "end_time": "2024-04-16T14:56:32.497366Z",
     "start_time": "2024-04-16T14:56:32.492058Z"
    }
   },
   "id": "ca5066df82badcdb",
   "execution_count": 11
  }
 ],
 "metadata": {
  "kernelspec": {
   "display_name": "Python 3",
   "language": "python",
   "name": "python3"
  },
  "language_info": {
   "codemirror_mode": {
    "name": "ipython",
    "version": 2
   },
   "file_extension": ".py",
   "mimetype": "text/x-python",
   "name": "python",
   "nbconvert_exporter": "python",
   "pygments_lexer": "ipython2",
   "version": "2.7.6"
  }
 },
 "nbformat": 4,
 "nbformat_minor": 5
}
