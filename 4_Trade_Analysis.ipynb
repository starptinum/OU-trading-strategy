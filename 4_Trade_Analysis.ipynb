{
 "cells": [
  {
   "cell_type": "code",
   "execution_count": 1,
   "id": "initial_id",
   "metadata": {
    "collapsed": true,
    "ExecuteTime": {
     "end_time": "2024-04-16T13:22:02.841790Z",
     "start_time": "2024-04-16T13:22:01.936029Z"
    }
   },
   "outputs": [],
   "source": [
    "import pandas as pd\n",
    "import statsmodels.api as sm"
   ]
  },
  {
   "cell_type": "code",
   "outputs": [
    {
     "data": {
      "text/plain": "           Date  Spread Return  Position  Correlation  Hurst Exponent  \\\n0    2015-03-02       0.213855         1     0.719771        0.305513   \n1    2015-04-30       0.357348        -1     0.795202        0.331524   \n2    2015-08-06       0.209301        -1     0.733198        0.259206   \n3    2015-09-17       0.160368        -1     0.832353        0.278602   \n4    2015-10-21       0.193082        -1     0.819112        0.189248   \n..          ...            ...       ...          ...             ...   \n198  2018-05-09       0.084367         1     0.779220        0.301226   \n199  2018-07-19       0.358512         1     0.872801        0.218501   \n200  2018-12-28      -0.809736         1     0.837759        0.218731   \n201  2015-03-10       0.220695        -1     0.714836        0.239170   \n202  2015-04-30       0.357348        -1     0.795202        0.331524   \n\n     ADF t-statistic  ADF p-value        mu      theta    sigma2  \n0          -3.895640     0.002067  0.302901  21.542140  0.018726  \n1          -3.794892     0.002960  0.127148  27.725469  0.014877  \n2          -3.452069     0.009307  0.271813  30.466944  0.020985  \n3          -4.252935     0.000535  0.210411  40.968222  0.011065  \n4          -4.194171     0.000674  0.248712  62.887502  0.007290  \n..               ...          ...       ...        ...       ...  \n198        -3.850704     0.002429  0.495426  28.383588  0.010726  \n199        -3.750290     0.003459  0.140859  28.619103  0.004763  \n200        -3.540255     0.007011  0.131036  45.385655  0.008721  \n201        -3.849958     0.002436  0.352587  33.492489  0.017598  \n202        -3.794892     0.002960  0.127148  27.725469  0.014877  \n\n[203 rows x 10 columns]",
      "text/html": "<div>\n<style scoped>\n    .dataframe tbody tr th:only-of-type {\n        vertical-align: middle;\n    }\n\n    .dataframe tbody tr th {\n        vertical-align: top;\n    }\n\n    .dataframe thead th {\n        text-align: right;\n    }\n</style>\n<table border=\"1\" class=\"dataframe\">\n  <thead>\n    <tr style=\"text-align: right;\">\n      <th></th>\n      <th>Date</th>\n      <th>Spread Return</th>\n      <th>Position</th>\n      <th>Correlation</th>\n      <th>Hurst Exponent</th>\n      <th>ADF t-statistic</th>\n      <th>ADF p-value</th>\n      <th>mu</th>\n      <th>theta</th>\n      <th>sigma2</th>\n    </tr>\n  </thead>\n  <tbody>\n    <tr>\n      <th>0</th>\n      <td>2015-03-02</td>\n      <td>0.213855</td>\n      <td>1</td>\n      <td>0.719771</td>\n      <td>0.305513</td>\n      <td>-3.895640</td>\n      <td>0.002067</td>\n      <td>0.302901</td>\n      <td>21.542140</td>\n      <td>0.018726</td>\n    </tr>\n    <tr>\n      <th>1</th>\n      <td>2015-04-30</td>\n      <td>0.357348</td>\n      <td>-1</td>\n      <td>0.795202</td>\n      <td>0.331524</td>\n      <td>-3.794892</td>\n      <td>0.002960</td>\n      <td>0.127148</td>\n      <td>27.725469</td>\n      <td>0.014877</td>\n    </tr>\n    <tr>\n      <th>2</th>\n      <td>2015-08-06</td>\n      <td>0.209301</td>\n      <td>-1</td>\n      <td>0.733198</td>\n      <td>0.259206</td>\n      <td>-3.452069</td>\n      <td>0.009307</td>\n      <td>0.271813</td>\n      <td>30.466944</td>\n      <td>0.020985</td>\n    </tr>\n    <tr>\n      <th>3</th>\n      <td>2015-09-17</td>\n      <td>0.160368</td>\n      <td>-1</td>\n      <td>0.832353</td>\n      <td>0.278602</td>\n      <td>-4.252935</td>\n      <td>0.000535</td>\n      <td>0.210411</td>\n      <td>40.968222</td>\n      <td>0.011065</td>\n    </tr>\n    <tr>\n      <th>4</th>\n      <td>2015-10-21</td>\n      <td>0.193082</td>\n      <td>-1</td>\n      <td>0.819112</td>\n      <td>0.189248</td>\n      <td>-4.194171</td>\n      <td>0.000674</td>\n      <td>0.248712</td>\n      <td>62.887502</td>\n      <td>0.007290</td>\n    </tr>\n    <tr>\n      <th>...</th>\n      <td>...</td>\n      <td>...</td>\n      <td>...</td>\n      <td>...</td>\n      <td>...</td>\n      <td>...</td>\n      <td>...</td>\n      <td>...</td>\n      <td>...</td>\n      <td>...</td>\n    </tr>\n    <tr>\n      <th>198</th>\n      <td>2018-05-09</td>\n      <td>0.084367</td>\n      <td>1</td>\n      <td>0.779220</td>\n      <td>0.301226</td>\n      <td>-3.850704</td>\n      <td>0.002429</td>\n      <td>0.495426</td>\n      <td>28.383588</td>\n      <td>0.010726</td>\n    </tr>\n    <tr>\n      <th>199</th>\n      <td>2018-07-19</td>\n      <td>0.358512</td>\n      <td>1</td>\n      <td>0.872801</td>\n      <td>0.218501</td>\n      <td>-3.750290</td>\n      <td>0.003459</td>\n      <td>0.140859</td>\n      <td>28.619103</td>\n      <td>0.004763</td>\n    </tr>\n    <tr>\n      <th>200</th>\n      <td>2018-12-28</td>\n      <td>-0.809736</td>\n      <td>1</td>\n      <td>0.837759</td>\n      <td>0.218731</td>\n      <td>-3.540255</td>\n      <td>0.007011</td>\n      <td>0.131036</td>\n      <td>45.385655</td>\n      <td>0.008721</td>\n    </tr>\n    <tr>\n      <th>201</th>\n      <td>2015-03-10</td>\n      <td>0.220695</td>\n      <td>-1</td>\n      <td>0.714836</td>\n      <td>0.239170</td>\n      <td>-3.849958</td>\n      <td>0.002436</td>\n      <td>0.352587</td>\n      <td>33.492489</td>\n      <td>0.017598</td>\n    </tr>\n    <tr>\n      <th>202</th>\n      <td>2015-04-30</td>\n      <td>0.357348</td>\n      <td>-1</td>\n      <td>0.795202</td>\n      <td>0.331524</td>\n      <td>-3.794892</td>\n      <td>0.002960</td>\n      <td>0.127148</td>\n      <td>27.725469</td>\n      <td>0.014877</td>\n    </tr>\n  </tbody>\n</table>\n<p>203 rows × 10 columns</p>\n</div>"
     },
     "execution_count": 2,
     "metadata": {},
     "output_type": "execute_result"
    }
   ],
   "source": [
    "perf_df = pd.read_csv('data/trade_record.csv', index_col=0)\n",
    "perf_df"
   ],
   "metadata": {
    "collapsed": false,
    "ExecuteTime": {
     "end_time": "2024-04-16T13:22:02.855787Z",
     "start_time": "2024-04-16T13:22:02.842819Z"
    }
   },
   "id": "7b732a2fdb0f566f",
   "execution_count": 2
  },
  {
   "cell_type": "code",
   "outputs": [
    {
     "data": {
      "text/plain": "           Date  Spread Return  Position  Correlation  Hurst Exponent  \\\n0    2015-03-02       0.213855         1     0.719771        0.305513   \n1    2015-04-30       0.357348        -1     0.795202        0.331524   \n2    2015-08-06       0.209301        -1     0.733198        0.259206   \n3    2015-09-17       0.160368        -1     0.832353        0.278602   \n4    2015-10-21       0.193082        -1     0.819112        0.189248   \n..          ...            ...       ...          ...             ...   \n197  2018-03-05       0.322349         1     0.772314        0.334305   \n198  2018-05-09       0.084367         1     0.779220        0.301226   \n199  2018-07-19       0.358512         1     0.872801        0.218501   \n201  2015-03-10       0.220695        -1     0.714836        0.239170   \n202  2015-04-30       0.357348        -1     0.795202        0.331524   \n\n     ADF t-statistic  ADF p-value        mu      theta    sigma2  \n0          -3.895640     0.002067  0.302901  21.542140  0.018726  \n1          -3.794892     0.002960  0.127148  27.725469  0.014877  \n2          -3.452069     0.009307  0.271813  30.466944  0.020985  \n3          -4.252935     0.000535  0.210411  40.968222  0.011065  \n4          -4.194171     0.000674  0.248712  62.887502  0.007290  \n..               ...          ...       ...        ...       ...  \n197        -4.058924     0.001132  0.322544  28.583211  0.050354  \n198        -3.850704     0.002429  0.495426  28.383588  0.010726  \n199        -3.750290     0.003459  0.140859  28.619103  0.004763  \n201        -3.849958     0.002436  0.352587  33.492489  0.017598  \n202        -3.794892     0.002960  0.127148  27.725469  0.014877  \n\n[174 rows x 10 columns]",
      "text/html": "<div>\n<style scoped>\n    .dataframe tbody tr th:only-of-type {\n        vertical-align: middle;\n    }\n\n    .dataframe tbody tr th {\n        vertical-align: top;\n    }\n\n    .dataframe thead th {\n        text-align: right;\n    }\n</style>\n<table border=\"1\" class=\"dataframe\">\n  <thead>\n    <tr style=\"text-align: right;\">\n      <th></th>\n      <th>Date</th>\n      <th>Spread Return</th>\n      <th>Position</th>\n      <th>Correlation</th>\n      <th>Hurst Exponent</th>\n      <th>ADF t-statistic</th>\n      <th>ADF p-value</th>\n      <th>mu</th>\n      <th>theta</th>\n      <th>sigma2</th>\n    </tr>\n  </thead>\n  <tbody>\n    <tr>\n      <th>0</th>\n      <td>2015-03-02</td>\n      <td>0.213855</td>\n      <td>1</td>\n      <td>0.719771</td>\n      <td>0.305513</td>\n      <td>-3.895640</td>\n      <td>0.002067</td>\n      <td>0.302901</td>\n      <td>21.542140</td>\n      <td>0.018726</td>\n    </tr>\n    <tr>\n      <th>1</th>\n      <td>2015-04-30</td>\n      <td>0.357348</td>\n      <td>-1</td>\n      <td>0.795202</td>\n      <td>0.331524</td>\n      <td>-3.794892</td>\n      <td>0.002960</td>\n      <td>0.127148</td>\n      <td>27.725469</td>\n      <td>0.014877</td>\n    </tr>\n    <tr>\n      <th>2</th>\n      <td>2015-08-06</td>\n      <td>0.209301</td>\n      <td>-1</td>\n      <td>0.733198</td>\n      <td>0.259206</td>\n      <td>-3.452069</td>\n      <td>0.009307</td>\n      <td>0.271813</td>\n      <td>30.466944</td>\n      <td>0.020985</td>\n    </tr>\n    <tr>\n      <th>3</th>\n      <td>2015-09-17</td>\n      <td>0.160368</td>\n      <td>-1</td>\n      <td>0.832353</td>\n      <td>0.278602</td>\n      <td>-4.252935</td>\n      <td>0.000535</td>\n      <td>0.210411</td>\n      <td>40.968222</td>\n      <td>0.011065</td>\n    </tr>\n    <tr>\n      <th>4</th>\n      <td>2015-10-21</td>\n      <td>0.193082</td>\n      <td>-1</td>\n      <td>0.819112</td>\n      <td>0.189248</td>\n      <td>-4.194171</td>\n      <td>0.000674</td>\n      <td>0.248712</td>\n      <td>62.887502</td>\n      <td>0.007290</td>\n    </tr>\n    <tr>\n      <th>...</th>\n      <td>...</td>\n      <td>...</td>\n      <td>...</td>\n      <td>...</td>\n      <td>...</td>\n      <td>...</td>\n      <td>...</td>\n      <td>...</td>\n      <td>...</td>\n      <td>...</td>\n    </tr>\n    <tr>\n      <th>197</th>\n      <td>2018-03-05</td>\n      <td>0.322349</td>\n      <td>1</td>\n      <td>0.772314</td>\n      <td>0.334305</td>\n      <td>-4.058924</td>\n      <td>0.001132</td>\n      <td>0.322544</td>\n      <td>28.583211</td>\n      <td>0.050354</td>\n    </tr>\n    <tr>\n      <th>198</th>\n      <td>2018-05-09</td>\n      <td>0.084367</td>\n      <td>1</td>\n      <td>0.779220</td>\n      <td>0.301226</td>\n      <td>-3.850704</td>\n      <td>0.002429</td>\n      <td>0.495426</td>\n      <td>28.383588</td>\n      <td>0.010726</td>\n    </tr>\n    <tr>\n      <th>199</th>\n      <td>2018-07-19</td>\n      <td>0.358512</td>\n      <td>1</td>\n      <td>0.872801</td>\n      <td>0.218501</td>\n      <td>-3.750290</td>\n      <td>0.003459</td>\n      <td>0.140859</td>\n      <td>28.619103</td>\n      <td>0.004763</td>\n    </tr>\n    <tr>\n      <th>201</th>\n      <td>2015-03-10</td>\n      <td>0.220695</td>\n      <td>-1</td>\n      <td>0.714836</td>\n      <td>0.239170</td>\n      <td>-3.849958</td>\n      <td>0.002436</td>\n      <td>0.352587</td>\n      <td>33.492489</td>\n      <td>0.017598</td>\n    </tr>\n    <tr>\n      <th>202</th>\n      <td>2015-04-30</td>\n      <td>0.357348</td>\n      <td>-1</td>\n      <td>0.795202</td>\n      <td>0.331524</td>\n      <td>-3.794892</td>\n      <td>0.002960</td>\n      <td>0.127148</td>\n      <td>27.725469</td>\n      <td>0.014877</td>\n    </tr>\n  </tbody>\n</table>\n<p>174 rows × 10 columns</p>\n</div>"
     },
     "execution_count": 3,
     "metadata": {},
     "output_type": "execute_result"
    }
   ],
   "source": [
    "for i, row in enumerate(perf_df.values):\n",
    "    if row[0] == '2018-12-28':\n",
    "        perf_df = perf_df.drop(i)\n",
    "perf_df"
   ],
   "metadata": {
    "collapsed": false,
    "ExecuteTime": {
     "end_time": "2024-04-16T13:22:02.868566Z",
     "start_time": "2024-04-16T13:22:02.856604Z"
    }
   },
   "id": "e4a8e4fc48b334c0",
   "execution_count": 3
  },
  {
   "cell_type": "code",
   "outputs": [],
   "source": [
    "perf_df = perf_df.drop_duplicates()\n",
    "perf_df = perf_df.drop('Position', axis=1)\n",
    "perf_df = perf_df.drop('Date', axis=1)"
   ],
   "metadata": {
    "collapsed": false,
    "ExecuteTime": {
     "end_time": "2024-04-16T13:22:02.873511Z",
     "start_time": "2024-04-16T13:22:02.869952Z"
    }
   },
   "id": "6ab5474a49254a52",
   "execution_count": 4
  },
  {
   "cell_type": "code",
   "outputs": [],
   "source": [
    "Y = perf_df.iloc[:, 0].T\n",
    "X = perf_df.iloc[:, 1:]"
   ],
   "metadata": {
    "collapsed": false,
    "ExecuteTime": {
     "end_time": "2024-04-16T13:22:02.876279Z",
     "start_time": "2024-04-16T13:22:02.874328Z"
    }
   },
   "id": "fc1c7c34bfd564b9",
   "execution_count": 5
  },
  {
   "cell_type": "code",
   "outputs": [],
   "source": [
    "model = sm.OLS(Y,X)\n",
    "results = model.fit()"
   ],
   "metadata": {
    "collapsed": false,
    "ExecuteTime": {
     "end_time": "2024-04-16T13:22:02.879582Z",
     "start_time": "2024-04-16T13:22:02.877203Z"
    }
   },
   "id": "1a3c11bf4ab24f7e",
   "execution_count": 6
  },
  {
   "cell_type": "code",
   "outputs": [
    {
     "data": {
      "text/plain": "<class 'statsmodels.iolib.summary.Summary'>\n\"\"\"\n                                 OLS Regression Results                                \n=======================================================================================\nDep. Variable:          Spread Return   R-squared (uncentered):                   0.940\nModel:                            OLS   Adj. R-squared (uncentered):              0.934\nMethod:                 Least Squares   F-statistic:                              155.7\nDate:                Tue, 16 Apr 2024   Prob (F-statistic):                    4.44e-40\nTime:                        21:22:02   Log-Likelihood:                          113.32\nNo. Observations:                  77   AIC:                                     -212.6\nDf Residuals:                      70   BIC:                                     -196.2\nDf Model:                           7                                                  \nCovariance Type:            nonrobust                                                  \n===================================================================================\n                      coef    std err          t      P>|t|      [0.025      0.975]\n-----------------------------------------------------------------------------------\nCorrelation         0.4138      0.118      3.511      0.001       0.179       0.649\nHurst Exponent      0.1965      0.164      1.199      0.234      -0.130       0.523\nADF t-statistic     0.0148      0.027      0.543      0.589      -0.039       0.069\nADF p-value        -1.8958      3.764     -0.504      0.616      -9.402       5.610\nmu                 -0.4933      0.071     -6.954      0.000      -0.635      -0.352\ntheta              -0.0011      0.001     -0.967      0.337      -0.003       0.001\nsigma2              3.9394      0.625      6.306      0.000       2.694       5.185\n==============================================================================\nOmnibus:                       21.953   Durbin-Watson:                   1.893\nProb(Omnibus):                  0.000   Jarque-Bera (JB):               30.349\nSkew:                           1.234   Prob(JB):                     2.57e-07\nKurtosis:                       4.835   Cond. No.                     1.86e+04\n==============================================================================\n\nNotes:\n[1] R² is computed without centering (uncentered) since the model does not contain a constant.\n[2] Standard Errors assume that the covariance matrix of the errors is correctly specified.\n[3] The condition number is large, 1.86e+04. This might indicate that there are\nstrong multicollinearity or other numerical problems.\n\"\"\"",
      "text/html": "<table class=\"simpletable\">\n<caption>OLS Regression Results</caption>\n<tr>\n  <th>Dep. Variable:</th>      <td>Spread Return</td>  <th>  R-squared (uncentered):</th>      <td>   0.940</td>\n</tr>\n<tr>\n  <th>Model:</th>                   <td>OLS</td>       <th>  Adj. R-squared (uncentered):</th> <td>   0.934</td>\n</tr>\n<tr>\n  <th>Method:</th>             <td>Least Squares</td>  <th>  F-statistic:       </th>          <td>   155.7</td>\n</tr>\n<tr>\n  <th>Date:</th>             <td>Tue, 16 Apr 2024</td> <th>  Prob (F-statistic):</th>          <td>4.44e-40</td>\n</tr>\n<tr>\n  <th>Time:</th>                 <td>21:22:02</td>     <th>  Log-Likelihood:    </th>          <td>  113.32</td>\n</tr>\n<tr>\n  <th>No. Observations:</th>      <td>    77</td>      <th>  AIC:               </th>          <td>  -212.6</td>\n</tr>\n<tr>\n  <th>Df Residuals:</th>          <td>    70</td>      <th>  BIC:               </th>          <td>  -196.2</td>\n</tr>\n<tr>\n  <th>Df Model:</th>              <td>     7</td>      <th>                     </th>              <td> </td>   \n</tr>\n<tr>\n  <th>Covariance Type:</th>      <td>nonrobust</td>    <th>                     </th>              <td> </td>   \n</tr>\n</table>\n<table class=\"simpletable\">\n<tr>\n         <td></td>            <th>coef</th>     <th>std err</th>      <th>t</th>      <th>P>|t|</th>  <th>[0.025</th>    <th>0.975]</th>  \n</tr>\n<tr>\n  <th>Correlation</th>     <td>    0.4138</td> <td>    0.118</td> <td>    3.511</td> <td> 0.001</td> <td>    0.179</td> <td>    0.649</td>\n</tr>\n<tr>\n  <th>Hurst Exponent</th>  <td>    0.1965</td> <td>    0.164</td> <td>    1.199</td> <td> 0.234</td> <td>   -0.130</td> <td>    0.523</td>\n</tr>\n<tr>\n  <th>ADF t-statistic</th> <td>    0.0148</td> <td>    0.027</td> <td>    0.543</td> <td> 0.589</td> <td>   -0.039</td> <td>    0.069</td>\n</tr>\n<tr>\n  <th>ADF p-value</th>     <td>   -1.8958</td> <td>    3.764</td> <td>   -0.504</td> <td> 0.616</td> <td>   -9.402</td> <td>    5.610</td>\n</tr>\n<tr>\n  <th>mu</th>              <td>   -0.4933</td> <td>    0.071</td> <td>   -6.954</td> <td> 0.000</td> <td>   -0.635</td> <td>   -0.352</td>\n</tr>\n<tr>\n  <th>theta</th>           <td>   -0.0011</td> <td>    0.001</td> <td>   -0.967</td> <td> 0.337</td> <td>   -0.003</td> <td>    0.001</td>\n</tr>\n<tr>\n  <th>sigma2</th>          <td>    3.9394</td> <td>    0.625</td> <td>    6.306</td> <td> 0.000</td> <td>    2.694</td> <td>    5.185</td>\n</tr>\n</table>\n<table class=\"simpletable\">\n<tr>\n  <th>Omnibus:</th>       <td>21.953</td> <th>  Durbin-Watson:     </th> <td>   1.893</td>\n</tr>\n<tr>\n  <th>Prob(Omnibus):</th> <td> 0.000</td> <th>  Jarque-Bera (JB):  </th> <td>  30.349</td>\n</tr>\n<tr>\n  <th>Skew:</th>          <td> 1.234</td> <th>  Prob(JB):          </th> <td>2.57e-07</td>\n</tr>\n<tr>\n  <th>Kurtosis:</th>      <td> 4.835</td> <th>  Cond. No.          </th> <td>1.86e+04</td>\n</tr>\n</table><br/><br/>Notes:<br/>[1] R² is computed without centering (uncentered) since the model does not contain a constant.<br/>[2] Standard Errors assume that the covariance matrix of the errors is correctly specified.<br/>[3] The condition number is large, 1.86e+04. This might indicate that there are<br/>strong multicollinearity or other numerical problems.",
      "text/latex": "\\begin{center}\n\\begin{tabular}{lclc}\n\\toprule\n\\textbf{Dep. Variable:}    &  Spread Return   & \\textbf{  R-squared (uncentered):}      &     0.940   \\\\\n\\textbf{Model:}            &       OLS        & \\textbf{  Adj. R-squared (uncentered):} &     0.934   \\\\\n\\textbf{Method:}           &  Least Squares   & \\textbf{  F-statistic:       }          &     155.7   \\\\\n\\textbf{Date:}             & Tue, 16 Apr 2024 & \\textbf{  Prob (F-statistic):}          &  4.44e-40   \\\\\n\\textbf{Time:}             &     21:22:02     & \\textbf{  Log-Likelihood:    }          &    113.32   \\\\\n\\textbf{No. Observations:} &          77      & \\textbf{  AIC:               }          &    -212.6   \\\\\n\\textbf{Df Residuals:}     &          70      & \\textbf{  BIC:               }          &    -196.2   \\\\\n\\textbf{Df Model:}         &           7      & \\textbf{                     }          &             \\\\\n\\textbf{Covariance Type:}  &    nonrobust     & \\textbf{                     }          &             \\\\\n\\bottomrule\n\\end{tabular}\n\\begin{tabular}{lcccccc}\n                         & \\textbf{coef} & \\textbf{std err} & \\textbf{t} & \\textbf{P$> |$t$|$} & \\textbf{[0.025} & \\textbf{0.975]}  \\\\\n\\midrule\n\\textbf{Correlation}     &       0.4138  &        0.118     &     3.511  &         0.001        &        0.179    &        0.649     \\\\\n\\textbf{Hurst Exponent}  &       0.1965  &        0.164     &     1.199  &         0.234        &       -0.130    &        0.523     \\\\\n\\textbf{ADF t-statistic} &       0.0148  &        0.027     &     0.543  &         0.589        &       -0.039    &        0.069     \\\\\n\\textbf{ADF p-value}     &      -1.8958  &        3.764     &    -0.504  &         0.616        &       -9.402    &        5.610     \\\\\n\\textbf{mu}              &      -0.4933  &        0.071     &    -6.954  &         0.000        &       -0.635    &       -0.352     \\\\\n\\textbf{theta}           &      -0.0011  &        0.001     &    -0.967  &         0.337        &       -0.003    &        0.001     \\\\\n\\textbf{sigma2}          &       3.9394  &        0.625     &     6.306  &         0.000        &        2.694    &        5.185     \\\\\n\\bottomrule\n\\end{tabular}\n\\begin{tabular}{lclc}\n\\textbf{Omnibus:}       & 21.953 & \\textbf{  Durbin-Watson:     } &    1.893  \\\\\n\\textbf{Prob(Omnibus):} &  0.000 & \\textbf{  Jarque-Bera (JB):  } &   30.349  \\\\\n\\textbf{Skew:}          &  1.234 & \\textbf{  Prob(JB):          } & 2.57e-07  \\\\\n\\textbf{Kurtosis:}      &  4.835 & \\textbf{  Cond. No.          } & 1.86e+04  \\\\\n\\bottomrule\n\\end{tabular}\n%\\caption{OLS Regression Results}\n\\end{center}\n\nNotes: \\newline\n [1] R² is computed without centering (uncentered) since the model does not contain a constant. \\newline\n [2] Standard Errors assume that the covariance matrix of the errors is correctly specified. \\newline\n [3] The condition number is large, 1.86e+04. This might indicate that there are \\newline\n strong multicollinearity or other numerical problems."
     },
     "execution_count": 7,
     "metadata": {},
     "output_type": "execute_result"
    }
   ],
   "source": [
    "results.summary()"
   ],
   "metadata": {
    "collapsed": false,
    "ExecuteTime": {
     "end_time": "2024-04-16T13:22:02.895673Z",
     "start_time": "2024-04-16T13:22:02.880440Z"
    }
   },
   "id": "fecf2dbac1c2c9a6",
   "execution_count": 7
  },
  {
   "cell_type": "code",
   "outputs": [
    {
     "data": {
      "text/plain": "<class 'statsmodels.iolib.summary.Summary'>\n\"\"\"\n                                 OLS Regression Results                                \n=======================================================================================\nDep. Variable:          Spread Return   R-squared (uncentered):                   0.939\nModel:                            OLS   Adj. R-squared (uncentered):              0.934\nMethod:                 Least Squares   F-statistic:                              183.6\nDate:                Tue, 16 Apr 2024   Prob (F-statistic):                    3.55e-41\nTime:                        21:22:02   Log-Likelihood:                          113.18\nNo. Observations:                  77   AIC:                                     -214.4\nDf Residuals:                      71   BIC:                                     -200.3\nDf Model:                           6                                                  \nCovariance Type:            nonrobust                                                  \n===================================================================================\n                      coef    std err          t      P>|t|      [0.025      0.975]\n-----------------------------------------------------------------------------------\nCorrelation         0.3776      0.093      4.063      0.000       0.192       0.563\nHurst Exponent      0.1810      0.160      1.131      0.262      -0.138       0.500\nADF t-statistic     0.0062      0.021      0.293      0.770      -0.036       0.048\nmu                 -0.5126      0.059     -8.628      0.000      -0.631      -0.394\ntheta              -0.0011      0.001     -0.999      0.321      -0.003       0.001\nsigma2              3.9312      0.621      6.329      0.000       2.693       5.170\n==============================================================================\nOmnibus:                       22.040   Durbin-Watson:                   1.878\nProb(Omnibus):                  0.000   Jarque-Bera (JB):               30.342\nSkew:                           1.245   Prob(JB):                     2.58e-07\nKurtosis:                       4.805   Cond. No.                     3.09e+03\n==============================================================================\n\nNotes:\n[1] R² is computed without centering (uncentered) since the model does not contain a constant.\n[2] Standard Errors assume that the covariance matrix of the errors is correctly specified.\n[3] The condition number is large, 3.09e+03. This might indicate that there are\nstrong multicollinearity or other numerical problems.\n\"\"\"",
      "text/html": "<table class=\"simpletable\">\n<caption>OLS Regression Results</caption>\n<tr>\n  <th>Dep. Variable:</th>      <td>Spread Return</td>  <th>  R-squared (uncentered):</th>      <td>   0.939</td>\n</tr>\n<tr>\n  <th>Model:</th>                   <td>OLS</td>       <th>  Adj. R-squared (uncentered):</th> <td>   0.934</td>\n</tr>\n<tr>\n  <th>Method:</th>             <td>Least Squares</td>  <th>  F-statistic:       </th>          <td>   183.6</td>\n</tr>\n<tr>\n  <th>Date:</th>             <td>Tue, 16 Apr 2024</td> <th>  Prob (F-statistic):</th>          <td>3.55e-41</td>\n</tr>\n<tr>\n  <th>Time:</th>                 <td>21:22:02</td>     <th>  Log-Likelihood:    </th>          <td>  113.18</td>\n</tr>\n<tr>\n  <th>No. Observations:</th>      <td>    77</td>      <th>  AIC:               </th>          <td>  -214.4</td>\n</tr>\n<tr>\n  <th>Df Residuals:</th>          <td>    71</td>      <th>  BIC:               </th>          <td>  -200.3</td>\n</tr>\n<tr>\n  <th>Df Model:</th>              <td>     6</td>      <th>                     </th>              <td> </td>   \n</tr>\n<tr>\n  <th>Covariance Type:</th>      <td>nonrobust</td>    <th>                     </th>              <td> </td>   \n</tr>\n</table>\n<table class=\"simpletable\">\n<tr>\n         <td></td>            <th>coef</th>     <th>std err</th>      <th>t</th>      <th>P>|t|</th>  <th>[0.025</th>    <th>0.975]</th>  \n</tr>\n<tr>\n  <th>Correlation</th>     <td>    0.3776</td> <td>    0.093</td> <td>    4.063</td> <td> 0.000</td> <td>    0.192</td> <td>    0.563</td>\n</tr>\n<tr>\n  <th>Hurst Exponent</th>  <td>    0.1810</td> <td>    0.160</td> <td>    1.131</td> <td> 0.262</td> <td>   -0.138</td> <td>    0.500</td>\n</tr>\n<tr>\n  <th>ADF t-statistic</th> <td>    0.0062</td> <td>    0.021</td> <td>    0.293</td> <td> 0.770</td> <td>   -0.036</td> <td>    0.048</td>\n</tr>\n<tr>\n  <th>mu</th>              <td>   -0.5126</td> <td>    0.059</td> <td>   -8.628</td> <td> 0.000</td> <td>   -0.631</td> <td>   -0.394</td>\n</tr>\n<tr>\n  <th>theta</th>           <td>   -0.0011</td> <td>    0.001</td> <td>   -0.999</td> <td> 0.321</td> <td>   -0.003</td> <td>    0.001</td>\n</tr>\n<tr>\n  <th>sigma2</th>          <td>    3.9312</td> <td>    0.621</td> <td>    6.329</td> <td> 0.000</td> <td>    2.693</td> <td>    5.170</td>\n</tr>\n</table>\n<table class=\"simpletable\">\n<tr>\n  <th>Omnibus:</th>       <td>22.040</td> <th>  Durbin-Watson:     </th> <td>   1.878</td>\n</tr>\n<tr>\n  <th>Prob(Omnibus):</th> <td> 0.000</td> <th>  Jarque-Bera (JB):  </th> <td>  30.342</td>\n</tr>\n<tr>\n  <th>Skew:</th>          <td> 1.245</td> <th>  Prob(JB):          </th> <td>2.58e-07</td>\n</tr>\n<tr>\n  <th>Kurtosis:</th>      <td> 4.805</td> <th>  Cond. No.          </th> <td>3.09e+03</td>\n</tr>\n</table><br/><br/>Notes:<br/>[1] R² is computed without centering (uncentered) since the model does not contain a constant.<br/>[2] Standard Errors assume that the covariance matrix of the errors is correctly specified.<br/>[3] The condition number is large, 3.09e+03. This might indicate that there are<br/>strong multicollinearity or other numerical problems.",
      "text/latex": "\\begin{center}\n\\begin{tabular}{lclc}\n\\toprule\n\\textbf{Dep. Variable:}    &  Spread Return   & \\textbf{  R-squared (uncentered):}      &     0.939   \\\\\n\\textbf{Model:}            &       OLS        & \\textbf{  Adj. R-squared (uncentered):} &     0.934   \\\\\n\\textbf{Method:}           &  Least Squares   & \\textbf{  F-statistic:       }          &     183.6   \\\\\n\\textbf{Date:}             & Tue, 16 Apr 2024 & \\textbf{  Prob (F-statistic):}          &  3.55e-41   \\\\\n\\textbf{Time:}             &     21:22:02     & \\textbf{  Log-Likelihood:    }          &    113.18   \\\\\n\\textbf{No. Observations:} &          77      & \\textbf{  AIC:               }          &    -214.4   \\\\\n\\textbf{Df Residuals:}     &          71      & \\textbf{  BIC:               }          &    -200.3   \\\\\n\\textbf{Df Model:}         &           6      & \\textbf{                     }          &             \\\\\n\\textbf{Covariance Type:}  &    nonrobust     & \\textbf{                     }          &             \\\\\n\\bottomrule\n\\end{tabular}\n\\begin{tabular}{lcccccc}\n                         & \\textbf{coef} & \\textbf{std err} & \\textbf{t} & \\textbf{P$> |$t$|$} & \\textbf{[0.025} & \\textbf{0.975]}  \\\\\n\\midrule\n\\textbf{Correlation}     &       0.3776  &        0.093     &     4.063  &         0.000        &        0.192    &        0.563     \\\\\n\\textbf{Hurst Exponent}  &       0.1810  &        0.160     &     1.131  &         0.262        &       -0.138    &        0.500     \\\\\n\\textbf{ADF t-statistic} &       0.0062  &        0.021     &     0.293  &         0.770        &       -0.036    &        0.048     \\\\\n\\textbf{mu}              &      -0.5126  &        0.059     &    -8.628  &         0.000        &       -0.631    &       -0.394     \\\\\n\\textbf{theta}           &      -0.0011  &        0.001     &    -0.999  &         0.321        &       -0.003    &        0.001     \\\\\n\\textbf{sigma2}          &       3.9312  &        0.621     &     6.329  &         0.000        &        2.693    &        5.170     \\\\\n\\bottomrule\n\\end{tabular}\n\\begin{tabular}{lclc}\n\\textbf{Omnibus:}       & 22.040 & \\textbf{  Durbin-Watson:     } &    1.878  \\\\\n\\textbf{Prob(Omnibus):} &  0.000 & \\textbf{  Jarque-Bera (JB):  } &   30.342  \\\\\n\\textbf{Skew:}          &  1.245 & \\textbf{  Prob(JB):          } & 2.58e-07  \\\\\n\\textbf{Kurtosis:}      &  4.805 & \\textbf{  Cond. No.          } & 3.09e+03  \\\\\n\\bottomrule\n\\end{tabular}\n%\\caption{OLS Regression Results}\n\\end{center}\n\nNotes: \\newline\n [1] R² is computed without centering (uncentered) since the model does not contain a constant. \\newline\n [2] Standard Errors assume that the covariance matrix of the errors is correctly specified. \\newline\n [3] The condition number is large, 3.09e+03. This might indicate that there are \\newline\n strong multicollinearity or other numerical problems."
     },
     "execution_count": 8,
     "metadata": {},
     "output_type": "execute_result"
    }
   ],
   "source": [
    "X = X.drop('ADF p-value', axis=1)\n",
    "model = sm.OLS(Y,X)\n",
    "results = model.fit()\n",
    "results.summary()"
   ],
   "metadata": {
    "collapsed": false,
    "ExecuteTime": {
     "end_time": "2024-04-16T13:22:02.913644Z",
     "start_time": "2024-04-16T13:22:02.896690Z"
    }
   },
   "id": "fe22a58050941b48",
   "execution_count": 8
  },
  {
   "cell_type": "code",
   "outputs": [
    {
     "data": {
      "text/plain": "<class 'statsmodels.iolib.summary.Summary'>\n\"\"\"\n                                 OLS Regression Results                                \n=======================================================================================\nDep. Variable:          Spread Return   R-squared (uncentered):                   0.939\nModel:                            OLS   Adj. R-squared (uncentered):              0.935\nMethod:                 Least Squares   F-statistic:                              223.1\nDate:                Tue, 16 Apr 2024   Prob (F-statistic):                    2.35e-42\nTime:                        21:22:02   Log-Likelihood:                          113.14\nNo. Observations:                  77   AIC:                                     -216.3\nDf Residuals:                      72   BIC:                                     -204.6\nDf Model:                           5                                                  \nCovariance Type:            nonrobust                                                  \n==================================================================================\n                     coef    std err          t      P>|t|      [0.025      0.975]\n----------------------------------------------------------------------------------\nCorrelation        0.3630      0.078      4.664      0.000       0.208       0.518\nHurst Exponent     0.1658      0.150      1.102      0.274      -0.134       0.466\nmu                -0.5161      0.058     -8.925      0.000      -0.631      -0.401\ntheta             -0.0013      0.001     -1.478      0.144      -0.003       0.000\nsigma2             3.8687      0.580      6.673      0.000       2.713       5.024\n==============================================================================\nOmnibus:                       22.496   Durbin-Watson:                   1.874\nProb(Omnibus):                  0.000   Jarque-Bera (JB):               31.178\nSkew:                           1.268   Prob(JB):                     1.70e-07\nKurtosis:                       4.813   Cond. No.                     2.89e+03\n==============================================================================\n\nNotes:\n[1] R² is computed without centering (uncentered) since the model does not contain a constant.\n[2] Standard Errors assume that the covariance matrix of the errors is correctly specified.\n[3] The condition number is large, 2.89e+03. This might indicate that there are\nstrong multicollinearity or other numerical problems.\n\"\"\"",
      "text/html": "<table class=\"simpletable\">\n<caption>OLS Regression Results</caption>\n<tr>\n  <th>Dep. Variable:</th>      <td>Spread Return</td>  <th>  R-squared (uncentered):</th>      <td>   0.939</td>\n</tr>\n<tr>\n  <th>Model:</th>                   <td>OLS</td>       <th>  Adj. R-squared (uncentered):</th> <td>   0.935</td>\n</tr>\n<tr>\n  <th>Method:</th>             <td>Least Squares</td>  <th>  F-statistic:       </th>          <td>   223.1</td>\n</tr>\n<tr>\n  <th>Date:</th>             <td>Tue, 16 Apr 2024</td> <th>  Prob (F-statistic):</th>          <td>2.35e-42</td>\n</tr>\n<tr>\n  <th>Time:</th>                 <td>21:22:02</td>     <th>  Log-Likelihood:    </th>          <td>  113.14</td>\n</tr>\n<tr>\n  <th>No. Observations:</th>      <td>    77</td>      <th>  AIC:               </th>          <td>  -216.3</td>\n</tr>\n<tr>\n  <th>Df Residuals:</th>          <td>    72</td>      <th>  BIC:               </th>          <td>  -204.6</td>\n</tr>\n<tr>\n  <th>Df Model:</th>              <td>     5</td>      <th>                     </th>              <td> </td>   \n</tr>\n<tr>\n  <th>Covariance Type:</th>      <td>nonrobust</td>    <th>                     </th>              <td> </td>   \n</tr>\n</table>\n<table class=\"simpletable\">\n<tr>\n         <td></td>           <th>coef</th>     <th>std err</th>      <th>t</th>      <th>P>|t|</th>  <th>[0.025</th>    <th>0.975]</th>  \n</tr>\n<tr>\n  <th>Correlation</th>    <td>    0.3630</td> <td>    0.078</td> <td>    4.664</td> <td> 0.000</td> <td>    0.208</td> <td>    0.518</td>\n</tr>\n<tr>\n  <th>Hurst Exponent</th> <td>    0.1658</td> <td>    0.150</td> <td>    1.102</td> <td> 0.274</td> <td>   -0.134</td> <td>    0.466</td>\n</tr>\n<tr>\n  <th>mu</th>             <td>   -0.5161</td> <td>    0.058</td> <td>   -8.925</td> <td> 0.000</td> <td>   -0.631</td> <td>   -0.401</td>\n</tr>\n<tr>\n  <th>theta</th>          <td>   -0.0013</td> <td>    0.001</td> <td>   -1.478</td> <td> 0.144</td> <td>   -0.003</td> <td>    0.000</td>\n</tr>\n<tr>\n  <th>sigma2</th>         <td>    3.8687</td> <td>    0.580</td> <td>    6.673</td> <td> 0.000</td> <td>    2.713</td> <td>    5.024</td>\n</tr>\n</table>\n<table class=\"simpletable\">\n<tr>\n  <th>Omnibus:</th>       <td>22.496</td> <th>  Durbin-Watson:     </th> <td>   1.874</td>\n</tr>\n<tr>\n  <th>Prob(Omnibus):</th> <td> 0.000</td> <th>  Jarque-Bera (JB):  </th> <td>  31.178</td>\n</tr>\n<tr>\n  <th>Skew:</th>          <td> 1.268</td> <th>  Prob(JB):          </th> <td>1.70e-07</td>\n</tr>\n<tr>\n  <th>Kurtosis:</th>      <td> 4.813</td> <th>  Cond. No.          </th> <td>2.89e+03</td>\n</tr>\n</table><br/><br/>Notes:<br/>[1] R² is computed without centering (uncentered) since the model does not contain a constant.<br/>[2] Standard Errors assume that the covariance matrix of the errors is correctly specified.<br/>[3] The condition number is large, 2.89e+03. This might indicate that there are<br/>strong multicollinearity or other numerical problems.",
      "text/latex": "\\begin{center}\n\\begin{tabular}{lclc}\n\\toprule\n\\textbf{Dep. Variable:}    &  Spread Return   & \\textbf{  R-squared (uncentered):}      &     0.939   \\\\\n\\textbf{Model:}            &       OLS        & \\textbf{  Adj. R-squared (uncentered):} &     0.935   \\\\\n\\textbf{Method:}           &  Least Squares   & \\textbf{  F-statistic:       }          &     223.1   \\\\\n\\textbf{Date:}             & Tue, 16 Apr 2024 & \\textbf{  Prob (F-statistic):}          &  2.35e-42   \\\\\n\\textbf{Time:}             &     21:22:02     & \\textbf{  Log-Likelihood:    }          &    113.14   \\\\\n\\textbf{No. Observations:} &          77      & \\textbf{  AIC:               }          &    -216.3   \\\\\n\\textbf{Df Residuals:}     &          72      & \\textbf{  BIC:               }          &    -204.6   \\\\\n\\textbf{Df Model:}         &           5      & \\textbf{                     }          &             \\\\\n\\textbf{Covariance Type:}  &    nonrobust     & \\textbf{                     }          &             \\\\\n\\bottomrule\n\\end{tabular}\n\\begin{tabular}{lcccccc}\n                        & \\textbf{coef} & \\textbf{std err} & \\textbf{t} & \\textbf{P$> |$t$|$} & \\textbf{[0.025} & \\textbf{0.975]}  \\\\\n\\midrule\n\\textbf{Correlation}    &       0.3630  &        0.078     &     4.664  &         0.000        &        0.208    &        0.518     \\\\\n\\textbf{Hurst Exponent} &       0.1658  &        0.150     &     1.102  &         0.274        &       -0.134    &        0.466     \\\\\n\\textbf{mu}             &      -0.5161  &        0.058     &    -8.925  &         0.000        &       -0.631    &       -0.401     \\\\\n\\textbf{theta}          &      -0.0013  &        0.001     &    -1.478  &         0.144        &       -0.003    &        0.000     \\\\\n\\textbf{sigma2}         &       3.8687  &        0.580     &     6.673  &         0.000        &        2.713    &        5.024     \\\\\n\\bottomrule\n\\end{tabular}\n\\begin{tabular}{lclc}\n\\textbf{Omnibus:}       & 22.496 & \\textbf{  Durbin-Watson:     } &    1.874  \\\\\n\\textbf{Prob(Omnibus):} &  0.000 & \\textbf{  Jarque-Bera (JB):  } &   31.178  \\\\\n\\textbf{Skew:}          &  1.268 & \\textbf{  Prob(JB):          } & 1.70e-07  \\\\\n\\textbf{Kurtosis:}      &  4.813 & \\textbf{  Cond. No.          } & 2.89e+03  \\\\\n\\bottomrule\n\\end{tabular}\n%\\caption{OLS Regression Results}\n\\end{center}\n\nNotes: \\newline\n [1] R² is computed without centering (uncentered) since the model does not contain a constant. \\newline\n [2] Standard Errors assume that the covariance matrix of the errors is correctly specified. \\newline\n [3] The condition number is large, 2.89e+03. This might indicate that there are \\newline\n strong multicollinearity or other numerical problems."
     },
     "execution_count": 9,
     "metadata": {},
     "output_type": "execute_result"
    }
   ],
   "source": [
    "X = X.drop('ADF t-statistic', axis=1)\n",
    "model = sm.OLS(Y,X)\n",
    "results = model.fit()\n",
    "results.summary()"
   ],
   "metadata": {
    "collapsed": false,
    "ExecuteTime": {
     "end_time": "2024-04-16T13:22:02.933730Z",
     "start_time": "2024-04-16T13:22:02.915479Z"
    }
   },
   "id": "c6a19c9d282eb9cc",
   "execution_count": 9
  },
  {
   "cell_type": "code",
   "outputs": [
    {
     "data": {
      "text/plain": "<class 'statsmodels.iolib.summary.Summary'>\n\"\"\"\n                                 OLS Regression Results                                \n=======================================================================================\nDep. Variable:          Spread Return   R-squared (uncentered):                   0.938\nModel:                            OLS   Adj. R-squared (uncentered):              0.935\nMethod:                 Least Squares   F-statistic:                              277.7\nDate:                Tue, 16 Apr 2024   Prob (F-statistic):                    2.41e-43\nTime:                        21:22:02   Log-Likelihood:                          112.49\nNo. Observations:                  77   AIC:                                     -217.0\nDf Residuals:                      73   BIC:                                     -207.6\nDf Model:                           4                                                  \nCovariance Type:            nonrobust                                                  \n===============================================================================\n                  coef    std err          t      P>|t|      [0.025      0.975]\n-------------------------------------------------------------------------------\nCorrelation     0.4383      0.037     11.791      0.000       0.364       0.512\nmu             -0.4936      0.054     -9.111      0.000      -0.602      -0.386\ntheta          -0.0019      0.001     -2.722      0.008      -0.003      -0.001\nsigma2          3.9175      0.579      6.768      0.000       2.764       5.071\n==============================================================================\nOmnibus:                       23.179   Durbin-Watson:                   1.967\nProb(Omnibus):                  0.000   Jarque-Bera (JB):               33.796\nSkew:                           1.257   Prob(JB):                     4.59e-08\nKurtosis:                       5.053   Cond. No.                     2.88e+03\n==============================================================================\n\nNotes:\n[1] R² is computed without centering (uncentered) since the model does not contain a constant.\n[2] Standard Errors assume that the covariance matrix of the errors is correctly specified.\n[3] The condition number is large, 2.88e+03. This might indicate that there are\nstrong multicollinearity or other numerical problems.\n\"\"\"",
      "text/html": "<table class=\"simpletable\">\n<caption>OLS Regression Results</caption>\n<tr>\n  <th>Dep. Variable:</th>      <td>Spread Return</td>  <th>  R-squared (uncentered):</th>      <td>   0.938</td>\n</tr>\n<tr>\n  <th>Model:</th>                   <td>OLS</td>       <th>  Adj. R-squared (uncentered):</th> <td>   0.935</td>\n</tr>\n<tr>\n  <th>Method:</th>             <td>Least Squares</td>  <th>  F-statistic:       </th>          <td>   277.7</td>\n</tr>\n<tr>\n  <th>Date:</th>             <td>Tue, 16 Apr 2024</td> <th>  Prob (F-statistic):</th>          <td>2.41e-43</td>\n</tr>\n<tr>\n  <th>Time:</th>                 <td>21:22:02</td>     <th>  Log-Likelihood:    </th>          <td>  112.49</td>\n</tr>\n<tr>\n  <th>No. Observations:</th>      <td>    77</td>      <th>  AIC:               </th>          <td>  -217.0</td>\n</tr>\n<tr>\n  <th>Df Residuals:</th>          <td>    73</td>      <th>  BIC:               </th>          <td>  -207.6</td>\n</tr>\n<tr>\n  <th>Df Model:</th>              <td>     4</td>      <th>                     </th>              <td> </td>   \n</tr>\n<tr>\n  <th>Covariance Type:</th>      <td>nonrobust</td>    <th>                     </th>              <td> </td>   \n</tr>\n</table>\n<table class=\"simpletable\">\n<tr>\n       <td></td>          <th>coef</th>     <th>std err</th>      <th>t</th>      <th>P>|t|</th>  <th>[0.025</th>    <th>0.975]</th>  \n</tr>\n<tr>\n  <th>Correlation</th> <td>    0.4383</td> <td>    0.037</td> <td>   11.791</td> <td> 0.000</td> <td>    0.364</td> <td>    0.512</td>\n</tr>\n<tr>\n  <th>mu</th>          <td>   -0.4936</td> <td>    0.054</td> <td>   -9.111</td> <td> 0.000</td> <td>   -0.602</td> <td>   -0.386</td>\n</tr>\n<tr>\n  <th>theta</th>       <td>   -0.0019</td> <td>    0.001</td> <td>   -2.722</td> <td> 0.008</td> <td>   -0.003</td> <td>   -0.001</td>\n</tr>\n<tr>\n  <th>sigma2</th>      <td>    3.9175</td> <td>    0.579</td> <td>    6.768</td> <td> 0.000</td> <td>    2.764</td> <td>    5.071</td>\n</tr>\n</table>\n<table class=\"simpletable\">\n<tr>\n  <th>Omnibus:</th>       <td>23.179</td> <th>  Durbin-Watson:     </th> <td>   1.967</td>\n</tr>\n<tr>\n  <th>Prob(Omnibus):</th> <td> 0.000</td> <th>  Jarque-Bera (JB):  </th> <td>  33.796</td>\n</tr>\n<tr>\n  <th>Skew:</th>          <td> 1.257</td> <th>  Prob(JB):          </th> <td>4.59e-08</td>\n</tr>\n<tr>\n  <th>Kurtosis:</th>      <td> 5.053</td> <th>  Cond. No.          </th> <td>2.88e+03</td>\n</tr>\n</table><br/><br/>Notes:<br/>[1] R² is computed without centering (uncentered) since the model does not contain a constant.<br/>[2] Standard Errors assume that the covariance matrix of the errors is correctly specified.<br/>[3] The condition number is large, 2.88e+03. This might indicate that there are<br/>strong multicollinearity or other numerical problems.",
      "text/latex": "\\begin{center}\n\\begin{tabular}{lclc}\n\\toprule\n\\textbf{Dep. Variable:}    &  Spread Return   & \\textbf{  R-squared (uncentered):}      &     0.938   \\\\\n\\textbf{Model:}            &       OLS        & \\textbf{  Adj. R-squared (uncentered):} &     0.935   \\\\\n\\textbf{Method:}           &  Least Squares   & \\textbf{  F-statistic:       }          &     277.7   \\\\\n\\textbf{Date:}             & Tue, 16 Apr 2024 & \\textbf{  Prob (F-statistic):}          &  2.41e-43   \\\\\n\\textbf{Time:}             &     21:22:02     & \\textbf{  Log-Likelihood:    }          &    112.49   \\\\\n\\textbf{No. Observations:} &          77      & \\textbf{  AIC:               }          &    -217.0   \\\\\n\\textbf{Df Residuals:}     &          73      & \\textbf{  BIC:               }          &    -207.6   \\\\\n\\textbf{Df Model:}         &           4      & \\textbf{                     }          &             \\\\\n\\textbf{Covariance Type:}  &    nonrobust     & \\textbf{                     }          &             \\\\\n\\bottomrule\n\\end{tabular}\n\\begin{tabular}{lcccccc}\n                     & \\textbf{coef} & \\textbf{std err} & \\textbf{t} & \\textbf{P$> |$t$|$} & \\textbf{[0.025} & \\textbf{0.975]}  \\\\\n\\midrule\n\\textbf{Correlation} &       0.4383  &        0.037     &    11.791  &         0.000        &        0.364    &        0.512     \\\\\n\\textbf{mu}          &      -0.4936  &        0.054     &    -9.111  &         0.000        &       -0.602    &       -0.386     \\\\\n\\textbf{theta}       &      -0.0019  &        0.001     &    -2.722  &         0.008        &       -0.003    &       -0.001     \\\\\n\\textbf{sigma2}      &       3.9175  &        0.579     &     6.768  &         0.000        &        2.764    &        5.071     \\\\\n\\bottomrule\n\\end{tabular}\n\\begin{tabular}{lclc}\n\\textbf{Omnibus:}       & 23.179 & \\textbf{  Durbin-Watson:     } &    1.967  \\\\\n\\textbf{Prob(Omnibus):} &  0.000 & \\textbf{  Jarque-Bera (JB):  } &   33.796  \\\\\n\\textbf{Skew:}          &  1.257 & \\textbf{  Prob(JB):          } & 4.59e-08  \\\\\n\\textbf{Kurtosis:}      &  5.053 & \\textbf{  Cond. No.          } & 2.88e+03  \\\\\n\\bottomrule\n\\end{tabular}\n%\\caption{OLS Regression Results}\n\\end{center}\n\nNotes: \\newline\n [1] R² is computed without centering (uncentered) since the model does not contain a constant. \\newline\n [2] Standard Errors assume that the covariance matrix of the errors is correctly specified. \\newline\n [3] The condition number is large, 2.88e+03. This might indicate that there are \\newline\n strong multicollinearity or other numerical problems."
     },
     "execution_count": 10,
     "metadata": {},
     "output_type": "execute_result"
    }
   ],
   "source": [
    "X = X.drop('Hurst Exponent', axis=1)\n",
    "model = sm.OLS(Y,X)\n",
    "results = model.fit()\n",
    "results.summary()"
   ],
   "metadata": {
    "collapsed": false,
    "ExecuteTime": {
     "end_time": "2024-04-16T13:22:02.950605Z",
     "start_time": "2024-04-16T13:22:02.935585Z"
    }
   },
   "id": "24a488d6a67f0a84",
   "execution_count": 10
  },
  {
   "cell_type": "code",
   "outputs": [],
   "source": [
    "results.params.to_csv('data/OLS_params.csv')"
   ],
   "metadata": {
    "collapsed": false,
    "ExecuteTime": {
     "end_time": "2024-04-16T13:22:02.957841Z",
     "start_time": "2024-04-16T13:22:02.951443Z"
    }
   },
   "id": "ca5066df82badcdb",
   "execution_count": 11
  }
 ],
 "metadata": {
  "kernelspec": {
   "display_name": "Python 3",
   "language": "python",
   "name": "python3"
  },
  "language_info": {
   "codemirror_mode": {
    "name": "ipython",
    "version": 2
   },
   "file_extension": ".py",
   "mimetype": "text/x-python",
   "name": "python",
   "nbconvert_exporter": "python",
   "pygments_lexer": "ipython2",
   "version": "2.7.6"
  }
 },
 "nbformat": 4,
 "nbformat_minor": 5
}
