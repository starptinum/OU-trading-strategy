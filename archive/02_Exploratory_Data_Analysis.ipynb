{
 "cells": [
  {
   "cell_type": "code",
   "outputs": [],
   "source": [
    "import datetime\n",
    "import numpy as np\n",
    "import os\n",
    "import pandas as pd"
   ],
   "metadata": {
    "collapsed": false,
    "ExecuteTime": {
     "end_time": "2024-03-25T09:56:07.789561Z",
     "start_time": "2024-03-25T09:56:07.324041Z"
    }
   },
   "id": "6833cc2c81779474",
   "execution_count": 1
  },
  {
   "cell_type": "code",
   "outputs": [],
   "source": [
    "feature_list = [file[:-4] for file in os.listdir('preprocessing/feature')]\n",
    "feature_dict = {}\n",
    "for feature in feature_list:\n",
    "    feature_dict[feature] = pd.read_csv('preprocessing/feature/{}.csv'.format(feature)).astype({'Date':'datetime64[ns]'})\n",
    "\n",
    "stock_list = [file[:-4] for file in os.listdir('preprocessing/price')]\n",
    "price_dict = {}\n",
    "for stock in stock_list:\n",
    "    price_dict[stock] = pd.read_csv('preprocessing/price/{}.csv'.format(stock), index_col='Date', parse_dates=['Date'])"
   ],
   "metadata": {
    "collapsed": false,
    "ExecuteTime": {
     "end_time": "2024-03-25T09:56:11.057121Z",
     "start_time": "2024-03-25T09:56:07.785455Z"
    }
   },
   "id": "d4a014f91908b535",
   "execution_count": 2
  },
  {
   "cell_type": "code",
   "outputs": [],
   "source": [
    "def missing_portion(df, start=(2012, 12, 31), end=(2023, 12, 31)):\n",
    "    df = df[df['Date'].ge(datetime.datetime(*start)) & df['Date'].le(datetime.datetime(*end))]\n",
    "    return np.sum(df.set_index('Date').isna(), axis=0) / df.shape[0]"
   ],
   "metadata": {
    "collapsed": false,
    "ExecuteTime": {
     "end_time": "2024-03-25T09:56:11.062076Z",
     "start_time": "2024-03-25T09:56:11.058246Z"
    }
   },
   "id": "8de44e41a21f3d61",
   "execution_count": 3
  },
  {
   "cell_type": "markdown",
   "source": [
    "The following codes may not be corrected if more features are included!"
   ],
   "metadata": {
    "collapsed": false
   },
   "id": "8a746623b57d04ad"
  },
  {
   "cell_type": "code",
   "outputs": [],
   "source": [
    "freq_dict = {}\n",
    "for feature in feature_list:\n",
    "    feature_df = feature_dict[feature].copy()\n",
    "    feature_df = feature_df[['Date', missing_portion(feature_df).idxmin()]].dropna()\n",
    "    average_timedelta = feature_df['Date'].diff().mean()\n",
    "    if average_timedelta < pd.Timedelta(days=2):\n",
    "        freq_dict[feature] = 'D'\n",
    "    elif average_timedelta < pd.Timedelta(days=8):\n",
    "        freq_dict[feature] = 'W'\n",
    "    elif average_timedelta < pd.Timedelta(days=16):\n",
    "        freq_dict[feature] = '2W'\n",
    "    elif average_timedelta < pd.Timedelta(days=93):\n",
    "        freq_dict[feature] = 'QE'"
   ],
   "metadata": {
    "collapsed": false,
    "ExecuteTime": {
     "end_time": "2024-03-25T09:56:11.191060Z",
     "start_time": "2024-03-25T09:56:11.063400Z"
    }
   },
   "id": "c93ab27978590dc",
   "execution_count": 4
  },
  {
   "cell_type": "markdown",
   "source": [
    "Fill in the missing values of each feature (to do)"
   ],
   "metadata": {
    "collapsed": false
   },
   "id": "d7da7f57f5b4bcd5"
  },
  {
   "cell_type": "markdown",
   "source": [
    "References:\n",
    "1. https://medium.com/@aaabulkhair/data-imputation-demystified-time-series-data-69bc9c798cb7\n",
    "2. https://scikit-learn.org/stable/modules/impute.html"
   ],
   "metadata": {
    "collapsed": false
   },
   "id": "f3b44a6db68b69c3"
  },
  {
   "cell_type": "code",
   "execution_count": 5,
   "id": "initial_id",
   "metadata": {
    "collapsed": true,
    "ExecuteTime": {
     "end_time": "2024-03-25T09:56:11.197462Z",
     "start_time": "2024-03-25T09:56:11.192474Z"
    }
   },
   "outputs": [],
   "source": [
    "# for feature in feature_list:\n",
    "#     feature_df = feature_dict[feature].set_index('Date').ffill().resample(freq_dict[feature]).last() # bi-weekly data may return lagged data\n",
    "#     feature_dict[feature] = feature_df.reset_index()"
   ]
  },
  {
   "cell_type": "markdown",
   "source": [
    "Feature Engineering (to do)"
   ],
   "metadata": {
    "collapsed": false
   },
   "id": "396c69abbd0b4fe5"
  },
  {
   "cell_type": "code",
   "outputs": [],
   "source": [],
   "metadata": {
    "collapsed": false,
    "ExecuteTime": {
     "end_time": "2024-03-25T09:56:11.201879Z",
     "start_time": "2024-03-25T09:56:11.196308Z"
    }
   },
   "id": "2bb98dd6490eb908",
   "execution_count": 5
  },
  {
   "cell_type": "markdown",
   "source": [
    "Resample the feature to a monthly dataframe"
   ],
   "metadata": {
    "collapsed": false
   },
   "id": "c87a5f37d978f1ea"
  },
  {
   "cell_type": "code",
   "outputs": [],
   "source": [
    "for feature in feature_list:\n",
    "    feature_df = feature_dict[feature].set_index('Date').ffill().resample('ME').last().ffill()\n",
    "    feature_dict[feature] = feature_df.reset_index()"
   ],
   "metadata": {
    "collapsed": false,
    "ExecuteTime": {
     "end_time": "2024-03-25T09:56:11.512986Z",
     "start_time": "2024-03-25T09:56:11.318779Z"
    }
   },
   "id": "a7793e33538886d6",
   "execution_count": 6
  },
  {
   "cell_type": "markdown",
   "source": [
    "Remove stock if the missing proportion $\\ge0.02$ (to do)"
   ],
   "metadata": {
    "collapsed": false
   },
   "id": "d987e3d6e42c807f"
  },
  {
   "cell_type": "code",
   "outputs": [],
   "source": [
    "removed_stock_list = []\n",
    "for feature in feature_list:\n",
    "    missing_series = missing_portion(feature_dict[feature])\n",
    "    removed_stock_list += list(missing_series[missing_series >= 0.02].index)\n",
    "removed_stock_list = list(dict.fromkeys(removed_stock_list))"
   ],
   "metadata": {
    "collapsed": false,
    "ExecuteTime": {
     "end_time": "2024-03-25T09:56:12.144644Z",
     "start_time": "2024-03-25T09:56:12.126704Z"
    }
   },
   "id": "e9ce05e30b931781",
   "execution_count": 7
  },
  {
   "cell_type": "code",
   "outputs": [],
   "source": [
    "for stock in removed_stock_list:\n",
    "    stock_list.remove(stock)"
   ],
   "metadata": {
    "collapsed": false,
    "ExecuteTime": {
     "end_time": "2024-03-25T09:56:12.544825Z",
     "start_time": "2024-03-25T09:56:12.541707Z"
    }
   },
   "id": "47a764e06f05b986",
   "execution_count": 8
  },
  {
   "cell_type": "code",
   "outputs": [],
   "source": [
    "for feature in feature_list:\n",
    "    feature_dict[feature] = feature_dict[feature][['Date'] + stock_list].dropna()"
   ],
   "metadata": {
    "collapsed": false,
    "ExecuteTime": {
     "end_time": "2024-03-25T09:56:12.939347Z",
     "start_time": "2024-03-25T09:56:12.925690Z"
    }
   },
   "id": "dc606f79b07f2b9f",
   "execution_count": 9
  },
  {
   "cell_type": "markdown",
   "source": [
    "Resample stock price to a monthly dataframe and merge it to the features"
   ],
   "metadata": {
    "collapsed": false
   },
   "id": "21d0ae47d5cf339e"
  },
  {
   "cell_type": "code",
   "outputs": [],
   "source": [
    "stock_dict = {}\n",
    "for i, stock in enumerate(stock_list):\n",
    "    price_df = price_dict[stock]\n",
    "    price_df = pd.concat([price_df.resample('ME').first().iloc[:, 0],  # open\n",
    "                          price_df.resample('ME').max().iloc[:, 1],  # high\n",
    "                          price_df.resample('ME').min().iloc[:, 2],  # low\n",
    "                          price_df.resample('ME').last().iloc[:, 3:5],  # close, adj close\n",
    "                          price_df.resample('ME').mean().iloc[:, 5]],  # volume\n",
    "                         axis=1).reset_index()\n",
    "    \n",
    "    price_df['Return'] = price_df['Adj Close'].pct_change()\n",
    "    price_df['Acc Return'] = np.cumprod(1 + price_df['Return']) - 1\n",
    "    \n",
    "    stock_df = feature_dict[feature_list[0]][['Date', stock]].rename(columns={stock: feature_list[0]})\n",
    "    for feature in feature_list[1:]:\n",
    "        stock_df = stock_df.merge(feature_dict[feature][['Date', stock]].rename(columns={stock: feature}), on='Date', how='inner')\n",
    "    stock_dict[stock] = price_df.merge(stock_df, on='Date').set_index('Date')"
   ],
   "metadata": {
    "collapsed": false,
    "ExecuteTime": {
     "end_time": "2024-03-25T09:56:20.893062Z",
     "start_time": "2024-03-25T09:56:13.816087Z"
    }
   },
   "id": "9d485c89abe31e55",
   "execution_count": 10
  },
  {
   "cell_type": "code",
   "outputs": [],
   "source": [
    "if not os.path.isdir('data'):\n",
    "    os.mkdir('data')\n",
    "    os.mkdir('data/full')"
   ],
   "metadata": {
    "collapsed": false,
    "ExecuteTime": {
     "end_time": "2024-03-25T09:56:20.895664Z",
     "start_time": "2024-03-25T09:56:20.893520Z"
    }
   },
   "id": "52a4f469e4bd29e6",
   "execution_count": 11
  },
  {
   "cell_type": "code",
   "outputs": [],
   "source": [
    "for stock in stock_list:\n",
    "    stock_dict[stock].to_csv('data/full/{}_full.csv'.format(stock))"
   ],
   "metadata": {
    "collapsed": false,
    "ExecuteTime": {
     "end_time": "2024-03-25T09:56:21.578787Z",
     "start_time": "2024-03-25T09:56:20.896471Z"
    }
   },
   "id": "75689759b87563be",
   "execution_count": 12
  },
  {
   "cell_type": "code",
   "outputs": [],
   "source": [
    "pd.Series(stock_list, name='Code').to_csv('data/selected_stock_list.csv', index=None)"
   ],
   "metadata": {
    "collapsed": false,
    "ExecuteTime": {
     "end_time": "2024-03-25T09:56:21.582448Z",
     "start_time": "2024-03-25T09:56:21.579889Z"
    }
   },
   "id": "4da2d176e959fe91",
   "execution_count": 13
  },
  {
   "cell_type": "code",
   "outputs": [],
   "source": [],
   "metadata": {
    "collapsed": false
   },
   "id": "aab7ed9f93e6fa2a"
  },
  {
   "cell_type": "code",
   "outputs": [],
   "source": [
    "def backtest(stockHistory, signal, shortsell, name='capital', trackingDays=42, startDate=None, initialCapital=100, transactionCost=0.0004):\n",
    "    if startDate is None:  # starting point of tracking\n",
    "        startDate = signal.index[0]\n",
    "\n",
    "    if len(signal.loc[startDate:]) < trackingDays:\n",
    "        start = 0\n",
    "    else:\n",
    "        start = signal.index.get_loc(signal[startDate:].index[0])\n",
    "\n",
    "    capital = initialCapital\n",
    "\n",
    "    if trackingDays < len(stockHistory):\n",
    "        stockHistory = stockHistory.iloc[start:start + trackingDays]\n",
    "        signal = signal.iloc[start:start + trackingDays]\n",
    "\n",
    "    signal = numpy.array(signal, dtype='int32')\n",
    "\n",
    "    if not shortsell:\n",
    "        signal[signal == -1] = 0\n",
    "\n",
    "    position = 0\n",
    "    price = 0\n",
    "    share = 0\n",
    "\n",
    "    capitalList = np.zeros(len(stockHistory))\n",
    "    for num in range(len(stockHistory)):\n",
    "        if position == 0:\n",
    "            if signal[num] != 0:\n",
    "                price = stockHistory.iloc[num]\n",
    "                share = (1 - transactionCost) * capital / price\n",
    "        elif position == 1:\n",
    "            if signal[num] != 1:\n",
    "                price = stockHistory.iloc[num]\n",
    "                capital = share * price\n",
    "                if signal[num] == -1:\n",
    "                    share = (1 - transactionCost) * capital / price\n",
    "        elif position == -1:\n",
    "            if signal[num] != -1:\n",
    "                capital = share * (2 * price - stockHistory.iloc[num])\n",
    "                if signal[num] == 1:\n",
    "                    share = (1 - transactionCost) * capital / stockHistory.iloc[num]\n",
    "        position = signal[num]\n",
    "\n",
    "        if position == 1:\n",
    "            capital = share * stockHistory.iloc[num]\n",
    "        elif position == -1:\n",
    "            capital = share * (2 * price - stockHistory.iloc[num])\n",
    "        capitalList[num] = capital\n",
    "\n",
    "        if capital <= 0:\n",
    "            break\n",
    "\n",
    "    return pd.Series(capitalList, name=name, index=stockHistory.index), stockHistory"
   ],
   "metadata": {
    "collapsed": false
   },
   "id": "339e3202a3783a2c"
  }
 ],
 "metadata": {
  "kernelspec": {
   "display_name": "Python 3",
   "language": "python",
   "name": "python3"
  },
  "language_info": {
   "codemirror_mode": {
    "name": "ipython",
    "version": 2
   },
   "file_extension": ".py",
   "mimetype": "text/x-python",
   "name": "python",
   "nbconvert_exporter": "python",
   "pygments_lexer": "ipython2",
   "version": "2.7.6"
  }
 },
 "nbformat": 4,
 "nbformat_minor": 5
}
