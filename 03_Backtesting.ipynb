{
 "cells": [
  {
   "cell_type": "code",
   "execution_count": null,
   "id": "initial_id",
   "metadata": {
    "collapsed": true
   },
   "outputs": [],
   "source": [
    "from Ornstein_Uhlenbeck import Ornstein_Uhlenbeck\n",
    "from results_generator import *\n",
    "from scipy.stats import norm\n",
    "from statsmodels.tsa.stattools import adfuller\n",
    "import backtrader as bt\n",
    "import matplotlib.pyplot as plt\n",
    "import numpy as np\n",
    "import pandas as pd\n",
    "import pyfolio as pf\n",
    "import warnings "
   ]
  },
  {
   "cell_type": "code",
   "outputs": [],
   "source": [
    "np.seterr(all=\"ignore\")\n",
    "warnings.simplefilter('ignore', pd.errors.PerformanceWarning)"
   ],
   "metadata": {
    "collapsed": false
   },
   "id": "bc2140815e4155d9",
   "execution_count": null
  },
  {
   "cell_type": "code",
   "outputs": [],
   "source": [
    "stock_list = pd.read_csv('data/stock_list.csv')['0']\n",
    "obs = 252 # number of observations used by the model\n",
    "cash = 100000000\n",
    "commission = 0.004\n",
    "stock_dict = {}\n",
    "for stock in stock_list:\n",
    "    stock_dict[stock] = pd.read_csv('data/{}.csv'.format(stock), index_col='Date', parse_dates=['Date'])\n",
    "    stock_dict[stock]['Close'] = stock_dict[stock]['Adj Close']\n",
    "    stock_dict[stock]['Open'] = stock_dict[stock]['Adj Close'].shift(1)\n",
    "    stock_dict[stock] = stock_dict[stock].dropna()"
   ],
   "metadata": {
    "collapsed": false
   },
   "id": "f271aa197b212b90",
   "execution_count": null
  },
  {
   "cell_type": "code",
   "outputs": [],
   "source": [
    "class PandasData(bt.feeds.PandasData):\n",
    "    lines = ('open', 'high', 'low', 'close', 'volume')\n",
    "    params = (('datetime', None),\n",
    "              ('open', 0),\n",
    "              ('high', 1),\n",
    "              ('low', 2),\n",
    "              ('close', 3),\n",
    "              ('adjclose', 4),\n",
    "              ('volume', 5))"
   ],
   "metadata": {
    "collapsed": false
   },
   "id": "892d89bd4f701ac5",
   "execution_count": null
  },
  {
   "cell_type": "code",
   "outputs": [],
   "source": [
    "def get_hurst_exponent(time_series, max_lag=20):\n",
    "    lags = range(2, max_lag)\n",
    "\n",
    "    tau = [np.std(np.subtract(time_series[lag:], time_series[:-lag])) for lag in lags]\n",
    "    \n",
    "    reg = np.polyfit(np.log(lags), np.log(tau), 1)\n",
    "\n",
    "    return reg[0]"
   ],
   "metadata": {
    "collapsed": false
   },
   "id": "698c6ded0ca4fb25",
   "execution_count": null
  },
  {
   "cell_type": "code",
   "outputs": [],
   "source": [
    "class MyStrategy(bt.Strategy):\n",
    "    def __init__(self):\n",
    "        self.obs = obs\n",
    "        self.n = 0 # number of days\n",
    "        self.max_n = stock_dict[stock_list[0]].shape[0]\n",
    "        self.pos = 0 # initial position\n",
    "        self.holding_period = 0\n",
    "        self.leverage = 3\n",
    "        self.max_buy_portion = 0.9\n",
    "        \n",
    "        # stocks selection\n",
    "        self.req_corr = 0.7\n",
    "        self.req_adf = 0.01\n",
    "        self.req_hurst = 0.5\n",
    "        \n",
    "        # model settings\n",
    "        self.model = None\n",
    "        self.model_list = None\n",
    "        self.idx_list = None\n",
    "        self.a, self.b = None, None # index of Sta and Stb\n",
    "        self.z = norm.ppf(0.99)\n",
    "        \n",
    "        # logging the process\n",
    "        self.date_list = []\n",
    "        self.Xt_list = []\n",
    "        self.lb_list = []\n",
    "        self.ub_list = []\n",
    "\n",
    "    def signal_generation(self):\n",
    "        if self.model_list is None or self.n >= self.max_n - 1:\n",
    "            return 0\n",
    "        \n",
    "        if self.model is not None:\n",
    "            self.Xt = self.model.alpha * self.Sta[-1] - self.model.beta * self.Stb[-1]\n",
    "            \n",
    "            if self.holding_period > 0:\n",
    "                self.holding_period -= 1\n",
    "                return self.pos\n",
    "    \n",
    "            if self.pos == 1:\n",
    "                if self.Xt >= self.EX:\n",
    "                    return 0\n",
    "                else:\n",
    "                    return 1\n",
    "            elif self.pos == -1:\n",
    "                if self.Xt <= self.EX:\n",
    "                    return 0\n",
    "                else:\n",
    "                    return -1\n",
    "        else: # to check is the model in the model_list can start the trade\n",
    "            for i, model in enumerate(self.model_list):\n",
    "                self.Sta = np.array(self.datas[self.idx_list[i][0]].close.get(size=self.obs))\n",
    "                self.Stb = np.array(self.datas[self.idx_list[i][1]].close.get(size=self.obs))\n",
    "                self.Xt = model.alpha * self.Sta[-1] - model.beta * self.Stb[-1]\n",
    "                self.update_statistics(model)\n",
    "                if self.Xt > self.EX + self.z * np.sqrt(self.VarX):\n",
    "                    self.holding_period = 252 // 12\n",
    "                    self.model = model\n",
    "                    self.a, self.b = self.idx_list[i][0], self.idx_list[i][1]\n",
    "                    self.corr = self.corr_list[i]\n",
    "                    self.adf = self.adf_list[i]\n",
    "                    self.hurst = self.hurst_list[i]\n",
    "                    return -1\n",
    "                elif self.Xt < self.EX - self.z * np.sqrt(self.VarX):\n",
    "                    self.holding_period = 252 // 12\n",
    "                    self.model = model\n",
    "                    self.a, self.b = self.idx_list[i][0], self.idx_list[i][1]\n",
    "                    self.corr = self.corr_list[i]\n",
    "                    self.adf = self.adf_list[i]\n",
    "                    self.hurst = self.hurst_list[i]\n",
    "                    return 1\n",
    "            return 0\n",
    "    \n",
    "    def update_statistics(self, model):\n",
    "        self.EX = model.mu\n",
    "        self.VarX = model.sigma2 / (2 * model.theta)\n",
    "    \n",
    "    def renew_model_list(self):\n",
    "        stock_df = pd.DataFrame()\n",
    "        for i, stock in enumerate(stock_list):\n",
    "            stock_df[i] = np.array(self.datas[i].close.get(size=self.obs))\n",
    "        corr = stock_df.pct_change().corr()\n",
    "        model_list = []\n",
    "        idx_list = []\n",
    "        corr_list = []\n",
    "        hurst_list = []\n",
    "        adf_list = []\n",
    "        metrics_list = []\n",
    "        for i in range(len(stock_list)):\n",
    "            for j in range(i):\n",
    "                if corr[i][j] > self.req_corr: # quick test to choose the appropriate pairs\n",
    "                    model1 = Ornstein_Uhlenbeck(stock_df[i].values, stock_df[j].values)\n",
    "                    model2 = Ornstein_Uhlenbeck(stock_df[j].values, stock_df[i].values)\n",
    "                    swap = 0\n",
    "                    if model1.l is None and model2.l is None:\n",
    "                        model = None\n",
    "                    elif model1.l is None and model2.l is not None:\n",
    "                        model = model2\n",
    "                        swap = 1\n",
    "                    elif model1.l is not None and model2.l is None:\n",
    "                        model = model1\n",
    "                    else:\n",
    "                        if model1.l >= model2.l:\n",
    "                            model = model1\n",
    "                        else:\n",
    "                            model = model2\n",
    "                            swap = 1\n",
    "                    \n",
    "                    hurst = get_hurst_exponent(model.X)\n",
    "                    adf = adfuller(model.X)\n",
    "                    if hurst < self.req_hurst and adf[1] < self.req_adf:\n",
    "                        model_list.append(model)\n",
    "                        idx_list.append((i, j)) if swap == 0 else idx_list.append((j, i))\n",
    "                        corr_list.append(corr[i][j])\n",
    "                        hurst_list.append(hurst)\n",
    "                        adf_list.append(adf)\n",
    "                        metrics_list.append(hurst * adf[1] * (1 - corr[i][j]))\n",
    "        # sort based on the defined metrics \n",
    "        if len(model_list) > 0:\n",
    "            rank_list = np.argsort(metrics_list)\n",
    "            self.model_list = [model_list[i] for i in rank_list]\n",
    "            self.idx_list = [idx_list[i] for i in rank_list]\n",
    "            self.corr_list = [corr_list[i] for i in rank_list]\n",
    "            self.hurst_list = [hurst_list[i] for i in rank_list]\n",
    "            self.adf_list = [adf_list[i] for i in rank_list]\n",
    "        \n",
    "    def close_positions(self): # to close all existing positions\n",
    "        self.close(data=self.datas[self.a])\n",
    "        self.close(data=self.datas[self.b])\n",
    "    \n",
    "    def logging(self):\n",
    "        self.date_list.append(self.data.datetime.date())\n",
    "        if self.model is not None:\n",
    "            self.Xt_list.append(self.Xt)\n",
    "            self.lb_list.append(self.EX - self.z * np.sqrt(self.VarX))\n",
    "            self.ub_list.append(self.EX + self.z * np.sqrt(self.VarX))\n",
    "        else:\n",
    "            self.Xt_list.append(0)\n",
    "            self.lb_list.append(0)\n",
    "            self.ub_list.append(0)\n",
    "\n",
    "        if self.date_list[-1] == self.last_day:\n",
    "            plt.figure(figsize=(10, 6))\n",
    "            plt.plot(self.date_list, self.lb_list, label='Lower Bound')\n",
    "            plt.plot(self.date_list, self.ub_list, label='Upper Bound')\n",
    "            plt.plot(self.date_list, self.Xt_list, label=r'$X_t$')\n",
    "            plt.legend()\n",
    "    \n",
    "    def start(self):\n",
    "        self.last_day = self.data.datetime.date(-1)  # Get the last available date\n",
    "        \n",
    "    def next(self): \n",
    "        self.n += 1\n",
    "        if self.n >= self.obs:\n",
    "            if self.model_list is None:\n",
    "                self.renew_model_list()\n",
    "            if self.model is not None:\n",
    "                self.Sta = np.array(self.datas[self.a].close.get(size=self.obs))\n",
    "                self.Stb = np.array(self.datas[self.b].close.get(size=self.obs))\n",
    "            \n",
    "        self.signal = self.signal_generation()\n",
    "        \n",
    "        if self.signal != 0 and self.pos == 0:\n",
    "            print('Number of Pairs: {} | Best Pair\\'s Correlation: {:.2f} | Best Pair\\'s Hurst Exponent: {:.2f} | Best Pair\\'s p-value: {:.2f}'.format(len(self.model_list), self.corr, self.hurst, self.adf[1]))\n",
    "    \n",
    "        if self.signal == 1:\n",
    "            if self.pos == 0:\n",
    "                k = self.leverage / (self.Sta[-1] * self.model.alpha + self.model.beta * self.Stb[-1])\n",
    "                k = np.min([k, 1 / (self.model.alpha * self.Sta[-1])])\n",
    "                self.buy(data=self.datas[self.a], size=self.max_buy_portion * cerebro.broker.get_value() * self.model.alpha * k)\n",
    "                self.sell(data=self.datas[self.b], size=self.max_buy_portion * cerebro.broker.get_value() * self.model.beta * k)\n",
    "                print(\"{}: Long {} and short {} when Xt = {:.2f}\".format(self.data.datetime.date(), stock_list.loc[self.a], stock_list.loc[self.b], self.Xt))\n",
    "                \n",
    "        elif self.signal == -1:\n",
    "            if self.pos == 0:\n",
    "                k = self.leverage / (self.Sta[-1] * self.model.alpha + self.model.beta * self.Stb[-1])\n",
    "                k = np.min([k, 1 / (self.model.beta * self.Stb[-1])])\n",
    "                self.buy(data=self.datas[self.b], size=self.max_buy_portion * cerebro.broker.get_value() * self.model.beta * k)\n",
    "                self.sell(data=self.datas[self.a], size=self.max_buy_portion * cerebro.broker.get_value() * self.model.alpha * k)\n",
    "                print(\"{}: Short {} and long {} when Xt = {:.2f}\".format(self.data.datetime.date(), stock_list.loc[self.a], stock_list.loc[self.b], self.Xt))\n",
    "                \n",
    "        else: # self.signal == 0\n",
    "            if self.pos != 0:\n",
    "                self.close_positions()\n",
    "                self.model = None\n",
    "                print(\"{}: Close pair when Xt = {:.2f}\".format(self.data.datetime.date(), self.Xt))\n",
    "                \n",
    "        self.pos = self.signal\n",
    "        \n",
    "        if self.n >= self.obs:\n",
    "            self.logging()\n",
    "            \n",
    "            if self.pos == 0:\n",
    "                self.model_list = None"
   ],
   "metadata": {
    "collapsed": false
   },
   "id": "ab1097d049006c34",
   "execution_count": null
  },
  {
   "cell_type": "code",
   "outputs": [],
   "source": [
    "# backtest settings\n",
    "cerebro = bt.Cerebro()\n",
    "\n",
    "data_feed_dict = {}\n",
    "for stock in stock_list:\n",
    "    data_feed_dict[stock] = PandasData(dataname=stock_dict[stock], name=stock)\n",
    "    cerebro.adddata(data_feed_dict[stock])\n",
    "\n",
    "cerebro.addstrategy(MyStrategy)\n",
    "cerebro.broker.setcash(cash)\n",
    "cerebro.broker.setcommission(commission=commission)"
   ],
   "metadata": {
    "collapsed": false
   },
   "id": "8dc3dbe980790292",
   "execution_count": null
  },
  {
   "cell_type": "code",
   "outputs": [],
   "source": [
    "# Run the backtest\n",
    "cerebro.addanalyzer(bt.analyzers.PyFolio, _name='pyfolio')\n",
    "results = cerebro.run()\n",
    "pyfolio_analyzer = results[0].analyzers.pyfolio\n",
    "returns, positions, transactions, gross_lev = pyfolio_analyzer.get_pf_items()"
   ],
   "metadata": {
    "collapsed": false
   },
   "id": "e98709dcd01bec4",
   "execution_count": null
  },
  {
   "cell_type": "code",
   "outputs": [],
   "source": [
    "plot_portfolio_values(cash, returns)"
   ],
   "metadata": {
    "collapsed": false
   },
   "id": "854ffe32f8f0f72e",
   "execution_count": null
  },
  {
   "cell_type": "code",
   "outputs": [],
   "source": [
    "plot_underwater(returns)"
   ],
   "metadata": {
    "collapsed": false
   },
   "id": "f16851348ceadcfc",
   "execution_count": null
  },
  {
   "cell_type": "code",
   "outputs": [],
   "source": [
    "pf.create_full_tear_sheet(returns, live_start_date=stock_dict[stock_list[0]]['Close'].index[obs])"
   ],
   "metadata": {
    "collapsed": false
   },
   "id": "4d80e2caefbb7a5d",
   "execution_count": null
  }
 ],
 "metadata": {
  "kernelspec": {
   "display_name": "Python 3",
   "language": "python",
   "name": "python3"
  },
  "language_info": {
   "codemirror_mode": {
    "name": "ipython",
    "version": 2
   },
   "file_extension": ".py",
   "mimetype": "text/x-python",
   "name": "python",
   "nbconvert_exporter": "python",
   "pygments_lexer": "ipython2",
   "version": "2.7.6"
  }
 },
 "nbformat": 4,
 "nbformat_minor": 5
}
