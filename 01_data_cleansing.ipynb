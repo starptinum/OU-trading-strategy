{
 "cells": [
  {
   "cell_type": "code",
   "execution_count": 1,
   "id": "initial_id",
   "metadata": {
    "collapsed": true,
    "ExecuteTime": {
     "end_time": "2024-03-21T16:41:56.995390Z",
     "start_time": "2024-03-21T16:41:56.639693Z"
    }
   },
   "outputs": [],
   "source": [
    "from IPython.display import clear_output\n",
    "import datetime\n",
    "import numpy as np\n",
    "import os\n",
    "import pandas as pd\n",
    "import re\n",
    "import yfinance as yf"
   ]
  },
  {
   "cell_type": "code",
   "outputs": [],
   "source": [
    "stock_list = pd.read_csv('raw/stock_list.csv')['Stock']\n",
    "dtype_dict = {stock: 'float64' for stock in stock_list}\n",
    "raw_feature_dict = pd.read_excel(os.getcwd() + '/raw/bbg_data.xlsm', sheet_name=None, dtype=dtype_dict, skiprows=4)\n",
    "raw_feature_dict.update(pd.read_excel(os.getcwd() + '/raw/Bloomberg20032024data_raw.xlsx', sheet_name=None, dtype=dtype_dict, skiprows=4))\n",
    "feature_list = list(raw_feature_dict.keys())"
   ],
   "metadata": {
    "collapsed": false,
    "ExecuteTime": {
     "end_time": "2024-03-21T16:45:29.809191Z",
     "start_time": "2024-03-21T16:41:56.996631Z"
    }
   },
   "id": "80f0622d9db2ee1e",
   "execution_count": 2
  },
  {
   "cell_type": "markdown",
   "source": [
    "Merge the dataset with one time index"
   ],
   "metadata": {
    "collapsed": false
   },
   "id": "b8d5d47c573c5b2e"
  },
  {
   "cell_type": "code",
   "outputs": [],
   "source": [
    "feature_dict = {}\n",
    "for i in feature_list:\n",
    "    df = raw_feature_dict[i]\n",
    "    columns_list = list(df.columns)\n",
    "    for num, col in enumerate(columns_list):\n",
    "        if num % 2 == 0:\n",
    "            columns_list[num] = 'Date'\n",
    "    df.columns = columns_list\n",
    "    df = df.astype({'Date':'datetime64[ns]'})\n",
    "    df_merge = pd.merge(df.iloc[:, :2].dropna(), df.iloc[:, 2:4].dropna(), on='Date', how='outer')\n",
    "    for j in range(len(columns_list) // 2 - 2):\n",
    "        df_merge = df_merge.merge(df.iloc[:, 2 * j + 4:2 * j + 6].dropna(), on='Date', how='outer')\n",
    "    feature_dict[i] = df_merge"
   ],
   "metadata": {
    "collapsed": false,
    "ExecuteTime": {
     "end_time": "2024-03-21T16:45:44.277028Z",
     "start_time": "2024-03-21T16:45:29.810554Z"
    }
   },
   "id": "22faa9b6562564ab",
   "execution_count": 3
  },
  {
   "cell_type": "markdown",
   "source": [
    "Fill the missing values of each feature"
   ],
   "metadata": {
    "collapsed": false
   },
   "id": "c4a857acf4ff0e77"
  },
  {
   "cell_type": "code",
   "outputs": [],
   "source": [
    "for i in feature_list:\n",
    "    # to do\n",
    "    feature_df = feature_dict[i].set_index('Date').ffill().resample('ME').last().ffill()\n",
    "    feature_dict[i] = feature_df.reset_index()"
   ],
   "metadata": {
    "collapsed": false,
    "ExecuteTime": {
     "end_time": "2024-03-21T16:45:44.409420Z",
     "start_time": "2024-03-21T16:45:44.278163Z"
    }
   },
   "id": "f8bf9a72bfc98cde",
   "execution_count": 4
  },
  {
   "cell_type": "markdown",
   "source": [
    "Remove stock if the missing proportion $> 0.05$"
   ],
   "metadata": {
    "collapsed": false
   },
   "id": "d8eb7c3670cef9fb"
  },
  {
   "cell_type": "code",
   "outputs": [],
   "source": [
    "def missing_portion(df, start=(2012, 12, 31), end=(2023, 12, 31)):\n",
    "    df = df[df['Date'].ge(datetime.datetime(*start)) & df['Date'].le(datetime.datetime(*end))]\n",
    "    return np.sum(df.set_index('Date').isna(), axis=0) / df.shape[0]"
   ],
   "metadata": {
    "collapsed": false,
    "ExecuteTime": {
     "end_time": "2024-03-21T16:45:44.412248Z",
     "start_time": "2024-03-21T16:45:44.410205Z"
    }
   },
   "id": "3d5c9286038fd68d",
   "execution_count": 5
  },
  {
   "cell_type": "code",
   "outputs": [],
   "source": [
    "removed_stock_list = []\n",
    "for i in feature_list:\n",
    "    # to do\n",
    "    missing_series = missing_portion(feature_dict[i])\n",
    "    removed_stock_list += list(missing_series[missing_series >= 0.02].index)\n",
    "removed_stock_list = list(dict.fromkeys(removed_stock_list))"
   ],
   "metadata": {
    "collapsed": false,
    "ExecuteTime": {
     "end_time": "2024-03-21T16:45:44.427948Z",
     "start_time": "2024-03-21T16:45:44.413150Z"
    }
   },
   "id": "352e48c353fe51f8",
   "execution_count": 6
  },
  {
   "cell_type": "code",
   "outputs": [],
   "source": [
    "selected_stock_list = stock_list.copy()\n",
    "for i in removed_stock_list:\n",
    "    selected_stock_list.drop(selected_stock_list[selected_stock_list.eq(i)].index, inplace=True)"
   ],
   "metadata": {
    "collapsed": false,
    "ExecuteTime": {
     "end_time": "2024-03-21T16:45:44.450721Z",
     "start_time": "2024-03-21T16:45:44.432149Z"
    }
   },
   "id": "698e03926694638c",
   "execution_count": 7
  },
  {
   "cell_type": "code",
   "outputs": [],
   "source": [
    "for i in feature_list:\n",
    "    feature_dict[i] = feature_dict[i][pd.concat((pd.Series(['Date']), selected_stock_list))].dropna()"
   ],
   "metadata": {
    "collapsed": false,
    "ExecuteTime": {
     "end_time": "2024-03-21T16:45:44.465163Z",
     "start_time": "2024-03-21T16:45:44.452789Z"
    }
   },
   "id": "a607258b847027ab",
   "execution_count": 8
  },
  {
   "cell_type": "code",
   "outputs": [],
   "source": [
    "if not os.path.isdir('data'):\n",
    "    os.mkdir('data')\n",
    "    os.mkdir('data/price')\n",
    "    os.mkdir('data/full')"
   ],
   "metadata": {
    "collapsed": false,
    "ExecuteTime": {
     "end_time": "2024-03-21T16:45:44.467582Z",
     "start_time": "2024-03-21T16:45:44.465258Z"
    }
   },
   "id": "b671eb97f68d7636",
   "execution_count": 9
  },
  {
   "cell_type": "code",
   "outputs": [
    {
     "name": "stderr",
     "output_type": "stream",
     "text": [
      "[*********************100%%**********************]  1 of 1 completed\n"
     ]
    }
   ],
   "source": [
    "start = '2012-12-31'\n",
    "end = '2023-12-31'\n",
    "price_dict = {}\n",
    "for i in stock_list:\n",
    "    code = re.sub(r'/', '-', i.split(' ')[0])\n",
    "    price_df = yf.download(code, start=start, end=end, interval='1d')\n",
    "    clear_output(wait=True)\n",
    "    price_df.to_csv('data/price/{}_price.csv'.format(code))\n",
    "    price_dict[i] = price_df"
   ],
   "metadata": {
    "collapsed": false
   },
   "id": "a8780eb5eae1bbd6",
   "execution_count": 10
  },
  {
   "cell_type": "code",
   "outputs": [],
   "source": [
    "code_list = selected_stock_list.apply(lambda x: re.sub(r'/', '-', x.split(' ')[0])).rename('Code')\n",
    "pd.concat([selected_stock_list, code_list], axis=1).to_csv('data/selected_stock_list.csv', index=None)\n",
    "\n",
    "stock_dict = {}\n",
    "for num, i in enumerate(selected_stock_list):\n",
    "    code = code_list.iloc[num]\n",
    "    price_df = price_dict[i]\n",
    "    price_df = pd.concat([price_df.resample('ME').first().iloc[:, 0], # open\n",
    "                          price_df.resample('ME').max().iloc[:, 1], # high\n",
    "                          price_df.resample('ME').min().iloc[:, 2], # low\n",
    "                          price_df.resample('ME').last().iloc[:, 3:5], # close, adj close\n",
    "                          price_df.resample('ME').mean().iloc[:, 5]], # volume\n",
    "                         axis=1).reset_index()\n",
    "\n",
    "    stock_df = feature_dict[feature_list[0]][['Date', i]].rename(columns={i: feature_list[0]})\n",
    "    for j in feature_list[1:]:\n",
    "        stock_df = stock_df.merge(feature_dict[j][['Date', i]].rename(columns={i: j}), on='Date', how='inner')\n",
    "\n",
    "    stock_dict[i] = price_df.merge(stock_df, on='Date')\n",
    "    stock_dict[i].set_index('Date').to_csv('data/full/{}_full.csv'.format(code))"
   ],
   "metadata": {
    "collapsed": false,
    "ExecuteTime": {
     "end_time": "2024-03-21T16:47:25.760091Z",
     "start_time": "2024-03-21T16:47:18.365320Z"
    }
   },
   "id": "504538e20591b552",
   "execution_count": 11
  }
 ],
 "metadata": {
  "kernelspec": {
   "display_name": "Python 3",
   "language": "python",
   "name": "python3"
  },
  "language_info": {
   "codemirror_mode": {
    "name": "ipython",
    "version": 2
   },
   "file_extension": ".py",
   "mimetype": "text/x-python",
   "name": "python",
   "nbconvert_exporter": "python",
   "pygments_lexer": "ipython2",
   "version": "2.7.6"
  }
 },
 "nbformat": 4,
 "nbformat_minor": 5
}
