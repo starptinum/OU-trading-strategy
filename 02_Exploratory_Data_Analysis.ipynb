{
 "cells": [
  {
   "cell_type": "code",
   "outputs": [],
   "source": [
    "import datetime\n",
    "import numpy as np\n",
    "import os\n",
    "import pandas as pd"
   ],
   "metadata": {
    "collapsed": false,
    "ExecuteTime": {
     "end_time": "2024-03-23T11:40:29.349380Z",
     "start_time": "2024-03-23T11:40:29.062503Z"
    }
   },
   "id": "6833cc2c81779474",
   "execution_count": 1
  },
  {
   "cell_type": "code",
   "outputs": [],
   "source": [
    "feature_list = [file[:-4] for file in os.listdir('preprocessing/feature')]\n",
    "feature_dict = {}\n",
    "for feature in feature_list:\n",
    "    feature_dict[feature] = pd.read_csv('preprocessing/feature/{}.csv'.format(feature)).astype({'Date':'datetime64[ns]'})\n",
    "\n",
    "stock_list = [file[:-4] for file in os.listdir('preprocessing/price')]\n",
    "price_dict = {}\n",
    "for stock in stock_list:\n",
    "    price_dict[stock] = pd.read_csv('preprocessing/price/{}.csv'.format(stock), index_col='Date', parse_dates=['Date'])"
   ],
   "metadata": {
    "collapsed": false,
    "ExecuteTime": {
     "end_time": "2024-03-23T11:40:32.406041Z",
     "start_time": "2024-03-23T11:40:29.351830Z"
    }
   },
   "id": "d4a014f91908b535",
   "execution_count": 2
  },
  {
   "cell_type": "code",
   "outputs": [],
   "source": [
    "def missing_portion(df, start=(2012, 12, 31), end=(2023, 12, 31)):\n",
    "    df = df[df['Date'].ge(datetime.datetime(*start)) & df['Date'].le(datetime.datetime(*end))]\n",
    "    return np.sum(df.set_index('Date').isna(), axis=0) / df.shape[0]"
   ],
   "metadata": {
    "collapsed": false,
    "ExecuteTime": {
     "end_time": "2024-03-23T11:40:32.410395Z",
     "start_time": "2024-03-23T11:40:32.407293Z"
    }
   },
   "id": "8de44e41a21f3d61",
   "execution_count": 3
  },
  {
   "cell_type": "markdown",
   "source": [
    "The following codes may not be corrected if more features are included!"
   ],
   "metadata": {
    "collapsed": false
   },
   "id": "8a746623b57d04ad"
  },
  {
   "cell_type": "code",
   "outputs": [],
   "source": [
    "freq_dict = {}\n",
    "for feature in feature_list:\n",
    "    feature_df = feature_dict[feature].copy()\n",
    "    feature_df = feature_df[['Date', missing_portion(feature_df).idxmin()]].dropna()\n",
    "    average_timedelta = feature_df['Date'].diff().mean()\n",
    "    if average_timedelta < pd.Timedelta(days=2):\n",
    "        freq_dict[feature] = 'D'\n",
    "    elif average_timedelta < pd.Timedelta(days=8):\n",
    "        freq_dict[feature] = 'W'\n",
    "    elif average_timedelta < pd.Timedelta(days=16):\n",
    "        freq_dict[feature] = '2W'\n",
    "    elif average_timedelta < pd.Timedelta(days=93):\n",
    "        freq_dict[feature] = 'QE'"
   ],
   "metadata": {
    "collapsed": false,
    "ExecuteTime": {
     "end_time": "2024-03-23T11:40:32.542058Z",
     "start_time": "2024-03-23T11:40:32.412302Z"
    }
   },
   "id": "c93ab27978590dc",
   "execution_count": 4
  },
  {
   "cell_type": "markdown",
   "source": [
    "Fill in the missing values of each feature (to do)"
   ],
   "metadata": {
    "collapsed": false
   },
   "id": "d7da7f57f5b4bcd5"
  },
  {
   "cell_type": "markdown",
   "source": [
    "References:\n",
    "1. https://medium.com/@aaabulkhair/data-imputation-demystified-time-series-data-69bc9c798cb7\n",
    "2. https://scikit-learn.org/stable/modules/impute.html"
   ],
   "metadata": {
    "collapsed": false
   },
   "id": "f3b44a6db68b69c3"
  },
  {
   "cell_type": "code",
   "execution_count": 5,
   "id": "initial_id",
   "metadata": {
    "collapsed": true,
    "ExecuteTime": {
     "end_time": "2024-03-23T11:40:32.546041Z",
     "start_time": "2024-03-23T11:40:32.542370Z"
    }
   },
   "outputs": [],
   "source": [
    "# for feature in feature_list:\n",
    "#     feature_df = feature_dict[feature].set_index('Date').ffill().resample(freq_dict[feature]).last() # bi-weekly data may return lagged data\n",
    "#     feature_dict[feature] = feature_df.reset_index()"
   ]
  },
  {
   "cell_type": "markdown",
   "source": [
    "Feature Engineering (to do)"
   ],
   "metadata": {
    "collapsed": false
   },
   "id": "396c69abbd0b4fe5"
  },
  {
   "cell_type": "code",
   "outputs": [],
   "source": [],
   "metadata": {
    "collapsed": false,
    "ExecuteTime": {
     "end_time": "2024-03-23T11:40:32.546832Z",
     "start_time": "2024-03-23T11:40:32.544109Z"
    }
   },
   "id": "2bb98dd6490eb908",
   "execution_count": 5
  },
  {
   "cell_type": "markdown",
   "source": [
    "Resample the feature to a monthly dataframe"
   ],
   "metadata": {
    "collapsed": false
   },
   "id": "c87a5f37d978f1ea"
  },
  {
   "cell_type": "code",
   "outputs": [],
   "source": [
    "for feature in feature_list:\n",
    "    feature_df = feature_dict[feature].set_index('Date').ffill().resample('ME').last().ffill()\n",
    "    feature_dict[feature] = feature_df.reset_index()"
   ],
   "metadata": {
    "collapsed": false,
    "ExecuteTime": {
     "end_time": "2024-03-23T11:40:32.714433Z",
     "start_time": "2024-03-23T11:40:32.546662Z"
    }
   },
   "id": "a7793e33538886d6",
   "execution_count": 6
  },
  {
   "cell_type": "markdown",
   "source": [
    "Remove stock if the missing proportion $\\ge0.02$ (to do)"
   ],
   "metadata": {
    "collapsed": false
   },
   "id": "d987e3d6e42c807f"
  },
  {
   "cell_type": "code",
   "outputs": [],
   "source": [
    "removed_stock_list = []\n",
    "for feature in feature_list:\n",
    "    missing_series = missing_portion(feature_dict[feature])\n",
    "    removed_stock_list += list(missing_series[missing_series >= 0.02].index)\n",
    "removed_stock_list = list(dict.fromkeys(removed_stock_list))"
   ],
   "metadata": {
    "collapsed": false,
    "ExecuteTime": {
     "end_time": "2024-03-23T11:40:32.729720Z",
     "start_time": "2024-03-23T11:40:32.713937Z"
    }
   },
   "id": "e9ce05e30b931781",
   "execution_count": 7
  },
  {
   "cell_type": "code",
   "outputs": [],
   "source": [
    "for stock in removed_stock_list:\n",
    "    stock_list.remove(stock)"
   ],
   "metadata": {
    "collapsed": false,
    "ExecuteTime": {
     "end_time": "2024-03-23T11:40:32.733775Z",
     "start_time": "2024-03-23T11:40:32.730256Z"
    }
   },
   "id": "47a764e06f05b986",
   "execution_count": 8
  },
  {
   "cell_type": "code",
   "outputs": [],
   "source": [
    "for feature in feature_list:\n",
    "    feature_dict[feature] = feature_dict[feature][['Date'] + stock_list].dropna()"
   ],
   "metadata": {
    "collapsed": false,
    "ExecuteTime": {
     "end_time": "2024-03-23T11:40:32.747430Z",
     "start_time": "2024-03-23T11:40:32.735452Z"
    }
   },
   "id": "dc606f79b07f2b9f",
   "execution_count": 9
  },
  {
   "cell_type": "markdown",
   "source": [
    "Resample stock price to a monthly dataframe and merge it to the features"
   ],
   "metadata": {
    "collapsed": false
   },
   "id": "21d0ae47d5cf339e"
  },
  {
   "cell_type": "code",
   "outputs": [],
   "source": [
    "stock_dict = {}\n",
    "for i, stock in enumerate(stock_list):\n",
    "    price_df = price_dict[stock]\n",
    "    price_df = pd.concat([price_df.resample('ME').first().iloc[:, 0],  # open\n",
    "                          price_df.resample('ME').max().iloc[:, 1],  # high\n",
    "                          price_df.resample('ME').min().iloc[:, 2],  # low\n",
    "                          price_df.resample('ME').last().iloc[:, 3:5],  # close, adj close\n",
    "                          price_df.resample('ME').mean().iloc[:, 5]],  # volume\n",
    "                         axis=1).reset_index()\n",
    "\n",
    "    stock_df = feature_dict[feature_list[0]][['Date', stock]].rename(columns={stock: feature_list[0]})\n",
    "    for feature in feature_list[1:]:\n",
    "        stock_df = stock_df.merge(feature_dict[feature][['Date', stock]].rename(columns={stock: feature}), on='Date', how='inner')\n",
    "    stock_dict[stock] = price_df.merge(stock_df, on='Date').set_index('Date')"
   ],
   "metadata": {
    "collapsed": false,
    "ExecuteTime": {
     "end_time": "2024-03-23T11:40:38.820885Z",
     "start_time": "2024-03-23T11:40:32.751458Z"
    }
   },
   "id": "9d485c89abe31e55",
   "execution_count": 10
  },
  {
   "cell_type": "code",
   "outputs": [],
   "source": [
    "if not os.path.isdir('data'):\n",
    "    os.mkdir('data')\n",
    "    os.mkdir('data/full')"
   ],
   "metadata": {
    "collapsed": false,
    "ExecuteTime": {
     "end_time": "2024-03-23T11:40:38.824887Z",
     "start_time": "2024-03-23T11:40:38.821123Z"
    }
   },
   "id": "52a4f469e4bd29e6",
   "execution_count": 11
  },
  {
   "cell_type": "code",
   "outputs": [],
   "source": [
    "for stock in stock_list:\n",
    "    stock_dict[stock].to_csv('data/full/{}_full.csv'.format(stock))"
   ],
   "metadata": {
    "collapsed": false,
    "ExecuteTime": {
     "end_time": "2024-03-23T11:40:39.435841Z",
     "start_time": "2024-03-23T11:40:38.824382Z"
    }
   },
   "id": "75689759b87563be",
   "execution_count": 12
  },
  {
   "cell_type": "code",
   "outputs": [],
   "source": [
    "pd.Series(stock_list, name='Code').to_csv('data/selected_stock_list.csv', index=None)"
   ],
   "metadata": {
    "collapsed": false,
    "ExecuteTime": {
     "end_time": "2024-03-23T11:40:39.439687Z",
     "start_time": "2024-03-23T11:40:39.436519Z"
    }
   },
   "id": "4da2d176e959fe91",
   "execution_count": 13
  }
 ],
 "metadata": {
  "kernelspec": {
   "display_name": "Python 3",
   "language": "python",
   "name": "python3"
  },
  "language_info": {
   "codemirror_mode": {
    "name": "ipython",
    "version": 2
   },
   "file_extension": ".py",
   "mimetype": "text/x-python",
   "name": "python",
   "nbconvert_exporter": "python",
   "pygments_lexer": "ipython2",
   "version": "2.7.6"
  }
 },
 "nbformat": 4,
 "nbformat_minor": 5
}
